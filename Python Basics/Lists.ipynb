{
 "cells": [
  {
   "cell_type": "markdown",
   "id": "1c48fc77-0748-46ea-9f4d-3601128cb0e8",
   "metadata": {},
   "source": [
    "<center><h1><b>Lists</b></h1></center>"
   ]
  },
  {
   "cell_type": "code",
   "execution_count": 1,
   "id": "db08fe49-bdfc-4272-9dae-b94376447547",
   "metadata": {},
   "outputs": [],
   "source": [
    "# Let's begin"
   ]
  },
  {
   "cell_type": "markdown",
   "id": "ba12f536-2a00-43ec-94d5-3d3868a4264d",
   "metadata": {},
   "source": [
    "## **The List Data Type**"
   ]
  },
  {
   "cell_type": "markdown",
   "id": "854351ee-c2bd-4978-be86-2f7ee22e622a",
   "metadata": {},
   "source": [
    "A list is a value that contains multiple values in an ordered sequence. The\n",
    "term list value refers to the list itself (which is a value that can be stored in a\n",
    "variable or passed to a function like any other value), not the values inside\n",
    "the list value. A list value looks like this: ['cat', 'bat', 'rat', 'elephant'].\n",
    "Just as string values are typed with quote characters to mark where the\n",
    "string begins and ends, a list begins with an opening square bracket and\n",
    "ends with a closing square bracket, [  ].\n",
    "\n",
    "Values inside the list are also called\n",
    "items. Items are separated with commas (that is, they are comma-delimited)."
   ]
  },
  {
   "cell_type": "code",
   "execution_count": 2,
   "id": "7f86d0a9-5cb1-4bc2-a77b-422262ac1217",
   "metadata": {},
   "outputs": [
    {
     "data": {
      "text/plain": [
       "[1, 2, 3]"
      ]
     },
     "execution_count": 2,
     "metadata": {},
     "output_type": "execute_result"
    }
   ],
   "source": [
    "[1,2,3]"
   ]
  },
  {
   "cell_type": "code",
   "execution_count": 3,
   "id": "b776c3e0-31d7-45ed-a116-a4937c68d917",
   "metadata": {},
   "outputs": [
    {
     "data": {
      "text/plain": [
       "['cat', 'bat', 'rat', 'elephant']"
      ]
     },
     "execution_count": 3,
     "metadata": {},
     "output_type": "execute_result"
    }
   ],
   "source": [
    "['cat', 'bat', 'rat', 'elephant']"
   ]
  },
  {
   "cell_type": "code",
   "execution_count": 4,
   "id": "fc6317aa-ba1a-4d64-9de1-fa2451dfab9b",
   "metadata": {},
   "outputs": [
    {
     "data": {
      "text/plain": [
       "['hello', 3.1415, True, None, 42]"
      ]
     },
     "execution_count": 4,
     "metadata": {},
     "output_type": "execute_result"
    }
   ],
   "source": [
    "['hello', 3.1415, True, None, 42]"
   ]
  },
  {
   "cell_type": "code",
   "execution_count": 5,
   "id": "fbf6ada7-1d0b-44f0-893a-182ec6953e93",
   "metadata": {},
   "outputs": [],
   "source": [
    "# Lists can also be stored in a variable."
   ]
  },
  {
   "cell_type": "code",
   "execution_count": 6,
   "id": "1d28be9a-69c6-486e-9097-b828e8d9409b",
   "metadata": {},
   "outputs": [],
   "source": [
    "spam = ['cat', 'bat', 'rat', 'elephant'];"
   ]
  },
  {
   "cell_type": "code",
   "execution_count": 7,
   "id": "55ea7603-2ec7-4a86-b764-327cf456d0a6",
   "metadata": {},
   "outputs": [
    {
     "data": {
      "text/plain": [
       "['cat', 'bat', 'rat', 'elephant']"
      ]
     },
     "execution_count": 7,
     "metadata": {},
     "output_type": "execute_result"
    }
   ],
   "source": [
    "spam"
   ]
  },
  {
   "cell_type": "code",
   "execution_count": null,
   "id": "50617761-9afa-47ff-a4bf-c0b669ce850d",
   "metadata": {},
   "outputs": [],
   "source": []
  },
  {
   "cell_type": "markdown",
   "id": "1a1104d4-4943-45ed-b6b5-edbd5ddaddf1",
   "metadata": {},
   "source": [
    "### Getting Individual Values in a List with Indexes"
   ]
  },
  {
   "cell_type": "code",
   "execution_count": 8,
   "id": "53ea3a44-974a-4fc3-98c8-b3ebc7457a25",
   "metadata": {},
   "outputs": [],
   "source": [
    "# consider the spam List"
   ]
  },
  {
   "cell_type": "code",
   "execution_count": 9,
   "id": "a2b98472-0206-4f73-b061-4e29a5a6756b",
   "metadata": {},
   "outputs": [
    {
     "data": {
      "text/plain": [
       "['cat', 'bat', 'rat', 'elephant']"
      ]
     },
     "execution_count": 9,
     "metadata": {},
     "output_type": "execute_result"
    }
   ],
   "source": [
    "spam"
   ]
  },
  {
   "cell_type": "code",
   "execution_count": 10,
   "id": "055b130e-90a3-456e-bafa-436e77631273",
   "metadata": {},
   "outputs": [],
   "source": [
    "# let's try accessing individual items using indexes"
   ]
  },
  {
   "cell_type": "code",
   "execution_count": 11,
   "id": "2af19f12-1b69-4b34-89ab-a4b8577902ea",
   "metadata": {},
   "outputs": [
    {
     "data": {
      "text/plain": [
       "'cat'"
      ]
     },
     "execution_count": 11,
     "metadata": {},
     "output_type": "execute_result"
    }
   ],
   "source": [
    "spam[0]"
   ]
  },
  {
   "cell_type": "code",
   "execution_count": 12,
   "id": "9aa76f40-bdf4-400c-9db1-d9a860642961",
   "metadata": {},
   "outputs": [
    {
     "data": {
      "text/plain": [
       "'rat'"
      ]
     },
     "execution_count": 12,
     "metadata": {},
     "output_type": "execute_result"
    }
   ],
   "source": [
    "spam[2]"
   ]
  },
  {
   "cell_type": "code",
   "execution_count": 13,
   "id": "9d3dd6cb-323f-429b-a73e-0fc62cb35f43",
   "metadata": {},
   "outputs": [
    {
     "data": {
      "text/plain": [
       "'elephant'"
      ]
     },
     "execution_count": 13,
     "metadata": {},
     "output_type": "execute_result"
    }
   ],
   "source": [
    "spam[3]"
   ]
  },
  {
   "cell_type": "code",
   "execution_count": 14,
   "id": "c76cad39-8b70-42ea-81d1-68e6b74cdbf6",
   "metadata": {},
   "outputs": [],
   "source": [
    "# let's try something more"
   ]
  },
  {
   "cell_type": "code",
   "execution_count": 15,
   "id": "bc548f46-16f1-4cba-a5d8-1dd750b19263",
   "metadata": {},
   "outputs": [
    {
     "data": {
      "text/plain": [
       "'My cat'"
      ]
     },
     "execution_count": 15,
     "metadata": {},
     "output_type": "execute_result"
    }
   ],
   "source": [
    "'My ' + spam[0]"
   ]
  },
  {
   "cell_type": "code",
   "execution_count": 16,
   "id": "9e3ba8f5-8d58-46cc-9dfe-c8a53b1a091a",
   "metadata": {},
   "outputs": [],
   "source": [
    "# when you access an index that's not available, you get the following"
   ]
  },
  {
   "cell_type": "code",
   "execution_count": 17,
   "id": "7b94ad61-7280-4db3-8ba7-46d5806ff6c2",
   "metadata": {},
   "outputs": [
    {
     "ename": "IndexError",
     "evalue": "list index out of range",
     "output_type": "error",
     "traceback": [
      "\u001b[0;31m---------------------------------------------------------------------------\u001b[0m",
      "\u001b[0;31mIndexError\u001b[0m                                Traceback (most recent call last)",
      "Cell \u001b[0;32mIn[17], line 1\u001b[0m\n\u001b[0;32m----> 1\u001b[0m \u001b[43mspam\u001b[49m\u001b[43m[\u001b[49m\u001b[38;5;241;43m1000\u001b[39;49m\u001b[43m]\u001b[49m\n",
      "\u001b[0;31mIndexError\u001b[0m: list index out of range"
     ]
    }
   ],
   "source": [
    "spam[1000]"
   ]
  },
  {
   "cell_type": "code",
   "execution_count": null,
   "id": "7f117bd7-9d52-42f6-af62-c368833d318b",
   "metadata": {},
   "outputs": [],
   "source": []
  },
  {
   "cell_type": "code",
   "execution_count": null,
   "id": "56e05628-e2e4-479c-8fb0-e334d2066ed7",
   "metadata": {},
   "outputs": [],
   "source": []
  },
  {
   "cell_type": "markdown",
   "id": "93247196-8aa3-4ac5-88ee-4a13e145fe93",
   "metadata": {},
   "source": [
    "#### List can also contain other list values`"
   ]
  },
  {
   "cell_type": "code",
   "execution_count": 20,
   "id": "10ced6b3-6ee1-481a-aa09-4116e2537471",
   "metadata": {},
   "outputs": [],
   "source": [
    "spam = [['cat','Dog','Elephant'],'Class','Cafeteria',['Mangoes','Bananas','Pinaples']]"
   ]
  },
  {
   "cell_type": "code",
   "execution_count": 21,
   "id": "89922984-da7b-4308-818a-d4c7d0fa04fb",
   "metadata": {},
   "outputs": [],
   "source": [
    "# let's access 'Bananas'"
   ]
  },
  {
   "cell_type": "code",
   "execution_count": 22,
   "id": "ebd40665-4814-4c97-bf39-7cba58b480ee",
   "metadata": {},
   "outputs": [
    {
     "data": {
      "text/plain": [
       "'Bananas'"
      ]
     },
     "execution_count": 22,
     "metadata": {},
     "output_type": "execute_result"
    }
   ],
   "source": [
    "spam[3][1]"
   ]
  },
  {
   "cell_type": "code",
   "execution_count": 23,
   "id": "77118974-1f96-4730-b333-8d245d88e247",
   "metadata": {},
   "outputs": [],
   "source": [
    "# for 'Dog'"
   ]
  },
  {
   "cell_type": "code",
   "execution_count": 24,
   "id": "9432ac45-fb9e-4a32-8458-47a84304e2c4",
   "metadata": {},
   "outputs": [
    {
     "data": {
      "text/plain": [
       "'Dog'"
      ]
     },
     "execution_count": 24,
     "metadata": {},
     "output_type": "execute_result"
    }
   ],
   "source": [
    "spam[0][1]"
   ]
  },
  {
   "cell_type": "code",
   "execution_count": 25,
   "id": "383e0537-b47d-40cc-b69c-daf453cfc512",
   "metadata": {},
   "outputs": [
    {
     "data": {
      "text/plain": [
       "['cat', 'Dog', 'Elephant']"
      ]
     },
     "execution_count": 25,
     "metadata": {},
     "output_type": "execute_result"
    }
   ],
   "source": [
    "spam[0]"
   ]
  },
  {
   "cell_type": "code",
   "execution_count": null,
   "id": "88746ad0-91b0-4af9-ac9a-a85b1e1255a6",
   "metadata": {},
   "outputs": [],
   "source": []
  },
  {
   "cell_type": "markdown",
   "id": "f501d305-c791-466e-bb22-e2bf874c2625",
   "metadata": {},
   "source": [
    "### **Negative Indexes**"
   ]
  },
  {
   "cell_type": "markdown",
   "id": "7be5091f-fb82-4dc8-bd7a-444cc1c916d0",
   "metadata": {},
   "source": [
    "While indexes start at 0 and go up, you can also use negative integers for\n",
    "the index. The integer value -1 refers to the last index in a list, the value -2\n",
    "refers to the second-to-last index in a list, and so on."
   ]
  },
  {
   "cell_type": "code",
   "execution_count": 26,
   "id": "d60d6869-011b-430a-8733-be948d388bc6",
   "metadata": {},
   "outputs": [],
   "source": [
    "# consider the following list"
   ]
  },
  {
   "cell_type": "code",
   "execution_count": 27,
   "id": "9799a6f3-2e1f-499f-aed4-6fe0fdadcd09",
   "metadata": {},
   "outputs": [],
   "source": [
    "spam = ['cat', 'bat', 'rat', 'elephant']"
   ]
  },
  {
   "cell_type": "code",
   "execution_count": null,
   "id": "e3f0e915-26dc-45bd-8d91-56f79e3395ba",
   "metadata": {},
   "outputs": [],
   "source": []
  },
  {
   "cell_type": "code",
   "execution_count": 28,
   "id": "2f418eeb-60fc-45bd-b290-a6ea7e6ab44d",
   "metadata": {},
   "outputs": [
    {
     "data": {
      "text/plain": [
       "'elephant'"
      ]
     },
     "execution_count": 28,
     "metadata": {},
     "output_type": "execute_result"
    }
   ],
   "source": [
    "spam[-1]"
   ]
  },
  {
   "cell_type": "code",
   "execution_count": 29,
   "id": "103a5aa3-4268-472b-b0b6-212d366ba876",
   "metadata": {},
   "outputs": [
    {
     "data": {
      "text/plain": [
       "'rat'"
      ]
     },
     "execution_count": 29,
     "metadata": {},
     "output_type": "execute_result"
    }
   ],
   "source": [
    "spam[-2]"
   ]
  },
  {
   "cell_type": "code",
   "execution_count": 30,
   "id": "f78a9a42-4c77-434b-a494-a75c65652d5a",
   "metadata": {},
   "outputs": [
    {
     "data": {
      "text/plain": [
       "'bat'"
      ]
     },
     "execution_count": 30,
     "metadata": {},
     "output_type": "execute_result"
    }
   ],
   "source": [
    "spam[-3]"
   ]
  },
  {
   "cell_type": "code",
   "execution_count": null,
   "id": "0085770f-345e-431d-92cc-6d3dbdad38ba",
   "metadata": {},
   "outputs": [],
   "source": []
  },
  {
   "cell_type": "markdown",
   "id": "72679647-0aa1-44d9-bf20-57f278ecfa05",
   "metadata": {},
   "source": [
    "### **Getting Sublists with Slices**"
   ]
  },
  {
   "cell_type": "code",
   "execution_count": null,
   "id": "8700ab24-7790-4852-8e6e-f7719cb45a2a",
   "metadata": {},
   "outputs": [],
   "source": []
  },
  {
   "cell_type": "code",
   "execution_count": 31,
   "id": "b615b5bb-639e-4e4f-aa7a-7e346c6da875",
   "metadata": {},
   "outputs": [],
   "source": [
    "# consider this :"
   ]
  },
  {
   "cell_type": "code",
   "execution_count": null,
   "id": "3b6e4aa2-d3a1-41f0-b380-c1b9cd328b24",
   "metadata": {},
   "outputs": [],
   "source": []
  },
  {
   "cell_type": "code",
   "execution_count": 32,
   "id": "9042e4e8-dd95-41bc-a442-501a7356b6a9",
   "metadata": {},
   "outputs": [],
   "source": [
    "spam = ['cat', 'bat', 'rat', 'elephant']"
   ]
  },
  {
   "cell_type": "code",
   "execution_count": 33,
   "id": "fcb045bc-572f-45be-87ff-3a858543fc5a",
   "metadata": {},
   "outputs": [
    {
     "data": {
      "text/plain": [
       "['bat', 'rat']"
      ]
     },
     "execution_count": 33,
     "metadata": {},
     "output_type": "execute_result"
    }
   ],
   "source": [
    "spam[1:3]"
   ]
  },
  {
   "cell_type": "code",
   "execution_count": 34,
   "id": "6cc2034b-a5f7-46b0-af67-db9aad6b0cbe",
   "metadata": {},
   "outputs": [
    {
     "data": {
      "text/plain": [
       "['cat', 'bat', 'rat']"
      ]
     },
     "execution_count": 34,
     "metadata": {},
     "output_type": "execute_result"
    }
   ],
   "source": [
    "spam[0:-1]"
   ]
  },
  {
   "cell_type": "code",
   "execution_count": 35,
   "id": "eead8d3b-8a02-4bce-9d6c-683f131b622b",
   "metadata": {},
   "outputs": [
    {
     "data": {
      "text/plain": [
       "['rat', 'elephant']"
      ]
     },
     "execution_count": 35,
     "metadata": {},
     "output_type": "execute_result"
    }
   ],
   "source": [
    "spam[-2:]"
   ]
  },
  {
   "cell_type": "code",
   "execution_count": null,
   "id": "abfd8bca-fc54-4edc-9798-36bfb6f74811",
   "metadata": {},
   "outputs": [],
   "source": []
  },
  {
   "cell_type": "code",
   "execution_count": 36,
   "id": "789773c6-2583-4b5a-bc6e-ab7d1401cb56",
   "metadata": {},
   "outputs": [],
   "source": [
    "# to view all items in the list using slice, use just full collon"
   ]
  },
  {
   "cell_type": "code",
   "execution_count": 37,
   "id": "6a9b308a-7a17-4a00-b7cf-0e9278090d93",
   "metadata": {},
   "outputs": [
    {
     "data": {
      "text/plain": [
       "['cat', 'bat', 'rat', 'elephant']"
      ]
     },
     "execution_count": 37,
     "metadata": {},
     "output_type": "execute_result"
    }
   ],
   "source": [
    "spam[:]"
   ]
  },
  {
   "cell_type": "code",
   "execution_count": null,
   "id": "7817fe2a-242a-4134-af84-7d122c1cd0ca",
   "metadata": {},
   "outputs": [],
   "source": []
  },
  {
   "cell_type": "code",
   "execution_count": null,
   "id": "53088960-9921-450f-9812-e93835108d14",
   "metadata": {},
   "outputs": [],
   "source": []
  },
  {
   "cell_type": "markdown",
   "id": "b8a712e8-e017-4376-b890-0e968a6d1dcf",
   "metadata": {},
   "source": [
    "### Getting a List’s Length with len()"
   ]
  },
  {
   "cell_type": "code",
   "execution_count": 38,
   "id": "554be1ca-2ee6-4590-9d63-1fa7f2afe431",
   "metadata": {},
   "outputs": [],
   "source": [
    "# in order to get the length, we use the len function.\n",
    "# it returns the number of calues that are in a list value passed to iit"
   ]
  },
  {
   "cell_type": "code",
   "execution_count": 39,
   "id": "82c4be82-c0f1-49c0-a425-dca072bb1d1d",
   "metadata": {},
   "outputs": [],
   "source": [
    "spam = ['cat','dog','Moose']"
   ]
  },
  {
   "cell_type": "code",
   "execution_count": 40,
   "id": "3e38575f-687c-4d24-b075-6423a9a8289c",
   "metadata": {},
   "outputs": [
    {
     "data": {
      "text/plain": [
       "['cat', 'dog', 'Moose']"
      ]
     },
     "execution_count": 40,
     "metadata": {},
     "output_type": "execute_result"
    }
   ],
   "source": [
    "spam"
   ]
  },
  {
   "cell_type": "code",
   "execution_count": 41,
   "id": "0d8941de-fefe-4fc0-9441-0fed25620e27",
   "metadata": {},
   "outputs": [],
   "source": [
    "# now for it's length"
   ]
  },
  {
   "cell_type": "code",
   "execution_count": 42,
   "id": "406f3d64-42bf-4db6-9fe6-12317c518499",
   "metadata": {},
   "outputs": [],
   "source": [
    "len(spam);"
   ]
  },
  {
   "cell_type": "code",
   "execution_count": null,
   "id": "ccea0abe-7676-4128-b6fc-b0cb09850928",
   "metadata": {},
   "outputs": [],
   "source": []
  },
  {
   "cell_type": "markdown",
   "id": "7243d976-eba8-4ede-995b-b5aabc4aa1c9",
   "metadata": {},
   "source": [
    "### Changing Values in a List with Indexes"
   ]
  },
  {
   "cell_type": "code",
   "execution_count": 43,
   "id": "6fe056bc-08b1-4a1f-9102-7126144db656",
   "metadata": {},
   "outputs": [],
   "source": [
    "# to change, variables, just use the list value with the index and assign value"
   ]
  },
  {
   "cell_type": "code",
   "execution_count": 44,
   "id": "fa9a5efa-8463-471c-8980-e39442445299",
   "metadata": {},
   "outputs": [],
   "source": [
    "spam = ['cat','bat','rat','elephant'];"
   ]
  },
  {
   "cell_type": "code",
   "execution_count": 45,
   "id": "795048ec-79eb-4004-b7bc-fafc828aef07",
   "metadata": {},
   "outputs": [
    {
     "data": {
      "text/plain": [
       "['cat', 'bat', 'rat', 'elephant']"
      ]
     },
     "execution_count": 45,
     "metadata": {},
     "output_type": "execute_result"
    }
   ],
   "source": [
    "spam"
   ]
  },
  {
   "cell_type": "code",
   "execution_count": 46,
   "id": "bb11a5c8-719d-4fa0-a04c-412ea937870c",
   "metadata": {},
   "outputs": [],
   "source": [
    "# now, let's change some values"
   ]
  },
  {
   "cell_type": "code",
   "execution_count": 47,
   "id": "fe1b6085-e3e3-4b6f-b12c-58925e273909",
   "metadata": {},
   "outputs": [],
   "source": [
    "spam[1] = 'aardvark';"
   ]
  },
  {
   "cell_type": "code",
   "execution_count": 48,
   "id": "3c873158-bbc3-46a3-ae66-8c1cfef81d1c",
   "metadata": {},
   "outputs": [
    {
     "data": {
      "text/plain": [
       "['cat', 'aardvark', 'rat', 'elephant']"
      ]
     },
     "execution_count": 48,
     "metadata": {},
     "output_type": "execute_result"
    }
   ],
   "source": [
    "spam"
   ]
  },
  {
   "cell_type": "code",
   "execution_count": 49,
   "id": "375cc168-e8cf-40f7-83da-af70cae87255",
   "metadata": {},
   "outputs": [],
   "source": [
    "# we can also use another index and assign it to another index"
   ]
  },
  {
   "cell_type": "code",
   "execution_count": 50,
   "id": "07099e17-9164-469f-bd22-c13e8be54914",
   "metadata": {},
   "outputs": [],
   "source": [
    "spam[2] = spam[1]"
   ]
  },
  {
   "cell_type": "code",
   "execution_count": 51,
   "id": "5ddf7e9e-96b3-4c15-bc0a-a6a4b9447924",
   "metadata": {},
   "outputs": [
    {
     "data": {
      "text/plain": [
       "['cat', 'aardvark', 'aardvark', 'elephant']"
      ]
     },
     "execution_count": 51,
     "metadata": {},
     "output_type": "execute_result"
    }
   ],
   "source": [
    "spam"
   ]
  },
  {
   "cell_type": "code",
   "execution_count": 52,
   "id": "7100d043-f918-4e2c-afa4-8456b44d45f9",
   "metadata": {},
   "outputs": [],
   "source": [
    "# we can still use negative index to change values"
   ]
  },
  {
   "cell_type": "code",
   "execution_count": 53,
   "id": "6cf2f503-7a51-44c3-8a9c-bef08c6b2d6f",
   "metadata": {},
   "outputs": [],
   "source": [
    "spam[-1] = 1234 # this changes elephant to 1234"
   ]
  },
  {
   "cell_type": "code",
   "execution_count": 54,
   "id": "15a574a9-b7af-44f9-876e-3d22b70ada0f",
   "metadata": {},
   "outputs": [
    {
     "data": {
      "text/plain": [
       "['cat', 'aardvark', 'aardvark', 1234]"
      ]
     },
     "execution_count": 54,
     "metadata": {},
     "output_type": "execute_result"
    }
   ],
   "source": [
    "spam"
   ]
  },
  {
   "cell_type": "code",
   "execution_count": null,
   "id": "f0152aed-9971-443b-a0db-001d96df5a91",
   "metadata": {},
   "outputs": [],
   "source": []
  },
  {
   "cell_type": "markdown",
   "id": "fb0ac739-2ef0-4ed0-a81c-99a570913e8c",
   "metadata": {},
   "source": [
    "### List Concatenation and List Replication"
   ]
  },
  {
   "cell_type": "markdown",
   "id": "6c383827-ed69-423a-9294-4c5b733d094c",
   "metadata": {},
   "source": [
    "To concatenate lists we use the '+' operator and combine the 2 lists.\n",
    "We can also use the * operator to replicate the list."
   ]
  },
  {
   "cell_type": "code",
   "execution_count": 55,
   "id": "1b4ee272-f0f8-423a-a45c-4f8ec00ae4ca",
   "metadata": {},
   "outputs": [
    {
     "data": {
      "text/plain": [
       "[1, 2, 3, 3, 4, 5]"
      ]
     },
     "execution_count": 55,
     "metadata": {},
     "output_type": "execute_result"
    }
   ],
   "source": [
    "[1,2,3] + [3,4,5]"
   ]
  },
  {
   "cell_type": "code",
   "execution_count": 56,
   "id": "63f139e8-2c73-43a4-a7c3-f8b43f08abde",
   "metadata": {},
   "outputs": [
    {
     "data": {
      "text/plain": [
       "['X', 'Y', 'Z', 'X', 'Y', 'Z']"
      ]
     },
     "execution_count": 56,
     "metadata": {},
     "output_type": "execute_result"
    }
   ],
   "source": [
    "['X','Y','Z'] * 2"
   ]
  },
  {
   "cell_type": "code",
   "execution_count": 57,
   "id": "7297ee4a-54f6-4fdc-be24-d02debaf27f9",
   "metadata": {},
   "outputs": [],
   "source": [
    "## we can also concatenate lists using variables\n",
    "## let's try to increment a list with another list"
   ]
  },
  {
   "cell_type": "code",
   "execution_count": 58,
   "id": "697a71bc-ea0e-4db4-9ab4-b1b20938f49b",
   "metadata": {},
   "outputs": [],
   "source": [
    "spam = [1,2,3]"
   ]
  },
  {
   "cell_type": "code",
   "execution_count": 59,
   "id": "2a9d5126-7dca-4c63-bf9b-57f9076b1056",
   "metadata": {},
   "outputs": [],
   "source": [
    "spam += ['a','b','c']"
   ]
  },
  {
   "cell_type": "code",
   "execution_count": 60,
   "id": "9f222632-d8eb-4bf9-a9c2-fd7df9418722",
   "metadata": {},
   "outputs": [
    {
     "data": {
      "text/plain": [
       "[1, 2, 3, 'a', 'b', 'c']"
      ]
     },
     "execution_count": 60,
     "metadata": {},
     "output_type": "execute_result"
    }
   ],
   "source": [
    "spam"
   ]
  },
  {
   "cell_type": "code",
   "execution_count": null,
   "id": "e0b76529-0303-4d09-8bbd-98e0c6884704",
   "metadata": {},
   "outputs": [],
   "source": []
  },
  {
   "cell_type": "markdown",
   "id": "b4841c52-30a3-4678-8754-c119e7dac3d9",
   "metadata": {},
   "source": [
    "### Removing Values from Lists with del Statements"
   ]
  },
  {
   "cell_type": "markdown",
   "id": "5c1d8b5b-e7be-453a-9acc-f01694ee002e",
   "metadata": {},
   "source": [
    "The del statement will delete values at an index in a list. All of the valus in the list after the deleted will be moved up one index"
   ]
  },
  {
   "cell_type": "code",
   "execution_count": 61,
   "id": "c4e68766-3f6f-4d37-ae6d-1087073a950a",
   "metadata": {},
   "outputs": [],
   "source": [
    "# consider "
   ]
  },
  {
   "cell_type": "code",
   "execution_count": 62,
   "id": "936a849e-d77f-45ec-a6e1-ec0e2cdb8ba6",
   "metadata": {},
   "outputs": [],
   "source": [
    "spam = ['cat','bat','rat','elephant']"
   ]
  },
  {
   "cell_type": "code",
   "execution_count": 63,
   "id": "8ddcd77e-ee7c-4cd5-adeb-6efe722f0efb",
   "metadata": {},
   "outputs": [
    {
     "data": {
      "text/plain": [
       "['cat', 'bat', 'rat', 'elephant']"
      ]
     },
     "execution_count": 63,
     "metadata": {},
     "output_type": "execute_result"
    }
   ],
   "source": [
    "spam"
   ]
  },
  {
   "cell_type": "code",
   "execution_count": 64,
   "id": "3922511a-8848-49f9-916e-1b63972334da",
   "metadata": {},
   "outputs": [],
   "source": [
    "## now let's try to delete the value of index 2"
   ]
  },
  {
   "cell_type": "code",
   "execution_count": 65,
   "id": "bd98dac7-2863-42e3-92ae-87b32701dd78",
   "metadata": {},
   "outputs": [],
   "source": [
    "del spam[2]"
   ]
  },
  {
   "cell_type": "code",
   "execution_count": 66,
   "id": "fed2f542-e464-4624-9c30-fdb0566c54ff",
   "metadata": {},
   "outputs": [
    {
     "data": {
      "text/plain": [
       "['cat', 'bat', 'elephant']"
      ]
     },
     "execution_count": 66,
     "metadata": {},
     "output_type": "execute_result"
    }
   ],
   "source": [
    "spam"
   ]
  },
  {
   "cell_type": "code",
   "execution_count": 67,
   "id": "06a9529b-0305-4bec-a171-2b6c021f0dc9",
   "metadata": {},
   "outputs": [],
   "source": [
    "del spam[2]"
   ]
  },
  {
   "cell_type": "code",
   "execution_count": 68,
   "id": "e2279878-5423-4a9f-89e2-a44a7bbad806",
   "metadata": {},
   "outputs": [
    {
     "data": {
      "text/plain": [
       "['cat', 'bat']"
      ]
     },
     "execution_count": 68,
     "metadata": {},
     "output_type": "execute_result"
    }
   ],
   "source": [
    "spam"
   ]
  },
  {
   "cell_type": "markdown",
   "id": "7009c05e-9624-408e-b204-de4eac584355",
   "metadata": {},
   "source": [
    "The del statement can also be used on a simple variable to delete it, as\n",
    "if it were an “unassignment” statement. If you try to use the variable after\n",
    "deleting it, you will get a NameError error because the variable no longer exists.\n",
    "In practice, you almost never need to delete simple variables. The del\n",
    "statement is mostly used to delete values from lists."
   ]
  },
  {
   "cell_type": "code",
   "execution_count": 69,
   "id": "970ab0aa-9fab-42ad-89e5-a6278c549518",
   "metadata": {},
   "outputs": [],
   "source": [
    "## let's try"
   ]
  },
  {
   "cell_type": "code",
   "execution_count": 70,
   "id": "500daef3-1fe1-4d86-941b-b60b4a4f34fa",
   "metadata": {},
   "outputs": [],
   "source": [
    "num = 23;"
   ]
  },
  {
   "cell_type": "code",
   "execution_count": 71,
   "id": "281f1116-192e-4ae7-95db-e05858c9eaac",
   "metadata": {},
   "outputs": [
    {
     "data": {
      "text/plain": [
       "23"
      ]
     },
     "execution_count": 71,
     "metadata": {},
     "output_type": "execute_result"
    }
   ],
   "source": [
    "num"
   ]
  },
  {
   "cell_type": "code",
   "execution_count": 72,
   "id": "9aeff8e5-d3f9-47d0-9f27-b8a5cdf83da3",
   "metadata": {},
   "outputs": [],
   "source": [
    "del num"
   ]
  },
  {
   "cell_type": "code",
   "execution_count": 73,
   "id": "7f1c6288-a30a-4de5-92b0-f98007c0d2bb",
   "metadata": {},
   "outputs": [
    {
     "ename": "NameError",
     "evalue": "name 'num' is not defined",
     "output_type": "error",
     "traceback": [
      "\u001b[0;31m---------------------------------------------------------------------------\u001b[0m",
      "\u001b[0;31mNameError\u001b[0m                                 Traceback (most recent call last)",
      "Cell \u001b[0;32mIn[73], line 1\u001b[0m\n\u001b[0;32m----> 1\u001b[0m \u001b[43mnum\u001b[49m\n",
      "\u001b[0;31mNameError\u001b[0m: name 'num' is not defined"
     ]
    }
   ],
   "source": [
    "num"
   ]
  },
  {
   "cell_type": "code",
   "execution_count": null,
   "id": "dcc463fe-3de2-4b30-8c6a-fe71e22380a1",
   "metadata": {},
   "outputs": [],
   "source": []
  },
  {
   "cell_type": "code",
   "execution_count": null,
   "id": "311edff7-2869-4c26-91c9-cc387268be21",
   "metadata": {},
   "outputs": [],
   "source": []
  },
  {
   "cell_type": "markdown",
   "id": "4303d786-469c-4dec-a533-2818aadf6a1c",
   "metadata": {},
   "source": [
    "## **Working with Lists**"
   ]
  },
  {
   "cell_type": "markdown",
   "id": "34af0134-aa00-4acd-9ee6-fc1be28098fd",
   "metadata": {},
   "source": [
    "When you first begin writing programs, it’s tempting to create many indi-\n",
    "vidual variables to store a group of similar values. For example, if I wanted\n",
    "to store the names of my cats, I might be tempted to write code like this:"
   ]
  },
  {
   "cell_type": "code",
   "execution_count": 75,
   "id": "78fc5a7a-6f1c-44f5-b9a5-fb6ae857f082",
   "metadata": {},
   "outputs": [],
   "source": [
    "catName1 = 'Zophie'\n",
    "catName2 = 'Pooka'\n",
    "catName3 = 'Simon'\n",
    "catName4 = 'Lady Macbeth'\n",
    "catName5 = 'Fat-tail'\n",
    "catName6 = 'Miss Cleo'"
   ]
  },
  {
   "cell_type": "code",
   "execution_count": 76,
   "id": "1c3bea81-8280-4420-9eb7-cc266523b88f",
   "metadata": {},
   "outputs": [],
   "source": [
    "# now that we've learned lists and loops. let's try utilizing them"
   ]
  },
  {
   "cell_type": "code",
   "execution_count": null,
   "id": "79aff7b9-5b19-440a-b2b8-7f60217d15a9",
   "metadata": {},
   "outputs": [],
   "source": []
  },
  {
   "cell_type": "code",
   "execution_count": 77,
   "id": "98aa55a9-d8b4-4bb3-bea4-e57f2bacba88",
   "metadata": {},
   "outputs": [],
   "source": [
    "## let's rewrite the cat program, and let the user enter any number of cats she wants"
   ]
  },
  {
   "cell_type": "code",
   "execution_count": 79,
   "id": "8f709246-2f47-424e-8526-7db23706f710",
   "metadata": {},
   "outputs": [
    {
     "name": "stdin",
     "output_type": "stream",
     "text": [
      "Enter the name of 1or enter nothing to stop :  Pookie\n",
      "Enter the name of 2or enter nothing to stop :  Mbwa\n",
      "Enter the name of 3or enter nothing to stop :  snowie\n",
      "Enter the name of 4or enter nothing to stop :  paka\n",
      "Enter the name of 5or enter nothing to stop :  \n"
     ]
    },
    {
     "name": "stdout",
     "output_type": "stream",
     "text": [
      "The cat names are : \n",
      "Pookie \n",
      "Mbwa \n",
      "snowie \n",
      "paka \n"
     ]
    }
   ],
   "source": [
    "catNames = [];\n",
    "\n",
    "while True:\n",
    "    name = input(\"Enter the name of \" + str(len(catNames)+1) + 'or enter nothing to stop : ')\n",
    "    if name == '':\n",
    "        break;\n",
    "    \n",
    "    catNames += [name] #list concatenation\n",
    "    \n",
    "## let's add a way to list the entered values in the list\n",
    "print('The cat names are : ')\n",
    "for i in catNames:\n",
    "    print(i + \" \");"
   ]
  },
  {
   "cell_type": "code",
   "execution_count": 80,
   "id": "ebdb1b10-8563-454d-82ff-7e916d7a9a53",
   "metadata": {},
   "outputs": [
    {
     "data": {
      "text/plain": [
       "['Pookie', 'Mbwa', 'snowie', 'paka']"
      ]
     },
     "execution_count": 80,
     "metadata": {},
     "output_type": "execute_result"
    }
   ],
   "source": [
    "catNames"
   ]
  },
  {
   "cell_type": "code",
   "execution_count": null,
   "id": "04c423bd-cdda-4768-ac86-08661e68d1a0",
   "metadata": {},
   "outputs": [],
   "source": []
  },
  {
   "cell_type": "markdown",
   "id": "2718d441-38c7-41f0-9a78-8c611b381a78",
   "metadata": {},
   "source": [
    "### **Using for Loops with Lists**"
   ]
  },
  {
   "cell_type": "markdown",
   "id": "f5421409-3dce-4d4e-bff7-3e0ae602549d",
   "metadata": {},
   "source": [
    "Technically, a for loop repeats the code\n",
    "block once for each value in a list or list-like value. For example, if you ran\n",
    "this code:"
   ]
  },
  {
   "cell_type": "code",
   "execution_count": 81,
   "id": "11f7b77e-0026-4003-9f8a-b6a8405f76c5",
   "metadata": {},
   "outputs": [
    {
     "name": "stdout",
     "output_type": "stream",
     "text": [
      "0\n",
      "1\n",
      "2\n",
      "3\n"
     ]
    }
   ],
   "source": [
    "for i in range(4):\n",
    "    print(i)"
   ]
  },
  {
   "cell_type": "markdown",
   "id": "2b7f4110-243a-4c72-8115-62471f630fad",
   "metadata": {},
   "source": [
    "This is because the return value from range(4) is a list-like value that\n",
    "Python considers similar to [0, 1, 2, 3]. The following program has the\n",
    "same output as the previous one:"
   ]
  },
  {
   "cell_type": "code",
   "execution_count": 82,
   "id": "77b53e25-1a2f-422b-a585-b4362a8c9cbf",
   "metadata": {},
   "outputs": [
    {
     "name": "stdout",
     "output_type": "stream",
     "text": [
      "0\n",
      "1\n",
      "2\n",
      "3\n"
     ]
    }
   ],
   "source": [
    "for i in [0,1,2,3]:\n",
    "    print(i);"
   ]
  },
  {
   "cell_type": "code",
   "execution_count": 83,
   "id": "478e2c1e-aad4-45b8-a440-a923b53efbf8",
   "metadata": {},
   "outputs": [],
   "source": [
    "## annother way to execute the loop is using the len function"
   ]
  },
  {
   "cell_type": "code",
   "execution_count": 84,
   "id": "62c60a22-c498-48b6-92ce-045a7652956a",
   "metadata": {},
   "outputs": [],
   "source": [
    "## consider the supplies lis\n",
    "supplies = ['pens','staplers','flame-throwers','binders'];"
   ]
  },
  {
   "cell_type": "code",
   "execution_count": 85,
   "id": "4d5b27a7-0aa0-4899-b1fb-bb2a1a3e5816",
   "metadata": {},
   "outputs": [
    {
     "name": "stdout",
     "output_type": "stream",
     "text": [
      "pens\n",
      "staplers\n",
      "flame-throwers\n",
      "binders\n"
     ]
    }
   ],
   "source": [
    "for i in range(len(supplies)):\n",
    "    print(supplies[i]);"
   ]
  },
  {
   "cell_type": "code",
   "execution_count": 86,
   "id": "0f21a30b-3305-448e-aef9-40a06097be2c",
   "metadata": {},
   "outputs": [],
   "source": [
    "## but another easy way is to use the list itself"
   ]
  },
  {
   "cell_type": "code",
   "execution_count": 87,
   "id": "799cf7c8-6d47-431c-9725-8838ab4cb233",
   "metadata": {},
   "outputs": [
    {
     "name": "stdout",
     "output_type": "stream",
     "text": [
      "pens\n",
      "staplers\n",
      "flame-throwers\n",
      "binders\n"
     ]
    }
   ],
   "source": [
    "for supply in supplies:\n",
    "    print(supply);"
   ]
  },
  {
   "cell_type": "code",
   "execution_count": null,
   "id": "c3a7da3e-9d9c-4222-94e6-4f43da490f68",
   "metadata": {},
   "outputs": [],
   "source": []
  },
  {
   "cell_type": "markdown",
   "id": "b67bcf1c-fd43-4bc4-ad95-dfa76536478a",
   "metadata": {},
   "source": [
    "### The in and not in Operators"
   ]
  },
  {
   "cell_type": "markdown",
   "id": "aa9a6fb6-9a20-4c0f-980c-7390430a522d",
   "metadata": {},
   "source": [
    "You can determine whether a value is or isn’t in a list with the in and not in\n",
    "operators. Like other operators, in and not in are used in expressions and\n",
    "connect two values: a value to look for in a list and the list where it may be\n",
    "found. These expressions will evaluate to a Boolean value."
   ]
  },
  {
   "cell_type": "code",
   "execution_count": 88,
   "id": "265949d5-1cfa-444a-896b-1377f05cb6b4",
   "metadata": {},
   "outputs": [
    {
     "data": {
      "text/plain": [
       "True"
      ]
     },
     "execution_count": 88,
     "metadata": {},
     "output_type": "execute_result"
    }
   ],
   "source": [
    "'howdy' in ['hello','hi','howdy','heyas']"
   ]
  },
  {
   "cell_type": "code",
   "execution_count": 89,
   "id": "34c31ba3-acc5-4283-b396-48d21260b17d",
   "metadata": {},
   "outputs": [],
   "source": [
    "spam = ['hello','hi','howdy','heyas']"
   ]
  },
  {
   "cell_type": "code",
   "execution_count": 90,
   "id": "4ae6be48-9315-4a8a-8068-cf41d445994b",
   "metadata": {},
   "outputs": [
    {
     "data": {
      "text/plain": [
       "False"
      ]
     },
     "execution_count": 90,
     "metadata": {},
     "output_type": "execute_result"
    }
   ],
   "source": [
    "'howdy' not in spam"
   ]
  },
  {
   "cell_type": "code",
   "execution_count": 91,
   "id": "2e79c126-98e2-4e6e-825f-999e16800773",
   "metadata": {},
   "outputs": [
    {
     "data": {
      "text/plain": [
       "False"
      ]
     },
     "execution_count": 91,
     "metadata": {},
     "output_type": "execute_result"
    }
   ],
   "source": [
    "'cat' in spam"
   ]
  },
  {
   "cell_type": "code",
   "execution_count": 92,
   "id": "1e83eb45-900e-41dc-ae0e-9a80d1a6ddb5",
   "metadata": {},
   "outputs": [
    {
     "data": {
      "text/plain": [
       "True"
      ]
     },
     "execution_count": 92,
     "metadata": {},
     "output_type": "execute_result"
    }
   ],
   "source": [
    "'cat' not in spam"
   ]
  },
  {
   "cell_type": "code",
   "execution_count": null,
   "id": "766bb962-2d29-449b-817e-ccc220a45ab7",
   "metadata": {},
   "outputs": [],
   "source": []
  },
  {
   "cell_type": "code",
   "execution_count": 93,
   "id": "761750dc-fb08-41f6-a4cf-63fbfa618378",
   "metadata": {},
   "outputs": [],
   "source": [
    "## let's create a program that let's the user enter a pet\n",
    "## name and checks if the pet is included in the list"
   ]
  },
  {
   "cell_type": "code",
   "execution_count": 94,
   "id": "76070d48-2c54-4af3-bd7d-d885e0f7db58",
   "metadata": {},
   "outputs": [
    {
     "name": "stdin",
     "output_type": "stream",
     "text": [
      "Enter a pet's name :  Snowie\n"
     ]
    },
    {
     "name": "stdout",
     "output_type": "stream",
     "text": [
      "There is no such pet\n"
     ]
    },
    {
     "name": "stdin",
     "output_type": "stream",
     "text": [
      "Do you want to add the name : yes\n",
      "Enter a pet's name :  Snowie\n"
     ]
    },
    {
     "name": "stdout",
     "output_type": "stream",
     "text": [
      "The name exists\n"
     ]
    },
    {
     "name": "stdin",
     "output_type": "stream",
     "text": [
      "Enter a pet's name :  Pookie\n"
     ]
    },
    {
     "name": "stdout",
     "output_type": "stream",
     "text": [
      "There is no such pet\n"
     ]
    },
    {
     "name": "stdin",
     "output_type": "stream",
     "text": [
      "Do you want to add the name : yes\n",
      "Enter a pet's name :  Simba\n"
     ]
    },
    {
     "name": "stdout",
     "output_type": "stream",
     "text": [
      "There is no such pet\n"
     ]
    },
    {
     "name": "stdin",
     "output_type": "stream",
     "text": [
      "Do you want to add the name : yes\n",
      "Enter a pet's name :  Alpha\n"
     ]
    },
    {
     "name": "stdout",
     "output_type": "stream",
     "text": [
      "There is no such pet\n"
     ]
    },
    {
     "name": "stdin",
     "output_type": "stream",
     "text": [
      "Do you want to add the name : yes\n",
      "Enter a pet's name :  \n"
     ]
    },
    {
     "name": "stdout",
     "output_type": "stream",
     "text": [
      "Here are the pet names :\n",
      "Zophie\n",
      "Pooka\n",
      "Fat-tail\n",
      "Snowie\n",
      "Pookie\n",
      "Simba\n",
      "Alpha\n"
     ]
    }
   ],
   "source": [
    "# let's initiate our pet lis\n",
    "my_pets = ['Zophie','Pooka','Fat-tail'];\n",
    "\n",
    "# start to ask user\n",
    "# let's use while loop, she should put entries unitill she decides\n",
    "# to stop\n",
    "\n",
    "while True:\n",
    "    name = input(\"Enter a pet's name : \");\n",
    "    if name == '':\n",
    "        break;\n",
    "    \n",
    "    # chek for pet availability status\n",
    "    pet_status = name in my_pets;\n",
    "    \n",
    "    if pet_status == False:\n",
    "        print(\"There is no such pet\")\n",
    "        response = input(\"Do you want to add the name :\").lower();\n",
    "        if response == 'yes':\n",
    "            my_pets = my_pets + [name]\n",
    "        else:\n",
    "            break;\n",
    "    else:\n",
    "        print(\"The name exists\");\n",
    "        continue;\n",
    "    \n",
    "\n",
    "## now let's printout the list again\n",
    "print(\"Here are the pet names :\");\n",
    "for pet in my_pets:\n",
    "    print(pet);\n",
    "\n",
    "            \n"
   ]
  },
  {
   "cell_type": "code",
   "execution_count": null,
   "id": "35653770-2fc2-4552-9c2d-a19953b453f0",
   "metadata": {},
   "outputs": [],
   "source": []
  },
  {
   "cell_type": "code",
   "execution_count": null,
   "id": "c524c05a-4aab-4e63-b4ae-a68ce58d5af9",
   "metadata": {},
   "outputs": [],
   "source": []
  },
  {
   "cell_type": "markdown",
   "id": "92df1c82-cb9f-4080-8f0e-e9eb6067c223",
   "metadata": {},
   "source": [
    "### **The Multiple Assignment Trick**"
   ]
  },
  {
   "cell_type": "markdown",
   "id": "734a6749-e4f5-4e8f-bd8c-e8a885acb450",
   "metadata": {},
   "source": [
    "The multiple assignment trick is a shortcut that lets you assign multiple vari-\n",
    "ables with the values in a list in one line of code. So instead of doing this:"
   ]
  },
  {
   "cell_type": "code",
   "execution_count": 95,
   "id": "75d72533-593d-4d89-8d94-c2887c6a6695",
   "metadata": {},
   "outputs": [],
   "source": [
    "# consider the following example\n",
    "cat = ['fat','black','loud']"
   ]
  },
  {
   "cell_type": "code",
   "execution_count": 96,
   "id": "070bb2de-7413-493c-84a2-6783408bbc0a",
   "metadata": {},
   "outputs": [],
   "source": [
    "## now, let's say we want to assign the elements of the list\n",
    "## to a variable size, color and disposition respectively\n",
    "\n",
    "size = cat[0];\n",
    "color = cat[1];\n",
    "disposition = cat[2];"
   ]
  },
  {
   "cell_type": "code",
   "execution_count": 97,
   "id": "d6db5d86-3e60-4584-a21d-15c0b1de1c47",
   "metadata": {},
   "outputs": [
    {
     "name": "stdout",
     "output_type": "stream",
     "text": [
      "fat\n",
      "black\n",
      "loud\n"
     ]
    }
   ],
   "source": [
    "print(size,color,disposition,sep='\\n')"
   ]
  },
  {
   "cell_type": "code",
   "execution_count": null,
   "id": "f0ab7046-4360-404f-837e-d6f4ce59eadb",
   "metadata": {},
   "outputs": [],
   "source": []
  },
  {
   "cell_type": "code",
   "execution_count": 98,
   "id": "6ce51b8e-1728-4082-bf9e-f6702e538b76",
   "metadata": {},
   "outputs": [],
   "source": [
    "## now let's try another way"
   ]
  },
  {
   "cell_type": "code",
   "execution_count": 99,
   "id": "f524590e-fe73-4270-b216-1e0562f07beb",
   "metadata": {},
   "outputs": [],
   "source": [
    "size, color, disposition = cat"
   ]
  },
  {
   "cell_type": "code",
   "execution_count": 100,
   "id": "cd3eed71-2a4c-4337-993e-f39dc8ae345d",
   "metadata": {},
   "outputs": [
    {
     "name": "stdout",
     "output_type": "stream",
     "text": [
      "fat\n",
      "black\n",
      "loud\n"
     ]
    }
   ],
   "source": [
    "print(size,color,disposition,sep='\\n')"
   ]
  },
  {
   "cell_type": "code",
   "execution_count": null,
   "id": "e2f65331-8af9-498a-9234-4c2db47dcdca",
   "metadata": {},
   "outputs": [],
   "source": []
  },
  {
   "cell_type": "code",
   "execution_count": null,
   "id": "9b3efc37-2b9e-4d0a-8c2f-6d5125de252f",
   "metadata": {},
   "outputs": [],
   "source": []
  },
  {
   "cell_type": "code",
   "execution_count": null,
   "id": "6a61d4e3-b725-4ef3-a18d-228a41e781fd",
   "metadata": {},
   "outputs": [],
   "source": []
  },
  {
   "cell_type": "markdown",
   "id": "f191e97f-c7b4-42d7-bdf7-8e2c0aa0370f",
   "metadata": {},
   "source": [
    "## **Method**"
   ]
  },
  {
   "cell_type": "markdown",
   "id": "9c3ba62f-91fc-4809-a98d-470c5a6648ff",
   "metadata": {},
   "source": [
    "### **Finding a Value in a List with the index() Method**"
   ]
  },
  {
   "cell_type": "code",
   "execution_count": 101,
   "id": "6dc163b9-41ae-45d7-ba2e-49c374a89249",
   "metadata": {},
   "outputs": [],
   "source": [
    "## consider the following list"
   ]
  },
  {
   "cell_type": "code",
   "execution_count": 102,
   "id": "60b940d2-f1a7-4118-a0cf-f35ed837b382",
   "metadata": {},
   "outputs": [],
   "source": [
    "spam = ['hello','hi','howdy','heyas']"
   ]
  },
  {
   "cell_type": "code",
   "execution_count": 109,
   "id": "a174c357-5749-4496-9b98-d9014fb0bb94",
   "metadata": {},
   "outputs": [
    {
     "data": {
      "text/plain": [
       "0"
      ]
     },
     "execution_count": 109,
     "metadata": {},
     "output_type": "execute_result"
    }
   ],
   "source": [
    "spam.index('hello') ## in Js, we use list.indexOf();"
   ]
  },
  {
   "cell_type": "code",
   "execution_count": 115,
   "id": "5dca1d2b-6186-41f6-8aba-ff8b19fbf68c",
   "metadata": {},
   "outputs": [
    {
     "data": {
      "text/plain": [
       "3"
      ]
     },
     "execution_count": 115,
     "metadata": {},
     "output_type": "execute_result"
    }
   ],
   "source": [
    "spam.index('heyas')"
   ]
  },
  {
   "cell_type": "code",
   "execution_count": 116,
   "id": "f08a5cad-57df-45dd-9585-bcd90b565018",
   "metadata": {},
   "outputs": [],
   "source": [
    "# if the element is not in the list, the following happens"
   ]
  },
  {
   "cell_type": "code",
   "execution_count": 117,
   "id": "a97a1ff4-163c-4001-b21e-b9bdf8a5a1b3",
   "metadata": {},
   "outputs": [
    {
     "ename": "ValueError",
     "evalue": "'hellooo' is not in list",
     "output_type": "error",
     "traceback": [
      "\u001b[0;31m---------------------------------------------------------------------------\u001b[0m",
      "\u001b[0;31mValueError\u001b[0m                                Traceback (most recent call last)",
      "Cell \u001b[0;32mIn[117], line 1\u001b[0m\n\u001b[0;32m----> 1\u001b[0m \u001b[43mspam\u001b[49m\u001b[38;5;241;43m.\u001b[39;49m\u001b[43mindex\u001b[49m\u001b[43m(\u001b[49m\u001b[38;5;124;43m\"\u001b[39;49m\u001b[38;5;124;43mhellooo\u001b[39;49m\u001b[38;5;124;43m\"\u001b[39;49m\u001b[43m)\u001b[49m\n",
      "\u001b[0;31mValueError\u001b[0m: 'hellooo' is not in list"
     ]
    }
   ],
   "source": [
    "spam.index(\"hellooo\")"
   ]
  },
  {
   "cell_type": "code",
   "execution_count": null,
   "id": "05266040-b050-4a16-9bec-57bb8554e04a",
   "metadata": {},
   "outputs": [],
   "source": []
  },
  {
   "cell_type": "markdown",
   "id": "87bea7ab-b932-478a-a6bc-45cdb2c118c7",
   "metadata": {},
   "source": [
    "### Adding Values to Lists with the append() and insert() Methods"
   ]
  },
  {
   "cell_type": "code",
   "execution_count": 118,
   "id": "47f17788-4c3a-467a-a7d9-113330c496c2",
   "metadata": {},
   "outputs": [],
   "source": [
    "## consider the following list\n",
    "spam =['cat','dog','bat'];"
   ]
  },
  {
   "cell_type": "code",
   "execution_count": 122,
   "id": "7a9335af-4905-49fd-8576-5d1a0c03a2da",
   "metadata": {},
   "outputs": [],
   "source": [
    "## let's add a moose\n",
    "spam.append('moose') # we use list.push() in JavaScript"
   ]
  },
  {
   "cell_type": "code",
   "execution_count": 123,
   "id": "aca4d836-ffc2-48d1-b3aa-5a85dd8bc7cd",
   "metadata": {},
   "outputs": [
    {
     "data": {
      "text/plain": [
       "['cat', 'dog', 'bat', 'moose', 'moose']"
      ]
     },
     "execution_count": 123,
     "metadata": {},
     "output_type": "execute_result"
    }
   ],
   "source": [
    "spam"
   ]
  },
  {
   "cell_type": "code",
   "execution_count": null,
   "id": "21771980-c941-4423-97cf-0719348cb108",
   "metadata": {},
   "outputs": [],
   "source": []
  },
  {
   "cell_type": "markdown",
   "id": "7389a26f-a7cb-49b2-8d1a-da2062dea83e",
   "metadata": {},
   "source": [
    "The previous append() method call adds the argument to the end of\n",
    "the list. The insert() method can insert a value at any index in the list."
   ]
  },
  {
   "cell_type": "markdown",
   "id": "30732ac7-c924-4fc9-aa33-750a59633ce2",
   "metadata": {},
   "source": [
    "The first argument to insert() is the index for the new value, and the sec-\n",
    "ond argument is the new value to be inserted."
   ]
  },
  {
   "cell_type": "code",
   "execution_count": 125,
   "id": "3248b586-d7c3-4f15-90e9-b77af92b3938",
   "metadata": {},
   "outputs": [
    {
     "data": {
      "text/plain": [
       "['cat', 'dog', 'bat', 'moose', 'moose']"
      ]
     },
     "execution_count": 125,
     "metadata": {},
     "output_type": "execute_result"
    }
   ],
   "source": [
    "# consider our list\n",
    "spam"
   ]
  },
  {
   "cell_type": "code",
   "execution_count": 126,
   "id": "cab632f2-673a-4867-be8d-e3cd3d35f378",
   "metadata": {},
   "outputs": [],
   "source": [
    "spam.insert(1,'chicken')\n",
    "# this means, we're replacing a dog with a chicken"
   ]
  },
  {
   "cell_type": "code",
   "execution_count": 127,
   "id": "86b9de63-0aa0-4d33-ab64-9d0725aabb89",
   "metadata": {},
   "outputs": [
    {
     "data": {
      "text/plain": [
       "['cat', 'chicken', 'dog', 'bat', 'moose', 'moose']"
      ]
     },
     "execution_count": 127,
     "metadata": {},
     "output_type": "execute_result"
    }
   ],
   "source": [
    "spam"
   ]
  },
  {
   "cell_type": "code",
   "execution_count": null,
   "id": "53195e3e-3f77-46d8-8930-6a4a3675bc8b",
   "metadata": {},
   "outputs": [],
   "source": []
  },
  {
   "cell_type": "markdown",
   "id": "e7178125-ced0-4f09-83be-4c73c8f04311",
   "metadata": {},
   "source": [
    "## Removing Values from Lists with remove()"
   ]
  },
  {
   "cell_type": "markdown",
   "id": "a0438228-66f7-4084-9a0a-e1c12b50f4a9",
   "metadata": {},
   "source": [
    "The remove() method is passed the value to be removed from the list\n",
    "is called on"
   ]
  },
  {
   "cell_type": "markdown",
   "id": "0428a713-f55d-4023-ba14-0457239150cb",
   "metadata": {},
   "source": [
    "in order to effectively do this, you need to pass the literally value in order to remove it. Not an index"
   ]
  },
  {
   "cell_type": "code",
   "execution_count": 128,
   "id": "dc57332e-790b-460c-80bc-ead8c8d25e78",
   "metadata": {},
   "outputs": [],
   "source": [
    "# consider the following lis\n",
    "spam = ['cat','bat','rat','elephant']"
   ]
  },
  {
   "cell_type": "code",
   "execution_count": 129,
   "id": "d360edb1-55d7-4d6e-b9e0-291593b3dea4",
   "metadata": {},
   "outputs": [
    {
     "data": {
      "text/plain": [
       "['cat', 'bat', 'rat', 'elephant']"
      ]
     },
     "execution_count": 129,
     "metadata": {},
     "output_type": "execute_result"
    }
   ],
   "source": [
    "spam"
   ]
  },
  {
   "cell_type": "code",
   "execution_count": 131,
   "id": "d23894d7-d05c-4c6c-a2a1-d43a34313947",
   "metadata": {},
   "outputs": [],
   "source": [
    "# now let's remove bat\n",
    "spam.remove('bat')"
   ]
  },
  {
   "cell_type": "code",
   "execution_count": 132,
   "id": "fe2f6a77-a796-4eea-9e00-5e422f5df895",
   "metadata": {},
   "outputs": [
    {
     "data": {
      "text/plain": [
       "['cat', 'rat', 'elephant']"
      ]
     },
     "execution_count": 132,
     "metadata": {},
     "output_type": "execute_result"
    }
   ],
   "source": [
    "spam"
   ]
  },
  {
   "cell_type": "code",
   "execution_count": 134,
   "id": "37adb36a-73e1-4262-a6bc-08d6aa9ea64b",
   "metadata": {},
   "outputs": [
    {
     "ename": "ValueError",
     "evalue": "list.remove(x): x not in list",
     "output_type": "error",
     "traceback": [
      "\u001b[0;31m---------------------------------------------------------------------------\u001b[0m",
      "\u001b[0;31mValueError\u001b[0m                                Traceback (most recent call last)",
      "Cell \u001b[0;32mIn[134], line 2\u001b[0m\n\u001b[1;32m      1\u001b[0m \u001b[38;5;66;03m## what if you pass a string that's not there ? \u001b[39;00m\n\u001b[0;32m----> 2\u001b[0m \u001b[43mspam\u001b[49m\u001b[38;5;241;43m.\u001b[39;49m\u001b[43mremove\u001b[49m\u001b[43m(\u001b[49m\u001b[38;5;124;43m'\u001b[39;49m\u001b[38;5;124;43mwewe\u001b[39;49m\u001b[38;5;124;43m'\u001b[39;49m\u001b[43m)\u001b[49m\n",
      "\u001b[0;31mValueError\u001b[0m: list.remove(x): x not in list"
     ]
    }
   ],
   "source": [
    "## what if you pass a string that's not there ? \n",
    "spam.remove('wewe');"
   ]
  },
  {
   "cell_type": "code",
   "execution_count": null,
   "id": "5611ade1-a8be-46ad-a8e8-52dfa0d7c1d0",
   "metadata": {},
   "outputs": [],
   "source": []
  },
  {
   "cell_type": "markdown",
   "id": "d3e0e66b-90ab-439c-9779-c648871ddb21",
   "metadata": {},
   "source": [
    "If the value appears multiple times in the list, only the first instance of\n",
    "the value will be removed."
   ]
  },
  {
   "cell_type": "code",
   "execution_count": null,
   "id": "840b5c39-47d4-4a6f-9413-6bc9c4c1887b",
   "metadata": {},
   "outputs": [],
   "source": [
    "#considert this\n"
   ]
  },
  {
   "cell_type": "code",
   "execution_count": 135,
   "id": "91d9a058-3a10-4554-8dcf-4f5f8be1cf12",
   "metadata": {},
   "outputs": [],
   "source": [
    "spam = ['cat', 'bat', 'rat', 'cat', 'hat', 'cat']"
   ]
  },
  {
   "cell_type": "code",
   "execution_count": 136,
   "id": "97204611-f6cf-47b1-b61c-952c51a8353c",
   "metadata": {},
   "outputs": [],
   "source": [
    "spam.remove('cat')"
   ]
  },
  {
   "cell_type": "code",
   "execution_count": 137,
   "id": "eb41fb73-1a0a-4bae-9478-708890a33c97",
   "metadata": {},
   "outputs": [
    {
     "data": {
      "text/plain": [
       "['bat', 'rat', 'cat', 'hat', 'cat']"
      ]
     },
     "execution_count": 137,
     "metadata": {},
     "output_type": "execute_result"
    }
   ],
   "source": [
    "spam"
   ]
  },
  {
   "cell_type": "code",
   "execution_count": 138,
   "id": "efbf7527-40e0-4e7a-9f2a-79e7dd79556a",
   "metadata": {},
   "outputs": [],
   "source": [
    "del spam[1];"
   ]
  },
  {
   "cell_type": "code",
   "execution_count": 139,
   "id": "69555fe7-9dc8-47a8-a4ba-c4048de74eca",
   "metadata": {},
   "outputs": [
    {
     "data": {
      "text/plain": [
       "['bat', 'cat', 'hat', 'cat']"
      ]
     },
     "execution_count": 139,
     "metadata": {},
     "output_type": "execute_result"
    }
   ],
   "source": [
    "spam"
   ]
  },
  {
   "cell_type": "code",
   "execution_count": null,
   "id": "1715b2b5-9cb3-4cd2-9f48-d82e1ff4699a",
   "metadata": {},
   "outputs": [],
   "source": []
  },
  {
   "cell_type": "code",
   "execution_count": null,
   "id": "184c6fc2-0905-4cd0-8e96-4d8867a74309",
   "metadata": {},
   "outputs": [],
   "source": []
  },
  {
   "cell_type": "markdown",
   "id": "7ced04e7-5f3c-4366-88d5-3ed96f365cd6",
   "metadata": {},
   "source": [
    "### Sorting the Values in a List with the sort() Method"
   ]
  },
  {
   "cell_type": "markdown",
   "id": "03940f05-844e-43c1-815d-176477e2bf27",
   "metadata": {},
   "source": [
    "Lists of number values or lists of strings can be sorted with the sort()\n",
    "method."
   ]
  },
  {
   "cell_type": "code",
   "execution_count": 140,
   "id": "353f2e77-f4a9-43a7-8055-63ad009c3cd8",
   "metadata": {},
   "outputs": [],
   "source": [
    "# consder the following example"
   ]
  },
  {
   "cell_type": "code",
   "execution_count": 141,
   "id": "4e7fa31e-50d0-41b5-a14b-1cb6c57c6561",
   "metadata": {},
   "outputs": [],
   "source": [
    "spam = [2,4,3.14,1,-7]"
   ]
  },
  {
   "cell_type": "code",
   "execution_count": 142,
   "id": "9daf7d49-79f8-4745-8ef7-e7c2415631a2",
   "metadata": {},
   "outputs": [],
   "source": [
    "## now let's sort it"
   ]
  },
  {
   "cell_type": "code",
   "execution_count": 143,
   "id": "4dadd963-c5eb-4d34-8d77-fb19cbabf128",
   "metadata": {},
   "outputs": [],
   "source": [
    "spam.sort();"
   ]
  },
  {
   "cell_type": "code",
   "execution_count": 144,
   "id": "f23f0061-460b-4286-a046-0acb2f627fe0",
   "metadata": {},
   "outputs": [
    {
     "data": {
      "text/plain": [
       "[-7, 1, 2, 3.14, 4]"
      ]
     },
     "execution_count": 144,
     "metadata": {},
     "output_type": "execute_result"
    }
   ],
   "source": [
    "spam"
   ]
  },
  {
   "cell_type": "code",
   "execution_count": 145,
   "id": "894f1221-c36f-49ef-8b4f-648308c2f468",
   "metadata": {},
   "outputs": [],
   "source": [
    "# I think it's worth to note that, the sort() comman mutates thelist"
   ]
  },
  {
   "cell_type": "code",
   "execution_count": null,
   "id": "dc66e288-5a02-4e32-95da-f48449f5e17b",
   "metadata": {},
   "outputs": [],
   "source": []
  },
  {
   "cell_type": "code",
   "execution_count": 147,
   "id": "2eeb2fb5-7fd4-43c9-a350-2692f981c324",
   "metadata": {},
   "outputs": [],
   "source": [
    "## coonsider for strings\n",
    "\n",
    "spam = ['ants', 'cats', 'dogs', 'badgers', 'elephants']"
   ]
  },
  {
   "cell_type": "code",
   "execution_count": 148,
   "id": "7adabdbb-0ff9-4f46-9d8a-ab377b0d4783",
   "metadata": {},
   "outputs": [],
   "source": [
    "spam.sort()"
   ]
  },
  {
   "cell_type": "code",
   "execution_count": 149,
   "id": "0c40c6c9-01cc-4fb8-89c1-1c68b4d108f6",
   "metadata": {},
   "outputs": [
    {
     "data": {
      "text/plain": [
       "['ants', 'badgers', 'cats', 'dogs', 'elephants']"
      ]
     },
     "execution_count": 149,
     "metadata": {},
     "output_type": "execute_result"
    }
   ],
   "source": [
    "spam"
   ]
  },
  {
   "cell_type": "code",
   "execution_count": 150,
   "id": "01c13e44-4f8b-44a8-9308-f8216d5eb477",
   "metadata": {},
   "outputs": [],
   "source": [
    "## we can also reverse the string by adding an argument in the sort command"
   ]
  },
  {
   "cell_type": "code",
   "execution_count": 152,
   "id": "f5fa9395-151f-4c30-b39b-4da32428136d",
   "metadata": {},
   "outputs": [
    {
     "data": {
      "text/plain": [
       "['elephants', 'dogs', 'cats', 'badgers', 'ants']"
      ]
     },
     "execution_count": 152,
     "metadata": {},
     "output_type": "execute_result"
    }
   ],
   "source": [
    "spam.sort(reverse = True);\n",
    "spam\n",
    "\n",
    "# in javascript, we have to do this : spam.sort().reverse();"
   ]
  },
  {
   "cell_type": "code",
   "execution_count": 153,
   "id": "fabcb4df-68a9-458c-b682-8d516e6d6e70",
   "metadata": {},
   "outputs": [],
   "source": [
    "## NOTE 1 You cannot  sort a list that has mixed elements"
   ]
  },
  {
   "cell_type": "code",
   "execution_count": 154,
   "id": "ba6074e7-73b7-4375-a603-e4748b29d772",
   "metadata": {},
   "outputs": [
    {
     "ename": "TypeError",
     "evalue": "'<' not supported between instances of 'str' and 'int'",
     "output_type": "error",
     "traceback": [
      "\u001b[0;31m---------------------------------------------------------------------------\u001b[0m",
      "\u001b[0;31mTypeError\u001b[0m                                 Traceback (most recent call last)",
      "Cell \u001b[0;32mIn[154], line 2\u001b[0m\n\u001b[1;32m      1\u001b[0m spam \u001b[38;5;241m=\u001b[39m [\u001b[38;5;241m1\u001b[39m, \u001b[38;5;241m3\u001b[39m, \u001b[38;5;241m2\u001b[39m, \u001b[38;5;241m4\u001b[39m, \u001b[38;5;124m'\u001b[39m\u001b[38;5;124mAlice\u001b[39m\u001b[38;5;124m'\u001b[39m, \u001b[38;5;124m'\u001b[39m\u001b[38;5;124mBob\u001b[39m\u001b[38;5;124m'\u001b[39m];\n\u001b[0;32m----> 2\u001b[0m \u001b[43mspam\u001b[49m\u001b[38;5;241;43m.\u001b[39;49m\u001b[43msort\u001b[49m\u001b[43m(\u001b[49m\u001b[43m)\u001b[49m\n",
      "\u001b[0;31mTypeError\u001b[0m: '<' not supported between instances of 'str' and 'int'"
     ]
    }
   ],
   "source": [
    "spam = [1, 3, 2, 4, 'Alice', 'Bob'];\n",
    "spam.sort()"
   ]
  },
  {
   "cell_type": "code",
   "execution_count": 157,
   "id": "ecb78d1e-16e7-4d33-b6e4-704b24a630b6",
   "metadata": {},
   "outputs": [
    {
     "name": "stdout",
     "output_type": "stream",
     "text": [
      "['Alice', 'Bob', 'Carol', 'ants', 'badgers', 'cats']\n"
     ]
    }
   ],
   "source": [
    "## NOTE 2: sort() uses “ASCIIbetical order” rather than actual alphabetical\n",
    "## order for sorting strings. This means uppercase letters come before lower-\n",
    "## case letters.\n",
    "\n",
    "spam = ['Alice', 'ants', 'Bob', 'badgers', 'Carol', 'cats']\n",
    "spam.sort();\n",
    "print(spam);\n"
   ]
  },
  {
   "cell_type": "code",
   "execution_count": 159,
   "id": "71e770be-e92e-4d2d-aa10-f9b0ac49e27f",
   "metadata": {},
   "outputs": [
    {
     "data": {
      "text/plain": [
       "['Alice', 'ants', 'badgers', 'Bob', 'Carol', 'cats']"
      ]
     },
     "execution_count": 159,
     "metadata": {},
     "output_type": "execute_result"
    }
   ],
   "source": [
    "## to fix that, there is a work around. \n",
    "# we add the parameter to the sort method .sort(key=str.lower)\n",
    "spam = ['Alice', 'ants', 'Bob', 'badgers', 'Carol', 'cats']\n",
    "spam.sort(key=str.lower)\n",
    "spam"
   ]
  },
  {
   "cell_type": "code",
   "execution_count": null,
   "id": "ab79415a-d662-402a-906b-cb92b308f5b7",
   "metadata": {},
   "outputs": [],
   "source": []
  },
  {
   "cell_type": "code",
   "execution_count": null,
   "id": "83f2026e-6005-4905-b6e5-381d51f2e61b",
   "metadata": {},
   "outputs": [],
   "source": []
  },
  {
   "cell_type": "markdown",
   "id": "f5c792e8-50be-4579-920c-a18eb3fb7099",
   "metadata": {},
   "source": [
    "## **Example Program: Magic 8 Ball with a List**"
   ]
  },
  {
   "cell_type": "code",
   "execution_count": 161,
   "id": "754a5efa-0cac-456d-a46a-729041336fa2",
   "metadata": {},
   "outputs": [
    {
     "name": "stdout",
     "output_type": "stream",
     "text": [
      "Very doubtful\n"
     ]
    }
   ],
   "source": [
    "import random;\n",
    "\n",
    "messages = ['It is certain',\n",
    "        'It is decidedly so',\n",
    "        'Yes definitely',\n",
    "        'Reply hazy try again',\n",
    "        'Ask again later',\n",
    "        'Concentrate and ask again',\n",
    "        'My reply is no',\n",
    "        'Outlook not so good',\n",
    "        'Very doubtful'\n",
    "]\n",
    "\n",
    "## i want to print random string within the message list\n",
    "print(messages[random.randint(0,len(messages)-1)])"
   ]
  },
  {
   "cell_type": "code",
   "execution_count": null,
   "id": "e0f47ff4-2175-490d-bba1-016133a9087f",
   "metadata": {},
   "outputs": [],
   "source": []
  },
  {
   "cell_type": "markdown",
   "id": "160c09d7-edd0-45f9-9ad9-d8c0c04ccef2",
   "metadata": {},
   "source": [
    "## **List-like Types: Strings and Tuples**"
   ]
  },
  {
   "cell_type": "code",
   "execution_count": 162,
   "id": "1e20869e-6408-4fdf-90be-0b47ac5097d8",
   "metadata": {},
   "outputs": [],
   "source": [
    "# consider this"
   ]
  },
  {
   "cell_type": "code",
   "execution_count": 166,
   "id": "08790e05-09e3-4d89-84d8-93032ed642a4",
   "metadata": {},
   "outputs": [],
   "source": [
    "name = 'Zophie';"
   ]
  },
  {
   "cell_type": "code",
   "execution_count": 167,
   "id": "b2ebf27f-c202-4dda-820e-47efc9721c9d",
   "metadata": {},
   "outputs": [
    {
     "name": "stdout",
     "output_type": "stream",
     "text": [
      "* * * Z * * *\n",
      "* * * o * * *\n",
      "* * * p * * *\n",
      "* * * h * * *\n",
      "* * * i * * *\n",
      "* * * e * * *\n"
     ]
    }
   ],
   "source": [
    "for i in name:\n",
    "    print('* * * '+i+' * * *');"
   ]
  },
  {
   "cell_type": "code",
   "execution_count": null,
   "id": "cc408a94-71ae-4495-8d18-c875035874a8",
   "metadata": {},
   "outputs": [],
   "source": []
  },
  {
   "cell_type": "code",
   "execution_count": 168,
   "id": "28588e8f-00d9-4381-a073-0f79df800568",
   "metadata": {},
   "outputs": [],
   "source": [
    "### **The Tuple Data Type**"
   ]
  },
  {
   "cell_type": "markdown",
   "id": "2ab56e34-1d42-4f00-9c62-df38a3cd9cde",
   "metadata": {},
   "source": [
    "The *tuple* data type is almost identical to the list data type, except in two ways:\n",
    "\n",
    "- Tuples are typed with parenthesis '(  )' instead of square brackets\n",
    "\n",
    "- Tuples like strings, are **Immutable**. Tupples cannot have their values modified, appended or removed."
   ]
  },
  {
   "cell_type": "code",
   "execution_count": 169,
   "id": "6df675f1-ccb7-43a2-8bbd-d78156bdbb4e",
   "metadata": {},
   "outputs": [],
   "source": [
    "## consider the following "
   ]
  },
  {
   "cell_type": "code",
   "execution_count": 170,
   "id": "b2f01e62-2547-45f5-a3b5-9051a82ab461",
   "metadata": {},
   "outputs": [],
   "source": [
    "eggs = ('Hello',42,0.5);"
   ]
  },
  {
   "cell_type": "code",
   "execution_count": 171,
   "id": "b1d51836-9d3c-49ba-a85f-c4c75d5a8cf6",
   "metadata": {},
   "outputs": [
    {
     "ename": "TypeError",
     "evalue": "'tuple' object does not support item assignment",
     "output_type": "error",
     "traceback": [
      "\u001b[0;31m---------------------------------------------------------------------------\u001b[0m",
      "\u001b[0;31mTypeError\u001b[0m                                 Traceback (most recent call last)",
      "Cell \u001b[0;32mIn[171], line 1\u001b[0m\n\u001b[0;32m----> 1\u001b[0m eggs[\u001b[38;5;241m1\u001b[39m] \u001b[38;5;241m=\u001b[39m \u001b[38;5;241m98\u001b[39m\n",
      "\u001b[0;31mTypeError\u001b[0m: 'tuple' object does not support item assignment"
     ]
    }
   ],
   "source": [
    "eggs[1] = 98;"
   ]
  },
  {
   "cell_type": "code",
   "execution_count": null,
   "id": "1834bfd2-c4c2-4783-9288-6a5ad5a61f40",
   "metadata": {},
   "outputs": [],
   "source": []
  },
  {
   "cell_type": "code",
   "execution_count": 172,
   "id": "bb533005-4fc1-41b1-b401-521821628192",
   "metadata": {},
   "outputs": [
    {
     "data": {
      "text/plain": [
       "'Hello'"
      ]
     },
     "execution_count": 172,
     "metadata": {},
     "output_type": "execute_result"
    }
   ],
   "source": [
    "## but can be accessed\n",
    "eggs[0]"
   ]
  },
  {
   "cell_type": "code",
   "execution_count": 173,
   "id": "a80b5b6b-e343-4a19-bc51-593ab8038f58",
   "metadata": {},
   "outputs": [
    {
     "data": {
      "text/plain": [
       "(42, 0.5)"
      ]
     },
     "execution_count": 173,
     "metadata": {},
     "output_type": "execute_result"
    }
   ],
   "source": [
    "eggs[1:]"
   ]
  },
  {
   "cell_type": "code",
   "execution_count": null,
   "id": "9cfe578e-43a6-4863-9eab-d36b02b6e976",
   "metadata": {},
   "outputs": [],
   "source": []
  },
  {
   "cell_type": "markdown",
   "id": "50505570-f46a-45cd-b720-78099292cbb0",
   "metadata": {},
   "source": [
    "If you only have 1 value in a tupple, you need to indicate it with a trailing comma after the first element. This let's python know that, it's a one element tupple, and not string within parenthesis."
   ]
  },
  {
   "cell_type": "code",
   "execution_count": 174,
   "id": "c4a490ae-b6d6-406a-8f44-dd9e1e91e24a",
   "metadata": {},
   "outputs": [],
   "source": [
    "greeting = ('hello')"
   ]
  },
  {
   "cell_type": "code",
   "execution_count": 175,
   "id": "fd2c1355-c14d-4ca9-8b90-529386768ae4",
   "metadata": {},
   "outputs": [
    {
     "data": {
      "text/plain": [
       "str"
      ]
     },
     "execution_count": 175,
     "metadata": {},
     "output_type": "execute_result"
    }
   ],
   "source": [
    "type(greeting)"
   ]
  },
  {
   "cell_type": "code",
   "execution_count": 176,
   "id": "6122449f-fb7f-4747-ae7b-27908288e22c",
   "metadata": {},
   "outputs": [],
   "source": [
    "greeting = ('hello',)"
   ]
  },
  {
   "cell_type": "code",
   "execution_count": 177,
   "id": "555ac91b-0d6d-4f1f-83f3-f101a8903f8a",
   "metadata": {},
   "outputs": [
    {
     "data": {
      "text/plain": [
       "tuple"
      ]
     },
     "execution_count": 177,
     "metadata": {},
     "output_type": "execute_result"
    }
   ],
   "source": [
    "type(greeting)"
   ]
  },
  {
   "cell_type": "code",
   "execution_count": null,
   "id": "7127c1fb-e8b1-4a38-a4ee-7586f959cf0f",
   "metadata": {},
   "outputs": [],
   "source": []
  },
  {
   "cell_type": "code",
   "execution_count": null,
   "id": "218eeb9a-3b65-4541-8922-1b737df857db",
   "metadata": {},
   "outputs": [],
   "source": []
  },
  {
   "cell_type": "markdown",
   "id": "3414ad17-8bd9-40a3-9fe9-7b9d1d226416",
   "metadata": {},
   "source": [
    "### Converting Types with the list() and tuple() Functions"
   ]
  },
  {
   "cell_type": "markdown",
   "id": "c5d1cf73-c440-4104-8ccb-c02ce7649e6c",
   "metadata": {},
   "source": [
    "Just like how str(42) will return '42', the string representation of the inte-\n",
    "ger 42, the functions list() and tuple() will return list and tuple versions\n",
    "of the values passed to them."
   ]
  },
  {
   "cell_type": "code",
   "execution_count": 179,
   "id": "9e0c7c81-186c-4399-9a5a-c41f880a8619",
   "metadata": {},
   "outputs": [
    {
     "data": {
      "text/plain": [
       "('Cat', 'dog', 5)"
      ]
     },
     "execution_count": 179,
     "metadata": {},
     "output_type": "execute_result"
    }
   ],
   "source": [
    "## considet the following\n",
    "tuple(['Cat','dog',5])"
   ]
  },
  {
   "cell_type": "code",
   "execution_count": 180,
   "id": "5bf2d45d-2ac3-4d6b-aa31-804b77e7ffd1",
   "metadata": {},
   "outputs": [
    {
     "data": {
      "text/plain": [
       "[5, 'hello', True]"
      ]
     },
     "execution_count": 180,
     "metadata": {},
     "output_type": "execute_result"
    }
   ],
   "source": [
    "list((5,\"hello\",True))"
   ]
  },
  {
   "cell_type": "code",
   "execution_count": 182,
   "id": "7310fff1-0509-4868-85f1-e67cfe348a71",
   "metadata": {},
   "outputs": [
    {
     "data": {
      "text/plain": [
       "['H', 'e', 'l', 'l', 'o']"
      ]
     },
     "execution_count": 182,
     "metadata": {},
     "output_type": "execute_result"
    }
   ],
   "source": [
    "list('Hello') ## converts a string to a list"
   ]
  },
  {
   "cell_type": "code",
   "execution_count": null,
   "id": "be06f424-f1d4-49ac-b975-7d84129fe6c8",
   "metadata": {},
   "outputs": [],
   "source": []
  },
  {
   "cell_type": "code",
   "execution_count": null,
   "id": "d41b5922-0280-4f9f-8f56-987144a249a6",
   "metadata": {},
   "outputs": [],
   "source": []
  },
  {
   "cell_type": "markdown",
   "id": "017a8189-c8b1-4407-a89d-5b25a1b54d73",
   "metadata": {},
   "source": [
    "### **The copy Module’s copy() and deepcopy() Functions**"
   ]
  },
  {
   "cell_type": "markdown",
   "id": "ade32e18-ded3-4d6a-9a0a-6f80256e08ff",
   "metadata": {},
   "source": [
    "Although passing around references is often the handiest way to deal with\n",
    "lists and dictionaries, if the function modifies the list or dictionary that is\n",
    "passed, you may not want these changes in the original list or dictionary\n",
    "value. For this, Python provides a module named copy that provides both\n",
    "the copy() and deepcopy() functions. The first of these, copy.copy(), can be used\n",
    "to make a duplicate copy of a mutable value like a list or dictionary, not just a\n",
    "copy of a reference."
   ]
  },
  {
   "cell_type": "code",
   "execution_count": 183,
   "id": "af58f821-e406-4339-b602-7e51877a781f",
   "metadata": {},
   "outputs": [],
   "source": [
    "import copy\n",
    "\n",
    "spam = ['A','B','C','D']\n",
    "cheese = copy.copy(spam);"
   ]
  },
  {
   "cell_type": "code",
   "execution_count": 184,
   "id": "289d8025-b5fa-4f68-b8e9-f7e554266276",
   "metadata": {},
   "outputs": [
    {
     "data": {
      "text/plain": [
       "'B'"
      ]
     },
     "execution_count": 184,
     "metadata": {},
     "output_type": "execute_result"
    }
   ],
   "source": [
    "cheese[1]"
   ]
  },
  {
   "cell_type": "code",
   "execution_count": 185,
   "id": "ab1c9c8b-d3ee-4669-a7ea-72694260032d",
   "metadata": {},
   "outputs": [],
   "source": [
    "cheese[1] = 43;"
   ]
  },
  {
   "cell_type": "code",
   "execution_count": 186,
   "id": "8fb7ad7e-0e18-4269-acb0-14b7bfe3e243",
   "metadata": {},
   "outputs": [
    {
     "data": {
      "text/plain": [
       "['A', 43, 'C', 'D']"
      ]
     },
     "execution_count": 186,
     "metadata": {},
     "output_type": "execute_result"
    }
   ],
   "source": [
    "cheese"
   ]
  },
  {
   "cell_type": "code",
   "execution_count": 187,
   "id": "1ffa8d7c-56c3-4757-801c-e10e61be09c9",
   "metadata": {},
   "outputs": [
    {
     "data": {
      "text/plain": [
       "['A', 'B', 'C', 'D']"
      ]
     },
     "execution_count": 187,
     "metadata": {},
     "output_type": "execute_result"
    }
   ],
   "source": [
    "spam"
   ]
  },
  {
   "cell_type": "code",
   "execution_count": null,
   "id": "ad557255-378e-4f83-bd90-f643c67e1e41",
   "metadata": {},
   "outputs": [],
   "source": []
  },
  {
   "cell_type": "code",
   "execution_count": 188,
   "id": "a7acf3dc-69b0-4e08-9a91-038cdbe2fe4c",
   "metadata": {},
   "outputs": [],
   "source": [
    "## we might encouter a problem thought..\n",
    "spam = ['a',[1,2,3,4],'b','c',[True,False]];\n",
    "cheese = copy.copy(spam)"
   ]
  },
  {
   "cell_type": "code",
   "execution_count": 189,
   "id": "93770dc2-2bc3-412f-9ca7-432b9ae494da",
   "metadata": {},
   "outputs": [
    {
     "data": {
      "text/plain": [
       "['a', [1, 2, 3, 4], 'b', 'c', [True, False]]"
      ]
     },
     "execution_count": 189,
     "metadata": {},
     "output_type": "execute_result"
    }
   ],
   "source": [
    "cheese"
   ]
  },
  {
   "cell_type": "markdown",
   "id": "5156ea29-d638-4c12-866e-9b42c9e34be8",
   "metadata": {},
   "source": [
    "If the list you need to copy contains lists, then use the copy.deepcopy()\n",
    "function instead of copy.copy(). The deepcopy() function will copy these\n",
    "inner lists as well."
   ]
  },
  {
   "cell_type": "code",
   "execution_count": null,
   "id": "b81de89c-7876-4355-983c-04b18f36398a",
   "metadata": {},
   "outputs": [],
   "source": []
  },
  {
   "cell_type": "code",
   "execution_count": null,
   "id": "c4c5bf3d-2828-492e-a340-d0e4dc773159",
   "metadata": {},
   "outputs": [],
   "source": []
  },
  {
   "cell_type": "code",
   "execution_count": null,
   "id": "79596444-0b9c-446b-a5fd-ceff549c0355",
   "metadata": {},
   "outputs": [],
   "source": []
  },
  {
   "cell_type": "markdown",
   "id": "9fb1eae7-1219-44c0-b77e-a30c8a229c2f",
   "metadata": {},
   "source": [
    "<center><h1><b>Chapter Questions</b></h1><center>"
   ]
  },
  {
   "cell_type": "markdown",
   "id": "c7929350-7b49-4888-8d4e-c7379c9680e6",
   "metadata": {},
   "source": [
    "1. What is [   ]   ?"
   ]
  },
  {
   "cell_type": "code",
   "execution_count": null,
   "id": "2a33143a-98a1-49e0-9bb9-5d3ea3177bbb",
   "metadata": {},
   "outputs": [],
   "source": []
  },
  {
   "cell_type": "markdown",
   "id": "37b26ffd-25ec-4c66-8646-1d455d41854f",
   "metadata": {},
   "source": [
    "2. How would you assign the value 'hello' as the third value in a list stored\n",
    "in a variable named spam? (Assume spam contains [2, 4, 6, 8, 10].)"
   ]
  },
  {
   "cell_type": "code",
   "execution_count": null,
   "id": "d4f840bc-689c-4800-a3ea-b3c57e73745e",
   "metadata": {},
   "outputs": [],
   "source": []
  },
  {
   "cell_type": "markdown",
   "id": "5f719f4f-1833-4873-b804-9b9bd29e7f6d",
   "metadata": {},
   "source": [
    "For the following three questions, let’s say spam contains the list ['a',\n",
    "'b', 'c', 'd']."
   ]
  },
  {
   "cell_type": "markdown",
   "id": "241f485c-2c82-4f47-bbc9-4894ff057630",
   "metadata": {},
   "source": [
    "3. What does spam[  int('3' * 2) / 11   ] evaluate to?"
   ]
  },
  {
   "cell_type": "code",
   "execution_count": null,
   "id": "89febfd4-b32c-4f5a-a140-93832d5aea8c",
   "metadata": {},
   "outputs": [],
   "source": []
  },
  {
   "cell_type": "markdown",
   "id": "4bd4370a-b486-454b-b518-e2373b5c3756",
   "metadata": {},
   "source": [
    "4. What does spam[-1] evaluate to?"
   ]
  },
  {
   "cell_type": "code",
   "execution_count": null,
   "id": "f8b39f7d-628b-44e8-8801-1795d8f2c2a2",
   "metadata": {},
   "outputs": [],
   "source": []
  },
  {
   "cell_type": "markdown",
   "id": "323863d7-573b-4b4a-9fd9-1209856992f5",
   "metadata": {},
   "source": [
    "5. What does spam[:2] evaluate to?"
   ]
  },
  {
   "cell_type": "code",
   "execution_count": null,
   "id": "48b88472-2ec9-452b-b56c-bb63edb41e05",
   "metadata": {},
   "outputs": [],
   "source": []
  },
  {
   "cell_type": "markdown",
   "id": "175c44e3-63f6-4f1a-8ce8-dea981aee077",
   "metadata": {},
   "source": [
    "For the following three questions, let’s say bacon contains the list\n",
    "[3.14, 'cat', 11, 'cat', True]."
   ]
  },
  {
   "cell_type": "markdown",
   "id": "dd5bdc52-0b41-4621-8ead-5db10157ea3c",
   "metadata": {},
   "source": [
    "6. What does bacon.index('cat') evaluate to?"
   ]
  },
  {
   "cell_type": "code",
   "execution_count": null,
   "id": "b3e48f17-03a9-4bd6-8b63-a448df9fed86",
   "metadata": {},
   "outputs": [],
   "source": []
  },
  {
   "cell_type": "markdown",
   "id": "453cdf38-adc5-403f-a5d7-50f6a22429f9",
   "metadata": {},
   "source": [
    "7. What does bacon.append(99) make the list value in bacon look like?"
   ]
  },
  {
   "cell_type": "code",
   "execution_count": null,
   "id": "5a83e46d-38cf-4cda-86f2-06647b5c14ac",
   "metadata": {},
   "outputs": [],
   "source": []
  },
  {
   "cell_type": "markdown",
   "id": "53c7a767-e0c3-4eac-b369-c39f66a8c719",
   "metadata": {},
   "source": [
    "8. What does bacon.remove('cat') make the list value in bacon look like?"
   ]
  },
  {
   "cell_type": "code",
   "execution_count": null,
   "id": "002ca382-e516-4433-8576-486b13cef79f",
   "metadata": {},
   "outputs": [],
   "source": []
  },
  {
   "cell_type": "markdown",
   "id": "f2064247-66b4-43c0-a0b3-23810f86663a",
   "metadata": {},
   "source": [
    "9. What are the operators for list concatenation and list replication?"
   ]
  },
  {
   "cell_type": "code",
   "execution_count": null,
   "id": "0eb80a33-bb53-4aae-ab28-750acd214696",
   "metadata": {},
   "outputs": [],
   "source": []
  },
  {
   "cell_type": "markdown",
   "id": "586a719c-10dd-4c1a-af49-430c13b93473",
   "metadata": {},
   "source": [
    "10. What is the difference between the append() and insert() list methods?"
   ]
  },
  {
   "cell_type": "code",
   "execution_count": null,
   "id": "0e37853a-e7d5-42ea-9157-7de18465b856",
   "metadata": {},
   "outputs": [],
   "source": []
  },
  {
   "cell_type": "markdown",
   "id": "8f13b6c5-580d-49ff-91a1-861a1ade0041",
   "metadata": {},
   "source": [
    "11. What are two ways to remove values from a list?"
   ]
  },
  {
   "cell_type": "code",
   "execution_count": null,
   "id": "615eb42d-a5f4-484a-a1fb-9cc077c9dd52",
   "metadata": {},
   "outputs": [],
   "source": []
  },
  {
   "cell_type": "markdown",
   "id": "1691d274-0c35-4550-ad2c-5129c42d8ef4",
   "metadata": {},
   "source": [
    "12. Name a few ways that list values are similar to string values."
   ]
  },
  {
   "cell_type": "code",
   "execution_count": null,
   "id": "792d4925-11e6-4ecf-81a8-0ce78181fa10",
   "metadata": {},
   "outputs": [],
   "source": []
  },
  {
   "cell_type": "markdown",
   "id": "4e6d8064-49c1-47e7-ada4-9b5e6ff94ecd",
   "metadata": {},
   "source": [
    "13. What is the difference between lists and tuples?"
   ]
  },
  {
   "cell_type": "code",
   "execution_count": null,
   "id": "33e18e29-0b09-45b1-a01e-e0a9a97ea53f",
   "metadata": {},
   "outputs": [],
   "source": []
  },
  {
   "cell_type": "markdown",
   "id": "1ce0144f-e0c6-49d0-b8ad-bbdbb9e3e6b5",
   "metadata": {},
   "source": [
    "14. How do you type the tuple value that has just the integer value 42 in it?"
   ]
  },
  {
   "cell_type": "code",
   "execution_count": null,
   "id": "efcd95a4-ce85-4fab-be31-2977a64ab149",
   "metadata": {},
   "outputs": [],
   "source": []
  },
  {
   "cell_type": "markdown",
   "id": "82612448-fbc9-4ca2-b207-130cd04ed326",
   "metadata": {},
   "source": [
    "15. How can you get the tuple form of a list value? How can you get the list\n",
    "form of a tuple value?"
   ]
  },
  {
   "cell_type": "code",
   "execution_count": null,
   "id": "876450ad-c9c4-4edd-b354-8681dc5c7000",
   "metadata": {},
   "outputs": [],
   "source": []
  },
  {
   "cell_type": "markdown",
   "id": "bcd83dbe-48e4-45b1-a545-04677c6f7c9e",
   "metadata": {},
   "source": [
    "16. Variables that “contain” list values don’t actually contain lists directly.\n",
    "What do they contain instead?"
   ]
  },
  {
   "cell_type": "code",
   "execution_count": null,
   "id": "d6da0881-39ad-4a11-8b7b-aa300a7836e1",
   "metadata": {},
   "outputs": [],
   "source": []
  },
  {
   "cell_type": "markdown",
   "id": "6cc6ea56-0354-4fa0-9f84-244be23ac6ef",
   "metadata": {},
   "source": [
    "17. What is the difference between copy.copy() and copy.deepcopy()?"
   ]
  },
  {
   "cell_type": "code",
   "execution_count": null,
   "id": "79517d09-85e2-4bf4-b143-fe6dcd0f2c2b",
   "metadata": {},
   "outputs": [],
   "source": []
  },
  {
   "cell_type": "code",
   "execution_count": null,
   "id": "5473bb14-c837-4d82-a644-66709c4dc242",
   "metadata": {},
   "outputs": [],
   "source": []
  },
  {
   "cell_type": "code",
   "execution_count": null,
   "id": "ed07181d-e15a-49b1-adc3-6d0d9c4b688d",
   "metadata": {},
   "outputs": [],
   "source": []
  },
  {
   "cell_type": "code",
   "execution_count": null,
   "id": "a378b85c-b575-46fe-a816-ca5d38943c4c",
   "metadata": {},
   "outputs": [],
   "source": []
  },
  {
   "cell_type": "markdown",
   "id": "0215767b-80e3-4479-b12c-7da852cabf14",
   "metadata": {},
   "source": [
    "<center><h1><b>Practice Projects</b></h1><center>"
   ]
  },
  {
   "cell_type": "markdown",
   "id": "454c185d-492b-40bf-8ecb-934a11ac04ff",
   "metadata": {},
   "source": [
    "## **Comma Code**\n",
    "#### Say you have a list value like this:\n",
    "#### spam = ['apples', 'bananas', 'tofu', 'cats']\n",
    "\n",
    "Write a function that takes a list value as an argument and returns\n",
    "a string with all the items separated by a comma and a space, with and\n",
    "inserted before the last item. For example, passing the previous spam list to\n",
    "the function would return 'apples, bananas, tofu, and cats'. But your func-\n",
    "tion should be able to work with any list value passed to it."
   ]
  },
  {
   "cell_type": "code",
   "execution_count": 237,
   "id": "73e8d59e-8a23-485d-9f31-131cbd209da0",
   "metadata": {},
   "outputs": [
    {
     "data": {
      "text/plain": [
       "'apples, bananas, tofu, and cats'"
      ]
     },
     "execution_count": 237,
     "metadata": {},
     "output_type": "execute_result"
    }
   ],
   "source": [
    "# Defining the list\n",
    "spam = ['apples','bananas','tofu','cats']\n",
    "\n",
    "\n",
    "## defining the function\n",
    "def commacode(spam):\n",
    "    string = '';\n",
    "    count = 0;\n",
    "    for word in spam:\n",
    "        count+=1;\n",
    "        \n",
    "        if count != len(spam):\n",
    "            string = string + word + \", \";\n",
    "        else:\n",
    "            string = string +'and '+ word;\n",
    "        # print(count);\n",
    "    return string;\n",
    "    \n",
    "commacode(spam)"
   ]
  },
  {
   "cell_type": "code",
   "execution_count": null,
   "id": "2ef91662-36f6-4aa7-bcac-32438e4d9417",
   "metadata": {},
   "outputs": [],
   "source": []
  },
  {
   "cell_type": "code",
   "execution_count": 239,
   "id": "a6d55efa-e83b-4b29-a709-e32b725b6166",
   "metadata": {},
   "outputs": [],
   "source": [
    "grid = [['.', '.', '.', '.', '.', '.'],\n",
    "        ['.', 'O', 'O', '.', '.', '.'],\n",
    "        ['O', 'O', 'O', 'O', '.', '.'],\n",
    "        ['O', 'O', 'O', 'O', 'O', '.'],\n",
    "        ['.', 'O', 'O', 'O', 'O', 'O'],\n",
    "        ['O', 'O', 'O', 'O', 'O', '.'],\n",
    "        ['O', 'O', 'O', 'O', '.', '.'],\n",
    "        ['.', 'O', 'O', '.', '.', '.'],\n",
    "        ['.', '.', '.', '.', '.', '.']\n",
    "]"
   ]
  },
  {
   "cell_type": "code",
   "execution_count": 248,
   "id": "702923ed-6173-43be-a5d0-00d84b3951ec",
   "metadata": {},
   "outputs": [
    {
     "name": "stdout",
     "output_type": "stream",
     "text": [
      ". . O O . O O . . \n",
      "\n",
      ". O O O O O O O . \n",
      "\n",
      ". O O O O O O O . \n",
      "\n",
      ". . O O O O O . . \n",
      "\n",
      ". . . O O O . . . \n",
      "\n",
      ". . . . O . . . . \n",
      "\n"
     ]
    }
   ],
   "source": [
    "# len(grid)\n",
    "for i in range(6):\n",
    "    for j in range(9):\n",
    "        print(grid[j][i],end=' ')\n",
    "    print('\\n')\n"
   ]
  },
  {
   "cell_type": "code",
   "execution_count": null,
   "id": "a7328121-5a94-46fe-ac75-ea6a3457517c",
   "metadata": {},
   "outputs": [],
   "source": []
  }
 ],
 "metadata": {
  "kernelspec": {
   "display_name": "Python 3 (ipykernel)",
   "language": "python",
   "name": "python3"
  },
  "language_info": {
   "codemirror_mode": {
    "name": "ipython",
    "version": 3
   },
   "file_extension": ".py",
   "mimetype": "text/x-python",
   "name": "python",
   "nbconvert_exporter": "python",
   "pygments_lexer": "ipython3",
   "version": "3.10.9"
  }
 },
 "nbformat": 4,
 "nbformat_minor": 5
}
