{
 "cells": [
  {
   "cell_type": "markdown",
   "id": "a79c8f8e-e142-49ae-ba3e-fc7333ee6bc8",
   "metadata": {},
   "source": [
    "<center><h1><b>Python Basics</b></h1></center>"
   ]
  },
  {
   "cell_type": "markdown",
   "id": "8c10eb73-1c0c-41e5-a967-d87870a3392a",
   "metadata": {},
   "source": [
    "## **Entering Expressions in the interactive shell**"
   ]
  },
  {
   "cell_type": "code",
   "execution_count": 4,
   "id": "8be1cee9-8d40-4676-8b98-6a764fcf96c0",
   "metadata": {},
   "outputs": [
    {
     "data": {
      "text/plain": [
       "4"
      ]
     },
     "execution_count": 4,
     "metadata": {},
     "output_type": "execute_result"
    }
   ],
   "source": [
    "2+2"
   ]
  },
  {
   "cell_type": "code",
   "execution_count": 6,
   "id": "962f7de3-05ef-4112-8270-9e19cff299a1",
   "metadata": {},
   "outputs": [
    {
     "data": {
      "text/plain": [
       "4"
      ]
     },
     "execution_count": 6,
     "metadata": {},
     "output_type": "execute_result"
    }
   ],
   "source": [
    "2**2"
   ]
  },
  {
   "cell_type": "markdown",
   "id": "4e740a01-a088-47b2-bcca-4eee5337ade7",
   "metadata": {},
   "source": [
    "#### Order of operations"
   ]
  },
  {
   "cell_type": "code",
   "execution_count": 7,
   "id": "fffe3c69-b197-439e-968a-1751913c038f",
   "metadata": {},
   "outputs": [
    {
     "data": {
      "text/plain": [
       "20"
      ]
     },
     "execution_count": 7,
     "metadata": {},
     "output_type": "execute_result"
    }
   ],
   "source": [
    "2+3*6"
   ]
  },
  {
   "cell_type": "code",
   "execution_count": 8,
   "id": "b3d75599-35cc-4f66-91fa-79b7ce5da2c4",
   "metadata": {},
   "outputs": [],
   "source": [
    "# in order to evaluate expressions based on how you want them, then we use brackets"
   ]
  },
  {
   "cell_type": "code",
   "execution_count": 9,
   "id": "f363b7f6-ac91-4089-b2bb-0e05ffbd80c1",
   "metadata": {},
   "outputs": [
    {
     "data": {
      "text/plain": [
       "30"
      ]
     },
     "execution_count": 9,
     "metadata": {},
     "output_type": "execute_result"
    }
   ],
   "source": [
    "(2+3)*6"
   ]
  },
  {
   "cell_type": "code",
   "execution_count": 10,
   "id": "10d74630-56e6-44bf-a75c-812e1b668353",
   "metadata": {},
   "outputs": [
    {
     "data": {
      "text/plain": [
       "16.0"
      ]
     },
     "execution_count": 10,
     "metadata": {},
     "output_type": "execute_result"
    }
   ],
   "source": [
    "(5-1)*((7+1)/(3-1))"
   ]
  },
  {
   "cell_type": "markdown",
   "id": "ee84aad1-0681-4fad-8902-8236d087d1eb",
   "metadata": {},
   "source": [
    "### *The Integer, Floating-Point, and String Data Types*"
   ]
  },
  {
   "cell_type": "markdown",
   "id": "d5a1fd4b-0df8-4c4a-b6ef-6531a8e6bc53",
   "metadata": {},
   "source": [
    "#### Common Data Types\n",
    "* Integers    -2, -1, 0, 1, 2, 3, 4, 5\n",
    "* Floating-point numbers    -1.25, -1.0, ‑-0.5, 0.0, 0.5, 1.0, 1.25\n",
    "* Strings    'a', 'aa', 'aaa', 'Hello!', '11 cats'"
   ]
  },
  {
   "cell_type": "code",
   "execution_count": null,
   "id": "1dca6ba7-debc-41d0-abaa-59e0bf9f9d60",
   "metadata": {},
   "outputs": [],
   "source": []
  },
  {
   "cell_type": "markdown",
   "id": "006738de-225f-4d93-993b-37a57894245e",
   "metadata": {},
   "source": [
    "## **Concatenation and Replication**"
   ]
  },
  {
   "cell_type": "code",
   "execution_count": 12,
   "id": "3df3a5f2-81f1-46a9-bf8c-d0bb7dc4da5b",
   "metadata": {},
   "outputs": [],
   "source": [
    "# we use a '+' sign to concatenate strings"
   ]
  },
  {
   "cell_type": "code",
   "execution_count": 13,
   "id": "8e60119e-bbf1-4265-8ecc-df6034d5bd3b",
   "metadata": {},
   "outputs": [
    {
     "data": {
      "text/plain": [
       "'AliceBob'"
      ]
     },
     "execution_count": 13,
     "metadata": {},
     "output_type": "execute_result"
    }
   ],
   "source": [
    "'Alice' + 'Bob'"
   ]
  },
  {
   "cell_type": "code",
   "execution_count": 14,
   "id": "9be9e95d-f470-4c04-b28c-e5d85c5de93e",
   "metadata": {},
   "outputs": [],
   "source": [
    "# for a space withing, we'll concatenate with a space"
   ]
  },
  {
   "cell_type": "code",
   "execution_count": 15,
   "id": "5baf73e9-509f-4087-8743-a28e91343605",
   "metadata": {},
   "outputs": [
    {
     "data": {
      "text/plain": [
       "'Alice Bob'"
      ]
     },
     "execution_count": 15,
     "metadata": {},
     "output_type": "execute_result"
    }
   ],
   "source": [
    "'Alice' + ' ' + 'Bob'"
   ]
  },
  {
   "cell_type": "code",
   "execution_count": 16,
   "id": "f71615f4-df5d-4d41-a4f5-bb7bf69dcc9d",
   "metadata": {},
   "outputs": [],
   "source": [
    "## You shouldn't concatenate values of single datatypes\n",
    "## example : 'Alice' + 42"
   ]
  },
  {
   "cell_type": "code",
   "execution_count": 17,
   "id": "91960c91-9135-48c3-a7d2-c02d1b82abf6",
   "metadata": {},
   "outputs": [
    {
     "ename": "TypeError",
     "evalue": "can only concatenate str (not \"int\") to str",
     "output_type": "error",
     "traceback": [
      "\u001b[0;31m---------------------------------------------------------------------------\u001b[0m",
      "\u001b[0;31mTypeError\u001b[0m                                 Traceback (most recent call last)",
      "Cell \u001b[0;32mIn[17], line 1\u001b[0m\n\u001b[0;32m----> 1\u001b[0m \u001b[38;5;124;43m'\u001b[39;49m\u001b[38;5;124;43mAlice\u001b[39;49m\u001b[38;5;124;43m'\u001b[39;49m\u001b[43m \u001b[49m\u001b[38;5;241;43m+\u001b[39;49m\u001b[43m \u001b[49m\u001b[38;5;241;43m42\u001b[39;49m\n",
      "\u001b[0;31mTypeError\u001b[0m: can only concatenate str (not \"int\") to str"
     ]
    }
   ],
   "source": [
    "'Alice' + 42"
   ]
  },
  {
   "cell_type": "code",
   "execution_count": 18,
   "id": "7d160b35-9950-4907-b7c6-1cf9c60d53ab",
   "metadata": {},
   "outputs": [],
   "source": [
    "## above is the error we expected to occur as concatenating a string with a number"
   ]
  },
  {
   "cell_type": "code",
   "execution_count": null,
   "id": "45336179-fc15-4742-a076-aea378bee259",
   "metadata": {},
   "outputs": [],
   "source": []
  },
  {
   "cell_type": "markdown",
   "id": "a4dfa4e4-13c7-44b5-a19d-a8326cee3d1e",
   "metadata": {},
   "source": [
    "#### '*' Replication Operator"
   ]
  },
  {
   "cell_type": "code",
   "execution_count": 19,
   "id": "041ad464-db74-4bbf-9e03-8e2823353007",
   "metadata": {},
   "outputs": [
    {
     "data": {
      "text/plain": [
       "'AliceAliceAliceAliceAlice'"
      ]
     },
     "execution_count": 19,
     "metadata": {},
     "output_type": "execute_result"
    }
   ],
   "source": [
    "'Alice' * 5"
   ]
  },
  {
   "cell_type": "code",
   "execution_count": 20,
   "id": "611c089e-2e94-4ce7-b99d-d944821d2c33",
   "metadata": {},
   "outputs": [],
   "source": [
    "## let's leave some space with them being replicated"
   ]
  },
  {
   "cell_type": "code",
   "execution_count": 21,
   "id": "35f95245-27f0-4279-96a6-50b8734a724f",
   "metadata": {},
   "outputs": [
    {
     "data": {
      "text/plain": [
       "'Alice Alice Alice Alice Alice '"
      ]
     },
     "execution_count": 21,
     "metadata": {},
     "output_type": "execute_result"
    }
   ],
   "source": [
    "'Alice ' * 5"
   ]
  },
  {
   "cell_type": "code",
   "execution_count": null,
   "id": "da70da41-6ddc-43ee-b8a5-294cf815513e",
   "metadata": {},
   "outputs": [],
   "source": []
  },
  {
   "cell_type": "code",
   "execution_count": null,
   "id": "e3a3c915-e533-4558-bcb1-22336115a820",
   "metadata": {},
   "outputs": [],
   "source": []
  },
  {
   "cell_type": "markdown",
   "id": "4f342e16-fbd8-4b22-9f72-b0e57bf2f2de",
   "metadata": {},
   "source": [
    "## __Storing Values in Variables__"
   ]
  },
  {
   "cell_type": "markdown",
   "id": "036b9395-1e93-469b-b288-50bcb27926da",
   "metadata": {},
   "source": [
    "##### A variable is like a box in the computer’s memory where you can store a single value. If you want to use the result of an evaluated expression later in your program, you can save it inside a variable."
   ]
  },
  {
   "cell_type": "code",
   "execution_count": 23,
   "id": "3052f489-8273-4b0c-990c-4b878844ed55",
   "metadata": {},
   "outputs": [],
   "source": [
    "## let's try some assignments"
   ]
  },
  {
   "cell_type": "code",
   "execution_count": 24,
   "id": "414bf3b1-5ac7-4425-8316-21cabc6ddadc",
   "metadata": {},
   "outputs": [],
   "source": [
    "spam = 40"
   ]
  },
  {
   "cell_type": "code",
   "execution_count": 25,
   "id": "a4a7931d-0c32-4c56-abb9-5de1d03f1e95",
   "metadata": {},
   "outputs": [
    {
     "data": {
      "text/plain": [
       "40"
      ]
     },
     "execution_count": 25,
     "metadata": {},
     "output_type": "execute_result"
    }
   ],
   "source": [
    "spam"
   ]
  },
  {
   "cell_type": "code",
   "execution_count": 26,
   "id": "375cd170-b341-42e9-87fd-3773931ed450",
   "metadata": {},
   "outputs": [],
   "source": [
    "# or, let's pring it"
   ]
  },
  {
   "cell_type": "code",
   "execution_count": 28,
   "id": "ef7c5977-6f4b-4db1-9cf9-257935fbc470",
   "metadata": {},
   "outputs": [
    {
     "name": "stdout",
     "output_type": "stream",
     "text": [
      "40\n"
     ]
    }
   ],
   "source": [
    "print(spam)"
   ]
  },
  {
   "cell_type": "code",
   "execution_count": null,
   "id": "c780c6c3-018c-4e4f-a3fa-80c6b95eed4e",
   "metadata": {},
   "outputs": [],
   "source": []
  },
  {
   "cell_type": "code",
   "execution_count": 29,
   "id": "59889e86-ad3b-4173-908b-4fff7f466835",
   "metadata": {},
   "outputs": [],
   "source": [
    "eggs = 2"
   ]
  },
  {
   "cell_type": "code",
   "execution_count": 30,
   "id": "48f02b26-0fc8-4a01-ac94-41fe4c84742c",
   "metadata": {},
   "outputs": [
    {
     "data": {
      "text/plain": [
       "42"
      ]
     },
     "execution_count": 30,
     "metadata": {},
     "output_type": "execute_result"
    }
   ],
   "source": [
    "spam + eggs"
   ]
  },
  {
   "cell_type": "code",
   "execution_count": 31,
   "id": "e81117cf-9f1f-49e6-ac4f-5b4a7fe5120d",
   "metadata": {},
   "outputs": [
    {
     "data": {
      "text/plain": [
       "82"
      ]
     },
     "execution_count": 31,
     "metadata": {},
     "output_type": "execute_result"
    }
   ],
   "source": [
    "spam + eggs + spam"
   ]
  },
  {
   "cell_type": "code",
   "execution_count": 33,
   "id": "ce3d5486-9ec2-4697-a022-011f2901a12c",
   "metadata": {},
   "outputs": [],
   "source": [
    "spam = spam + 2"
   ]
  },
  {
   "cell_type": "code",
   "execution_count": 34,
   "id": "b4500b15-6de5-4bcb-9a8b-8f48fcb7e279",
   "metadata": {},
   "outputs": [
    {
     "data": {
      "text/plain": [
       "44"
      ]
     },
     "execution_count": 34,
     "metadata": {},
     "output_type": "execute_result"
    }
   ],
   "source": [
    "spam"
   ]
  },
  {
   "cell_type": "code",
   "execution_count": 35,
   "id": "481dac23-3069-438e-bc8c-d636bceaaa0a",
   "metadata": {},
   "outputs": [],
   "source": [
    "## overwriting variables"
   ]
  },
  {
   "cell_type": "code",
   "execution_count": 36,
   "id": "4d05f33b-7885-49f6-acb6-d405063fee1b",
   "metadata": {},
   "outputs": [],
   "source": [
    "spam = \"Hello\""
   ]
  },
  {
   "cell_type": "code",
   "execution_count": 37,
   "id": "feac77c6-4428-48fb-9b1d-c7b08b3e534b",
   "metadata": {},
   "outputs": [
    {
     "data": {
      "text/plain": [
       "'Hello'"
      ]
     },
     "execution_count": 37,
     "metadata": {},
     "output_type": "execute_result"
    }
   ],
   "source": [
    "spam"
   ]
  },
  {
   "cell_type": "code",
   "execution_count": 40,
   "id": "d5f23377-3072-43a6-8349-03f627b2698b",
   "metadata": {},
   "outputs": [
    {
     "data": {
      "text/plain": [
       "'Goodbye'"
      ]
     },
     "execution_count": 40,
     "metadata": {},
     "output_type": "execute_result"
    }
   ],
   "source": [
    "spam = \"Goodbye\"\n",
    "spam"
   ]
  },
  {
   "cell_type": "code",
   "execution_count": null,
   "id": "f3f66c18-4e9c-44f0-8e69-be2199a29af9",
   "metadata": {},
   "outputs": [],
   "source": []
  },
  {
   "cell_type": "code",
   "execution_count": null,
   "id": "6c81fd7d-61a0-496b-96f1-05b5c8a1283f",
   "metadata": {},
   "outputs": [],
   "source": []
  },
  {
   "cell_type": "markdown",
   "id": "b6599f15-d51a-4d31-b659-3d395ba051cc",
   "metadata": {},
   "source": [
    "## **First Program**"
   ]
  },
  {
   "cell_type": "code",
   "execution_count": 45,
   "id": "e0fabfcd-e630-4dfa-8e3d-27473d43c19d",
   "metadata": {},
   "outputs": [
    {
     "name": "stdout",
     "output_type": "stream",
     "text": [
      "Hello World\n",
      "What's your name?\n"
     ]
    },
    {
     "name": "stdin",
     "output_type": "stream",
     "text": [
      " Joseph\n"
     ]
    },
    {
     "name": "stdout",
     "output_type": "stream",
     "text": [
      "It's good to meet you, Joseph\n",
      "The length of your name is : \n",
      "6\n"
     ]
    },
    {
     "name": "stdin",
     "output_type": "stream",
     "text": [
      "What's your age ? 54\n"
     ]
    },
    {
     "name": "stdout",
     "output_type": "stream",
     "text": [
      "You will be 55 in a year.\n"
     ]
    }
   ],
   "source": [
    "# This program says hello and asks for my name\n",
    "\n",
    "print('Hello World')\n",
    "print(\"What's your name?\") # asks for the user's name\n",
    "\n",
    "myName = input();\n",
    "print(\"It's good to meet you, \"+myName);\n",
    "print('The length of your name is : ' );\n",
    "print(len(myName))\n",
    "\n",
    "my_age = input(\"What's your age ?\");\n",
    "print('You will be ' + str(int(my_age) +1) + ' in a year.');"
   ]
  },
  {
   "cell_type": "code",
   "execution_count": 46,
   "id": "a71071ee-c269-42c2-92ee-fc0c9388e4ca",
   "metadata": {},
   "outputs": [
    {
     "name": "stdin",
     "output_type": "stream",
     "text": [
      "What's your age :  45\n"
     ]
    },
    {
     "data": {
      "text/plain": [
       "'45'"
      ]
     },
     "execution_count": 46,
     "metadata": {},
     "output_type": "execute_result"
    }
   ],
   "source": [
    "test = input(\"What's your age : \")\n",
    "test"
   ]
  },
  {
   "cell_type": "code",
   "execution_count": 47,
   "id": "602308e6-f386-4c67-83e1-46ef3864531f",
   "metadata": {},
   "outputs": [],
   "source": [
    "#  so, values entered using the input method, return string values"
   ]
  },
  {
   "cell_type": "code",
   "execution_count": null,
   "id": "31858e35-85b7-4e05-b2c4-774949037560",
   "metadata": {},
   "outputs": [],
   "source": []
  },
  {
   "cell_type": "markdown",
   "id": "f14e3f72-a581-4b92-bc86-6d08acc5b531",
   "metadata": {},
   "source": [
    "### **Disecting The Program**"
   ]
  },
  {
   "cell_type": "code",
   "execution_count": null,
   "id": "f98e84e0-54cd-4b2b-851e-ef7a61491e33",
   "metadata": {},
   "outputs": [],
   "source": []
  }
 ],
 "metadata": {
  "kernelspec": {
   "display_name": "Python 3 (ipykernel)",
   "language": "python",
   "name": "python3"
  },
  "language_info": {
   "codemirror_mode": {
    "name": "ipython",
    "version": 3
   },
   "file_extension": ".py",
   "mimetype": "text/x-python",
   "name": "python",
   "nbconvert_exporter": "python",
   "pygments_lexer": "ipython3",
   "version": "3.10.9"
  }
 },
 "nbformat": 4,
 "nbformat_minor": 5
}
