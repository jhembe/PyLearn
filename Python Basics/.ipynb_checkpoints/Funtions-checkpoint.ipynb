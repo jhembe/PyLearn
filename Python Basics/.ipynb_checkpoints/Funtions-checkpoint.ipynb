{
 "cells": [
  {
   "cell_type": "markdown",
   "id": "f9997890-21b4-4013-9fa8-ea7b3b99b22c",
   "metadata": {},
   "source": [
    "<center><h1><b>3 Functions</b></h1></center>"
   ]
  },
  {
   "cell_type": "code",
   "execution_count": null,
   "id": "01857198-7a26-4191-b0e9-ad79bcec42e5",
   "metadata": {},
   "outputs": [],
   "source": [
    "# let's start with normal functions"
   ]
  },
  {
   "cell_type": "code",
   "execution_count": 3,
   "id": "519129cc-56ae-4da4-88b5-4001d54a0330",
   "metadata": {},
   "outputs": [],
   "source": [
    "def hello():\n",
    "    print(\"Howdy\");\n",
    "    print(\"Howdy\");\n",
    "    print(\"Hello there\");"
   ]
  },
  {
   "cell_type": "code",
   "execution_count": 4,
   "id": "1e875a31-aaef-416e-a907-4c5e3f958230",
   "metadata": {},
   "outputs": [],
   "source": [
    "# // calling the functions"
   ]
  },
  {
   "cell_type": "code",
   "execution_count": 5,
   "id": "c925cc8b-21a9-4399-99e8-9414ec35d988",
   "metadata": {},
   "outputs": [
    {
     "name": "stdout",
     "output_type": "stream",
     "text": [
      "Howdy\n",
      "Howdy\n",
      "Hello there\n",
      "Howdy\n",
      "Howdy\n",
      "Hello there\n",
      "Howdy\n",
      "Howdy\n",
      "Hello there\n"
     ]
    }
   ],
   "source": [
    "hello();\n",
    "hello();\n",
    "hello();  # called the function hello 3 times"
   ]
  },
  {
   "cell_type": "markdown",
   "id": "8dba4caf-c30b-4739-a0c1-0b384fcc82cc",
   "metadata": {},
   "source": [
    "## **def Statements with Parameters**"
   ]
  },
  {
   "cell_type": "code",
   "execution_count": 6,
   "id": "3d51d87c-811a-445b-9f81-b8be2823f28f",
   "metadata": {},
   "outputs": [],
   "source": [
    "def hello(name):\n",
    "    print(\"Hello \"+name);"
   ]
  },
  {
   "cell_type": "code",
   "execution_count": 8,
   "id": "8978c3f2-95ba-4dd1-981d-c9045872ec20",
   "metadata": {},
   "outputs": [
    {
     "name": "stdout",
     "output_type": "stream",
     "text": [
      "Hello Joseph\n"
     ]
    }
   ],
   "source": [
    "hello(\"Joseph\");"
   ]
  },
  {
   "cell_type": "code",
   "execution_count": null,
   "id": "cafb0e8b-3884-4e0e-87b6-816b7c468ec5",
   "metadata": {},
   "outputs": [],
   "source": []
  },
  {
   "cell_type": "code",
   "execution_count": 11,
   "id": "77397ad6-934f-43c9-8901-b9280d85a735",
   "metadata": {},
   "outputs": [],
   "source": [
    "def add(num1,num2):\n",
    "    return num1+num2;"
   ]
  },
  {
   "cell_type": "code",
   "execution_count": 12,
   "id": "15119c2c-46da-433a-9e05-544498640421",
   "metadata": {},
   "outputs": [
    {
     "data": {
      "text/plain": [
       "9"
      ]
     },
     "execution_count": 12,
     "metadata": {},
     "output_type": "execute_result"
    }
   ],
   "source": [
    "add(4,5)"
   ]
  },
  {
   "cell_type": "code",
   "execution_count": null,
   "id": "86b28e1c-346e-4ee1-9eae-ed03a334dacc",
   "metadata": {},
   "outputs": [],
   "source": [
    "# you should actually, in most cases, store the value of the function in the variable"
   ]
  },
  {
   "cell_type": "code",
   "execution_count": 13,
   "id": "62bbe641-bcda-465c-9d26-280045bbd8a9",
   "metadata": {},
   "outputs": [],
   "source": [
    "result = add(4,6);"
   ]
  },
  {
   "cell_type": "code",
   "execution_count": 14,
   "id": "7cc47ea7-16b2-46b2-b85c-a2bd95e65afe",
   "metadata": {},
   "outputs": [
    {
     "data": {
      "text/plain": [
       "10"
      ]
     },
     "execution_count": 14,
     "metadata": {},
     "output_type": "execute_result"
    }
   ],
   "source": [
    "result"
   ]
  },
  {
   "cell_type": "markdown",
   "id": "59093556-01a5-4364-a2c7-db2466db394b",
   "metadata": {},
   "source": [
    "#### For example, the following program defines a function that returns a different string depending on what number it is passed as an argument."
   ]
  },
  {
   "cell_type": "code",
   "execution_count": 1,
   "id": "cafe4012-9f80-41bd-aacc-4872c1470c40",
   "metadata": {},
   "outputs": [],
   "source": [
    "def get_answer(answer_number):\n",
    "    if answer_number == 1:\n",
    "        return 'It is certain';\n",
    "    elif answer_number == 2:\n",
    "        return 'It is decidedly so';\n",
    "    elif answer_number == 3:\n",
    "        return 'Yes';\n",
    "    elif answer_number == 4:\n",
    "        return 'Reply Hazy, try again';\n",
    "    elif answer_number == 5:\n",
    "        return 'Ask again later';\n",
    "    elif answer_number == 6:\n",
    "        return 'Concetrate and ask again';\n",
    "    elif answer_number == 7:\n",
    "        return 'My reply is no';\n",
    "    elif answer_number == 8:\n",
    "        return 'Outlook not so good';\n",
    "    elif answer_number == 9:\n",
    "        return 'Very doubtful';\n",
    "    else:\n",
    "        return 'Something went wrong, Try agian later';\n",
    "    "
   ]
  },
  {
   "cell_type": "code",
   "execution_count": 2,
   "id": "6e841679-e465-432b-adbb-b19f31164c74",
   "metadata": {},
   "outputs": [
    {
     "data": {
      "text/plain": [
       "'Ask again later'"
      ]
     },
     "execution_count": 2,
     "metadata": {},
     "output_type": "execute_result"
    }
   ],
   "source": [
    "get_answer(5)"
   ]
  },
  {
   "cell_type": "code",
   "execution_count": 5,
   "id": "b4745057-3965-43f4-a5f5-bf70074f0d6e",
   "metadata": {},
   "outputs": [
    {
     "name": "stdout",
     "output_type": "stream",
     "text": [
      "Reply Hazy, try again\n"
     ]
    }
   ],
   "source": [
    "# lets make it give a randowm comment;\n",
    "import random;\n",
    "r = random.randint(1,9);\n",
    "comment = get_answer(r);\n",
    "print(comment);"
   ]
  },
  {
   "cell_type": "code",
   "execution_count": 6,
   "id": "e4a62656-644c-4f4c-9445-a8632d33b8f8",
   "metadata": {},
   "outputs": [],
   "source": [
    "# or we can write a 1 line thing"
   ]
  },
  {
   "cell_type": "code",
   "execution_count": 8,
   "id": "42c09a75-292b-4963-afeb-dd037d7be258",
   "metadata": {},
   "outputs": [
    {
     "name": "stdout",
     "output_type": "stream",
     "text": [
      "Very doubtful\n"
     ]
    }
   ],
   "source": [
    "print(get_answer(random.randint(1,9)))"
   ]
  },
  {
   "cell_type": "code",
   "execution_count": null,
   "id": "34528080-31ed-42a0-99c9-b6fb4c3ea3b4",
   "metadata": {},
   "outputs": [],
   "source": []
  },
  {
   "cell_type": "markdown",
   "id": "1045459e-8a64-41bc-8c09-836576ad8e4b",
   "metadata": {},
   "source": [
    "## **The None Value**"
   ]
  },
  {
   "cell_type": "markdown",
   "id": "3233fc39-8e5a-4f62-94fe-7e9489c4f1e6",
   "metadata": {},
   "source": [
    "In Python there is a value called None, which represents the absence of a\n",
    "value. None is the only value of the NoneType data type. (Other programming\n",
    "languages might call this value null, nil, or undefined.) Just like the Boolean\n",
    "True and False values, None must be typed with a capital N."
   ]
  },
  {
   "cell_type": "code",
   "execution_count": 9,
   "id": "4e0d9db7-49e0-4e1e-bd2e-61e6ab562235",
   "metadata": {},
   "outputs": [],
   "source": [
    "spam = None;"
   ]
  },
  {
   "cell_type": "code",
   "execution_count": 10,
   "id": "b2d7e71b-9981-4759-8c67-297913ee4f53",
   "metadata": {},
   "outputs": [],
   "source": [
    "spam"
   ]
  },
  {
   "cell_type": "code",
   "execution_count": 11,
   "id": "14a4bed1-744d-4745-8aec-89bce64e84e4",
   "metadata": {},
   "outputs": [
    {
     "data": {
      "text/plain": [
       "True"
      ]
     },
     "execution_count": 11,
     "metadata": {},
     "output_type": "execute_result"
    }
   ],
   "source": [
    "spam == None"
   ]
  },
  {
   "cell_type": "markdown",
   "id": "afd6443c-443b-4c7a-a588-0e423c51dbfb",
   "metadata": {},
   "source": [
    "Behind the scenes, Python adds return None to the end of any func-\n",
    "tion definition with no return statement. This is similar to how a while or for\n",
    "loop implicitly ends with a continue statement. Also, if you use a return state-\n",
    "ment without a value (that is, just the return keyword by itself), then None is\n",
    "returned."
   ]
  },
  {
   "cell_type": "code",
   "execution_count": null,
   "id": "0b1f8757-b19f-4652-9b53-27010d1b5579",
   "metadata": {},
   "outputs": [],
   "source": []
  },
  {
   "cell_type": "code",
   "execution_count": null,
   "id": "10879542-8232-4189-9c4c-7ad7778a05a3",
   "metadata": {},
   "outputs": [],
   "source": []
  },
  {
   "cell_type": "markdown",
   "id": "9676b8b3-6d6f-4404-9d25-042e8844f7a9",
   "metadata": {},
   "source": [
    "## **Keyword Arguments and print()**"
   ]
  },
  {
   "cell_type": "markdown",
   "id": "aba9d60f-0fdd-4ebd-8689-8a27ae2b305c",
   "metadata": {},
   "source": [
    "the print() function has the optional parameters\n",
    "end and sep to specify what should be printed at the end of its arguments\n",
    "and between its arguments (separating them), respectively."
   ]
  },
  {
   "cell_type": "code",
   "execution_count": 12,
   "id": "f5415b43-588c-4e20-9a86-9777d81e21c4",
   "metadata": {},
   "outputs": [
    {
     "name": "stdout",
     "output_type": "stream",
     "text": [
      "Hello\n",
      "World\n"
     ]
    }
   ],
   "source": [
    "print('Hello')\n",
    "print('World')"
   ]
  },
  {
   "cell_type": "markdown",
   "id": "f48218c0-fc4c-4fbe-a2b1-e93e2ea6c94a",
   "metadata": {},
   "source": [
    "The two strings appear on separate lines because the print() function\n",
    "automatically adds a newline character to the end of the string it is passed.\n",
    "\n",
    "However, you can set the end keyword argument to change this to a different\n",
    "string. For example, if the program were this:"
   ]
  },
  {
   "cell_type": "code",
   "execution_count": 14,
   "id": "1e73b85f-0933-48d8-a0a9-079294a20b39",
   "metadata": {},
   "outputs": [
    {
     "name": "stdout",
     "output_type": "stream",
     "text": [
      "Hello World\n"
     ]
    }
   ],
   "source": [
    "print('Hello', end = ' ')\n",
    "print('World')"
   ]
  },
  {
   "cell_type": "code",
   "execution_count": null,
   "id": "3a797d06-c9d7-481e-ab97-60e349504b70",
   "metadata": {},
   "outputs": [],
   "source": []
  },
  {
   "cell_type": "markdown",
   "id": "743e18bc-db4d-4ace-b83f-e222313d0274",
   "metadata": {},
   "source": [
    "Similarly, when you pass multiple string values to print(), the function\n",
    "will automatically separate them with a single space. Enter the following\n",
    "into the interactive shell:"
   ]
  },
  {
   "cell_type": "code",
   "execution_count": 15,
   "id": "9e3da015-72e8-4d19-9100-b5e66749566b",
   "metadata": {},
   "outputs": [
    {
     "name": "stdout",
     "output_type": "stream",
     "text": [
      "Cats Dogs Mice\n"
     ]
    }
   ],
   "source": [
    "print('Cats','Dogs','Mice')"
   ]
  },
  {
   "cell_type": "markdown",
   "id": "ce2f61c2-255c-46d6-bb27-a8e59f076ea3",
   "metadata": {},
   "source": [
    "But you could replace the default separating string by passing the sep\n",
    "keyword argument. Enter the following into the interactive shell:"
   ]
  },
  {
   "cell_type": "code",
   "execution_count": 16,
   "id": "390ab98a-ade2-4056-8915-47339159eb66",
   "metadata": {},
   "outputs": [
    {
     "name": "stdout",
     "output_type": "stream",
     "text": [
      "Cats, Dogs, Mice\n"
     ]
    }
   ],
   "source": [
    "print('Cats','Dogs','Mice',sep=', ')"
   ]
  },
  {
   "cell_type": "code",
   "execution_count": null,
   "id": "d998c14c-1f91-42eb-8614-e024bdc66c7f",
   "metadata": {},
   "outputs": [],
   "source": []
  },
  {
   "cell_type": "markdown",
   "id": "8c82e413-b6bc-49ec-80bd-be1b19850395",
   "metadata": {},
   "source": [
    "## **Local and Global Scope**"
   ]
  },
  {
   "cell_type": "code",
   "execution_count": 17,
   "id": "3f374df8-7fcd-47ef-b717-9990cb68d0df",
   "metadata": {},
   "outputs": [],
   "source": [
    "# consider the program below"
   ]
  },
  {
   "cell_type": "code",
   "execution_count": 18,
   "id": "2c662fa7-1ec3-407b-9982-376ecbd06f35",
   "metadata": {},
   "outputs": [
    {
     "ename": "NameError",
     "evalue": "name 'eggs' is not defined",
     "output_type": "error",
     "traceback": [
      "\u001b[0;31m---------------------------------------------------------------------------\u001b[0m",
      "\u001b[0;31mNameError\u001b[0m                                 Traceback (most recent call last)",
      "Cell \u001b[0;32mIn[18], line 5\u001b[0m\n\u001b[1;32m      2\u001b[0m     eggs \u001b[38;5;241m=\u001b[39m \u001b[38;5;241m31337\u001b[39m;\n\u001b[1;32m      4\u001b[0m spam();\n\u001b[0;32m----> 5\u001b[0m \u001b[38;5;28mprint\u001b[39m(\u001b[43meggs\u001b[49m)\n",
      "\u001b[0;31mNameError\u001b[0m: name 'eggs' is not defined"
     ]
    }
   ],
   "source": [
    "def spam():\n",
    "    eggs = 31337;\n",
    "\n",
    "spam();\n",
    "print(eggs)"
   ]
  },
  {
   "cell_type": "markdown",
   "id": "d327e9c4-57da-4d11-b00c-e24db2b80fc2",
   "metadata": {},
   "source": [
    "The above error occured because, we're trying to access a variable that's declared in a local scope of the function spam()"
   ]
  },
  {
   "cell_type": "code",
   "execution_count": null,
   "id": "7050e518-8349-45d8-ad22-66f6b0730b3d",
   "metadata": {},
   "outputs": [],
   "source": []
  },
  {
   "cell_type": "markdown",
   "id": "c6f35c36-2445-4824-b076-8488aeff0080",
   "metadata": {},
   "source": [
    "#### **Local Scopes Cannot Use Variables in Other Local Scopes** "
   ]
  },
  {
   "cell_type": "code",
   "execution_count": 19,
   "id": "fdde6e46-4b88-4bf5-b59f-c7f2c19caed4",
   "metadata": {},
   "outputs": [],
   "source": [
    "# consider the following program"
   ]
  },
  {
   "cell_type": "code",
   "execution_count": 21,
   "id": "bd203ce8-7d93-44a1-8fca-6195cd65b016",
   "metadata": {},
   "outputs": [
    {
     "name": "stdout",
     "output_type": "stream",
     "text": [
      "99\n"
     ]
    }
   ],
   "source": [
    "def spam():\n",
    "    eggs = 99;\n",
    "    bacon();\n",
    "    print(eggs)\n",
    "    \n",
    "def bacon():\n",
    "    ham = 101;\n",
    "    eggs = 0;\n",
    "    \n",
    "spam()"
   ]
  },
  {
   "cell_type": "markdown",
   "id": "450c08a9-3069-4713-af8e-12ded71982bd",
   "metadata": {},
   "source": [
    "#### **Global Variables Can Be Read from a Local Scope**"
   ]
  },
  {
   "cell_type": "code",
   "execution_count": 22,
   "id": "d36422a8-ee6c-4e72-b4af-863090647721",
   "metadata": {},
   "outputs": [
    {
     "name": "stdout",
     "output_type": "stream",
     "text": [
      "42\n",
      "42\n"
     ]
    }
   ],
   "source": [
    "def spam():\n",
    "    print(eggs);\n",
    "    \n",
    "eggs = 42;\n",
    "spam();\n",
    "\n",
    "# also let's print eggs\n",
    "print(eggs)"
   ]
  },
  {
   "cell_type": "code",
   "execution_count": null,
   "id": "d61e4422-d80c-4f00-911a-9a78e52ada6a",
   "metadata": {},
   "outputs": [],
   "source": []
  },
  {
   "cell_type": "markdown",
   "id": "f212684d-2663-4e87-8484-83bc09cc6209",
   "metadata": {},
   "source": [
    "#### **Local and Global Variables with the Same Name**"
   ]
  },
  {
   "cell_type": "markdown",
   "id": "ebd89169-9ac7-49b9-b1a8-b59ff397bf2c",
   "metadata": {},
   "source": [
    "To simplify your life, avoid using local variables that have the same name\n",
    "as a global variable or another local variable. But technically, it’s perfectly\n",
    "legal to do so in Python."
   ]
  },
  {
   "cell_type": "code",
   "execution_count": 23,
   "id": "6e4ede50-2aa6-4e4f-9777-33026993ea88",
   "metadata": {},
   "outputs": [
    {
     "name": "stdout",
     "output_type": "stream",
     "text": [
      "bacon local\n",
      "spam local\n",
      "bacon local\n",
      "global\n"
     ]
    }
   ],
   "source": [
    "def spam():\n",
    "    eggs = 'spam local';\n",
    "    print(eggs);\n",
    "    \n",
    "def bacon():\n",
    "    eggs = 'bacon local'\n",
    "    print(eggs) # prints 'bacon local'\n",
    "    spam();\n",
    "    print(eggs) # prints 'bacon local'\n",
    "    \n",
    "eggs = 'global'\n",
    "bacon()\n",
    "print(eggs)"
   ]
  },
  {
   "cell_type": "code",
   "execution_count": null,
   "id": "1f332350-15c9-429a-a267-08941d40ccb7",
   "metadata": {},
   "outputs": [],
   "source": []
  },
  {
   "cell_type": "markdown",
   "id": "858b31a8-cf29-4af8-a553-c267933b23f3",
   "metadata": {},
   "source": [
    "## **The global Statement**"
   ]
  },
  {
   "cell_type": "markdown",
   "id": "0fcf283d-6ff7-40eb-9895-973a92d816b7",
   "metadata": {},
   "source": [
    "If you need to modify a global variable from within a function, use the global\n",
    "statement. If you have a line such as global eggs at the top of a function,\n",
    "it tells Python, “In this function, eggs refers to the global variable, so don’t\n",
    "create a local variable with this name.”"
   ]
  },
  {
   "cell_type": "code",
   "execution_count": 24,
   "id": "aa5938ff-bc0c-4176-bd4e-1d78300c5e08",
   "metadata": {},
   "outputs": [
    {
     "name": "stdout",
     "output_type": "stream",
     "text": [
      "spam new global\n"
     ]
    }
   ],
   "source": [
    "eggs = 'global'\n",
    "\n",
    "def spam():\n",
    "    global eggs;\n",
    "    eggs = 'spam new global';\n",
    "    \n",
    "spam();\n",
    "print(eggs)"
   ]
  },
  {
   "cell_type": "code",
   "execution_count": null,
   "id": "dbe29abc-3ea8-4716-8398-4660f465ff54",
   "metadata": {},
   "outputs": [],
   "source": []
  },
  {
   "cell_type": "code",
   "execution_count": null,
   "id": "9b0fcc05-f082-4b18-a7e9-6ef41b5871c9",
   "metadata": {},
   "outputs": [],
   "source": []
  },
  {
   "cell_type": "markdown",
   "id": "78fccbea-b104-4cb3-9ec1-7789f6867a3b",
   "metadata": {},
   "source": [
    "## **Exception Handling**"
   ]
  },
  {
   "cell_type": "markdown",
   "id": "15555cc3-8392-4843-a3d6-76f392ed912d",
   "metadata": {},
   "source": [
    "Right now, getting an error, or exception, in your Python program means the\n",
    "entire program will crash. You don’t want this to happen in real-world pro-\n",
    "grams. Instead, you want the program to detect errors, handle them, and\n",
    "then continue to run.\n",
    "For example, consider the following program, which has a “divide-by-\n",
    "zero” error."
   ]
  },
  {
   "cell_type": "code",
   "execution_count": 25,
   "id": "3d47dfe2-71f5-4d1d-8071-ef9f18f66045",
   "metadata": {},
   "outputs": [],
   "source": [
    "def spam(divideBy):\n",
    "    return 42 / divideBy"
   ]
  },
  {
   "cell_type": "code",
   "execution_count": 26,
   "id": "4e917bde-b284-4f10-8220-0fb43b261b0e",
   "metadata": {},
   "outputs": [
    {
     "data": {
      "text/plain": [
       "21.0"
      ]
     },
     "execution_count": 26,
     "metadata": {},
     "output_type": "execute_result"
    }
   ],
   "source": [
    "spam(2)"
   ]
  },
  {
   "cell_type": "code",
   "execution_count": 27,
   "id": "6ecfc258-035e-4303-b8a3-74159b6d1b8e",
   "metadata": {},
   "outputs": [
    {
     "data": {
      "text/plain": [
       "3.5"
      ]
     },
     "execution_count": 27,
     "metadata": {},
     "output_type": "execute_result"
    }
   ],
   "source": [
    "spam(12)"
   ]
  },
  {
   "cell_type": "code",
   "execution_count": 28,
   "id": "ddd962ac-aec4-4788-9dc2-66ca0ee45567",
   "metadata": {},
   "outputs": [
    {
     "ename": "ZeroDivisionError",
     "evalue": "division by zero",
     "output_type": "error",
     "traceback": [
      "\u001b[0;31m---------------------------------------------------------------------------\u001b[0m",
      "\u001b[0;31mZeroDivisionError\u001b[0m                         Traceback (most recent call last)",
      "Cell \u001b[0;32mIn[28], line 1\u001b[0m\n\u001b[0;32m----> 1\u001b[0m \u001b[43mspam\u001b[49m\u001b[43m(\u001b[49m\u001b[38;5;241;43m0\u001b[39;49m\u001b[43m)\u001b[49m\n",
      "Cell \u001b[0;32mIn[25], line 2\u001b[0m, in \u001b[0;36mspam\u001b[0;34m(divideBy)\u001b[0m\n\u001b[1;32m      1\u001b[0m \u001b[38;5;28;01mdef\u001b[39;00m \u001b[38;5;21mspam\u001b[39m(divideBy):\n\u001b[0;32m----> 2\u001b[0m     \u001b[38;5;28;01mreturn\u001b[39;00m \u001b[38;5;241;43m42\u001b[39;49m\u001b[43m \u001b[49m\u001b[38;5;241;43m/\u001b[39;49m\u001b[43m \u001b[49m\u001b[43mdivideBy\u001b[49m\n",
      "\u001b[0;31mZeroDivisionError\u001b[0m: division by zero"
     ]
    }
   ],
   "source": [
    "spam(0)"
   ]
  },
  {
   "cell_type": "code",
   "execution_count": 29,
   "id": "47751f0f-6ede-4d35-ac7a-9433c53cece4",
   "metadata": {},
   "outputs": [],
   "source": [
    "# here is how to fix it. we'll use try and except statements"
   ]
  },
  {
   "cell_type": "code",
   "execution_count": 35,
   "id": "c5968bb8-0fb7-4fce-a880-90dd00b5d79c",
   "metadata": {},
   "outputs": [
    {
     "data": {
      "text/plain": [
       "3.5"
      ]
     },
     "execution_count": 35,
     "metadata": {},
     "output_type": "execute_result"
    }
   ],
   "source": [
    "def spam(divideBy):\n",
    "    try:\n",
    "        return 42 / divideBy;\n",
    "    except ZeroDivisionError:\n",
    "        print(\"Error : Invalid argument.\");\n",
    "        \n",
    "    print(\"I'm done\")\n",
    "\n",
    "spam(2)\n",
    "spam(12)"
   ]
  },
  {
   "cell_type": "code",
   "execution_count": 36,
   "id": "d3ccbfff-62d4-4de8-bdd3-f51e60720822",
   "metadata": {},
   "outputs": [
    {
     "name": "stdout",
     "output_type": "stream",
     "text": [
      "Error : Invalid argument.\n",
      "I'm done\n"
     ]
    }
   ],
   "source": [
    "spam(0)"
   ]
  },
  {
   "cell_type": "code",
   "execution_count": null,
   "id": "60b932c2-6b78-4a05-8226-d7ca383f560c",
   "metadata": {},
   "outputs": [],
   "source": []
  },
  {
   "cell_type": "code",
   "execution_count": null,
   "id": "77cf5acf-31a8-434b-9023-c221e13c51e4",
   "metadata": {},
   "outputs": [],
   "source": []
  },
  {
   "cell_type": "markdown",
   "id": "9497b30c-c43f-409a-beea-5130166bd32b",
   "metadata": {},
   "source": [
    "## **A Short Program: Guess the Number**"
   ]
  },
  {
   "cell_type": "code",
   "execution_count": 37,
   "id": "2a9a491c-c418-45b0-8602-fd693b64ea36",
   "metadata": {},
   "outputs": [],
   "source": [
    "#"
   ]
  },
  {
   "cell_type": "code",
   "execution_count": 44,
   "id": "7a45035e-a0ca-4f07-86a5-a403c38e8fee",
   "metadata": {},
   "outputs": [
    {
     "name": "stdout",
     "output_type": "stream",
     "text": [
      "I am thinking of a number betwen 1 and 20\n"
     ]
    },
    {
     "name": "stdin",
     "output_type": "stream",
     "text": [
      "How many tries do you want :  3\n",
      "Take a guess :  12\n"
     ]
    },
    {
     "name": "stdout",
     "output_type": "stream",
     "text": [
      "Your guess is too high\n"
     ]
    },
    {
     "name": "stdin",
     "output_type": "stream",
     "text": [
      "Take a guess :  2\n"
     ]
    },
    {
     "name": "stdout",
     "output_type": "stream",
     "text": [
      "Your guess is too low\n"
     ]
    },
    {
     "name": "stdin",
     "output_type": "stream",
     "text": [
      "Take a guess :  2\n"
     ]
    },
    {
     "name": "stdout",
     "output_type": "stream",
     "text": [
      "Your guess is too low\n",
      "Nope, the number i was thinking of was 10\n"
     ]
    }
   ],
   "source": [
    "import random;\n",
    "print(\"I am thinking of a number betwen 1 and 20\")\n",
    "guess_number = random.randint(1,20);\n",
    "user_number=0;\n",
    "\n",
    "# i want a player to guess in 6 tries\n",
    "# or let's ask him\n",
    "no_tries = int(input(\"How many tries do you want : \"));\n",
    "\n",
    "for i in range(no_tries):    \n",
    "    user_number = int(input(\"Take a guess : \"));\n",
    "    if user_number > guess_number:\n",
    "        print(\"Your guess is too high\");\n",
    "    elif user_number < guess_number:\n",
    "        print(\"Your guess is too low\");\n",
    "    else:\n",
    "        break;\n",
    "        \n",
    "if user_number == guess_number:\n",
    "    print(\"Good Job! You guesed my number in \"+(i+1)+\" guesses!\");\n",
    "else:\n",
    "    print(\"Nope, the number i was thinking of was \"+ str(guess_number));"
   ]
  },
  {
   "cell_type": "code",
   "execution_count": null,
   "id": "a2667f0b-bba9-4329-9c88-c5ab8b1dc1eb",
   "metadata": {},
   "outputs": [],
   "source": []
  },
  {
   "cell_type": "code",
   "execution_count": null,
   "id": "4d40a545-6726-461f-8ecc-349d8e71d61f",
   "metadata": {},
   "outputs": [],
   "source": []
  },
  {
   "cell_type": "markdown",
   "id": "9b0b4122-cace-402e-adce-3aaa2f782c2b",
   "metadata": {},
   "source": [
    "## **PRACTICE PROJECT - The Collatz Sequence**"
   ]
  },
  {
   "cell_type": "code",
   "execution_count": 19,
   "id": "401d6c82-c4e3-4123-9e38-67fb3696173c",
   "metadata": {},
   "outputs": [
    {
     "name": "stdin",
     "output_type": "stream",
     "text": [
      "Enter a number :  re\n"
     ]
    },
    {
     "name": "stdout",
     "output_type": "stream",
     "text": [
      "Enter a number\n",
      "4\n",
      "2\n",
      "1\n"
     ]
    }
   ],
   "source": [
    "# i'll use while loop to call the function. the value should update itself everytime\n",
    "# first let's create the collatz function\n",
    "\n",
    "def collatz(num):\n",
    "    # if the value is evem\n",
    "    if num % 2 == 0:\n",
    "        return int(num/2);\n",
    "    \n",
    "    elif num % 2 == 1:\n",
    "        return int(3*num + 1);\n",
    "    \n",
    "    else:\n",
    "        print(\"An error occured\");\n",
    "\n",
    "try:\n",
    "    num = int(input(\"Enter a number : \"));\n",
    "except ValueError:\n",
    "    print(\"Error : Enter a number\")\n",
    "\n",
    "while True:\n",
    "    num = collatz(num);\n",
    "    print(num)\n",
    "    if num == 1:\n",
    "        break;\n",
    "    collatz(num);\n",
    "    "
   ]
  },
  {
   "cell_type": "code",
   "execution_count": null,
   "id": "8ac97281-a95d-4ccd-b107-b33827abcc23",
   "metadata": {},
   "outputs": [],
   "source": []
  }
 ],
 "metadata": {
  "kernelspec": {
   "display_name": "Python 3 (ipykernel)",
   "language": "python",
   "name": "python3"
  },
  "language_info": {
   "codemirror_mode": {
    "name": "ipython",
    "version": 3
   },
   "file_extension": ".py",
   "mimetype": "text/x-python",
   "name": "python",
   "nbconvert_exporter": "python",
   "pygments_lexer": "ipython3",
   "version": "3.10.9"
  }
 },
 "nbformat": 4,
 "nbformat_minor": 5
}
