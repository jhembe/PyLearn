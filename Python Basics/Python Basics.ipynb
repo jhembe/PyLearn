{
 "cells": [
  {
   "cell_type": "markdown",
   "id": "a79c8f8e-e142-49ae-ba3e-fc7333ee6bc8",
   "metadata": {},
   "source": [
    "<center><h1><b>Python Basics</b></h1></center>"
   ]
  },
  {
   "cell_type": "markdown",
   "id": "8c10eb73-1c0c-41e5-a967-d87870a3392a",
   "metadata": {},
   "source": [
    "# **Entering Expressions in the interactive shell**"
   ]
  },
  {
   "cell_type": "code",
   "execution_count": 4,
   "id": "8be1cee9-8d40-4676-8b98-6a764fcf96c0",
   "metadata": {},
   "outputs": [
    {
     "data": {
      "text/plain": [
       "4"
      ]
     },
     "execution_count": 4,
     "metadata": {},
     "output_type": "execute_result"
    }
   ],
   "source": [
    "2+2"
   ]
  },
  {
   "cell_type": "code",
   "execution_count": 6,
   "id": "962f7de3-05ef-4112-8270-9e19cff299a1",
   "metadata": {},
   "outputs": [
    {
     "data": {
      "text/plain": [
       "4"
      ]
     },
     "execution_count": 6,
     "metadata": {},
     "output_type": "execute_result"
    }
   ],
   "source": [
    "2**2"
   ]
  },
  {
   "cell_type": "markdown",
   "id": "4e740a01-a088-47b2-bcca-4eee5337ade7",
   "metadata": {},
   "source": [
    "#### Order of operations"
   ]
  },
  {
   "cell_type": "code",
   "execution_count": 7,
   "id": "fffe3c69-b197-439e-968a-1751913c038f",
   "metadata": {},
   "outputs": [
    {
     "data": {
      "text/plain": [
       "20"
      ]
     },
     "execution_count": 7,
     "metadata": {},
     "output_type": "execute_result"
    }
   ],
   "source": [
    "2+3*6"
   ]
  },
  {
   "cell_type": "code",
   "execution_count": 8,
   "id": "b3d75599-35cc-4f66-91fa-79b7ce5da2c4",
   "metadata": {},
   "outputs": [],
   "source": [
    "# in order to evaluate expressions based on how you want them, then we use brackets"
   ]
  },
  {
   "cell_type": "code",
   "execution_count": 9,
   "id": "f363b7f6-ac91-4089-b2bb-0e05ffbd80c1",
   "metadata": {},
   "outputs": [
    {
     "data": {
      "text/plain": [
       "30"
      ]
     },
     "execution_count": 9,
     "metadata": {},
     "output_type": "execute_result"
    }
   ],
   "source": [
    "(2+3)*6"
   ]
  },
  {
   "cell_type": "code",
   "execution_count": 10,
   "id": "10d74630-56e6-44bf-a75c-812e1b668353",
   "metadata": {},
   "outputs": [
    {
     "data": {
      "text/plain": [
       "16.0"
      ]
     },
     "execution_count": 10,
     "metadata": {},
     "output_type": "execute_result"
    }
   ],
   "source": [
    "(5-1)*((7+1)/(3-1))"
   ]
  },
  {
   "cell_type": "markdown",
   "id": "ee84aad1-0681-4fad-8902-8236d087d1eb",
   "metadata": {},
   "source": [
    "### *The Integer, Floating-Point, and String Data Types*"
   ]
  },
  {
   "cell_type": "markdown",
   "id": "d5a1fd4b-0df8-4c4a-b6ef-6531a8e6bc53",
   "metadata": {},
   "source": [
    "#### Common Data Types\n",
    "* Integers    -2, -1, 0, 1, 2, 3, 4, 5\n",
    "* Floating-point numbers    -1.25, -1.0, ‑-0.5, 0.0, 0.5, 1.0, 1.25\n",
    "* Strings    'a', 'aa', 'aaa', 'Hello!', '11 cats'"
   ]
  },
  {
   "cell_type": "code",
   "execution_count": null,
   "id": "1dca6ba7-debc-41d0-abaa-59e0bf9f9d60",
   "metadata": {},
   "outputs": [],
   "source": []
  },
  {
   "cell_type": "markdown",
   "id": "006738de-225f-4d93-993b-37a57894245e",
   "metadata": {},
   "source": [
    "## **Concatenation and Replication**"
   ]
  },
  {
   "cell_type": "code",
   "execution_count": 12,
   "id": "3df3a5f2-81f1-46a9-bf8c-d0bb7dc4da5b",
   "metadata": {},
   "outputs": [],
   "source": [
    "# we use a '+' sign to concatenate strings"
   ]
  },
  {
   "cell_type": "code",
   "execution_count": 13,
   "id": "8e60119e-bbf1-4265-8ecc-df6034d5bd3b",
   "metadata": {},
   "outputs": [
    {
     "data": {
      "text/plain": [
       "'AliceBob'"
      ]
     },
     "execution_count": 13,
     "metadata": {},
     "output_type": "execute_result"
    }
   ],
   "source": [
    "'Alice' + 'Bob'"
   ]
  },
  {
   "cell_type": "code",
   "execution_count": 14,
   "id": "9be9e95d-f470-4c04-b28c-e5d85c5de93e",
   "metadata": {},
   "outputs": [],
   "source": [
    "# for a space withing, we'll concatenate with a space"
   ]
  },
  {
   "cell_type": "code",
   "execution_count": 15,
   "id": "5baf73e9-509f-4087-8743-a28e91343605",
   "metadata": {},
   "outputs": [
    {
     "data": {
      "text/plain": [
       "'Alice Bob'"
      ]
     },
     "execution_count": 15,
     "metadata": {},
     "output_type": "execute_result"
    }
   ],
   "source": [
    "'Alice' + ' ' + 'Bob'"
   ]
  },
  {
   "cell_type": "code",
   "execution_count": 16,
   "id": "f71615f4-df5d-4d41-a4f5-bb7bf69dcc9d",
   "metadata": {},
   "outputs": [],
   "source": [
    "## You shouldn't concatenate values of single datatypes\n",
    "## example : 'Alice' + 42"
   ]
  },
  {
   "cell_type": "code",
   "execution_count": 17,
   "id": "91960c91-9135-48c3-a7d2-c02d1b82abf6",
   "metadata": {},
   "outputs": [
    {
     "ename": "TypeError",
     "evalue": "can only concatenate str (not \"int\") to str",
     "output_type": "error",
     "traceback": [
      "\u001b[0;31m---------------------------------------------------------------------------\u001b[0m",
      "\u001b[0;31mTypeError\u001b[0m                                 Traceback (most recent call last)",
      "Cell \u001b[0;32mIn[17], line 1\u001b[0m\n\u001b[0;32m----> 1\u001b[0m \u001b[38;5;124;43m'\u001b[39;49m\u001b[38;5;124;43mAlice\u001b[39;49m\u001b[38;5;124;43m'\u001b[39;49m\u001b[43m \u001b[49m\u001b[38;5;241;43m+\u001b[39;49m\u001b[43m \u001b[49m\u001b[38;5;241;43m42\u001b[39;49m\n",
      "\u001b[0;31mTypeError\u001b[0m: can only concatenate str (not \"int\") to str"
     ]
    }
   ],
   "source": [
    "'Alice' + 42"
   ]
  },
  {
   "cell_type": "code",
   "execution_count": 18,
   "id": "7d160b35-9950-4907-b7c6-1cf9c60d53ab",
   "metadata": {},
   "outputs": [],
   "source": [
    "## above is the error we expected to occur as concatenating a string with a number"
   ]
  },
  {
   "cell_type": "code",
   "execution_count": null,
   "id": "45336179-fc15-4742-a076-aea378bee259",
   "metadata": {},
   "outputs": [],
   "source": []
  },
  {
   "cell_type": "markdown",
   "id": "a4dfa4e4-13c7-44b5-a19d-a8326cee3d1e",
   "metadata": {},
   "source": [
    "#### '*' Replication Operator"
   ]
  },
  {
   "cell_type": "code",
   "execution_count": 19,
   "id": "041ad464-db74-4bbf-9e03-8e2823353007",
   "metadata": {},
   "outputs": [
    {
     "data": {
      "text/plain": [
       "'AliceAliceAliceAliceAlice'"
      ]
     },
     "execution_count": 19,
     "metadata": {},
     "output_type": "execute_result"
    }
   ],
   "source": [
    "'Alice' * 5"
   ]
  },
  {
   "cell_type": "code",
   "execution_count": 20,
   "id": "611c089e-2e94-4ce7-b99d-d944821d2c33",
   "metadata": {},
   "outputs": [],
   "source": [
    "## let's leave some space with them being replicated"
   ]
  },
  {
   "cell_type": "code",
   "execution_count": 21,
   "id": "35f95245-27f0-4279-96a6-50b8734a724f",
   "metadata": {},
   "outputs": [
    {
     "data": {
      "text/plain": [
       "'Alice Alice Alice Alice Alice '"
      ]
     },
     "execution_count": 21,
     "metadata": {},
     "output_type": "execute_result"
    }
   ],
   "source": [
    "'Alice ' * 5"
   ]
  },
  {
   "cell_type": "code",
   "execution_count": null,
   "id": "da70da41-6ddc-43ee-b8a5-294cf815513e",
   "metadata": {},
   "outputs": [],
   "source": []
  },
  {
   "cell_type": "code",
   "execution_count": null,
   "id": "e3a3c915-e533-4558-bcb1-22336115a820",
   "metadata": {},
   "outputs": [],
   "source": []
  },
  {
   "cell_type": "markdown",
   "id": "4f342e16-fbd8-4b22-9f72-b0e57bf2f2de",
   "metadata": {},
   "source": [
    "## __Storing Values in Variables__"
   ]
  },
  {
   "cell_type": "markdown",
   "id": "036b9395-1e93-469b-b288-50bcb27926da",
   "metadata": {},
   "source": [
    "##### A variable is like a box in the computer’s memory where you can store a single value. If you want to use the result of an evaluated expression later in your program, you can save it inside a variable."
   ]
  },
  {
   "cell_type": "code",
   "execution_count": 23,
   "id": "3052f489-8273-4b0c-990c-4b878844ed55",
   "metadata": {},
   "outputs": [],
   "source": [
    "## let's try some assignments"
   ]
  },
  {
   "cell_type": "code",
   "execution_count": 24,
   "id": "414bf3b1-5ac7-4425-8316-21cabc6ddadc",
   "metadata": {},
   "outputs": [],
   "source": [
    "spam = 40"
   ]
  },
  {
   "cell_type": "code",
   "execution_count": 25,
   "id": "a4a7931d-0c32-4c56-abb9-5de1d03f1e95",
   "metadata": {},
   "outputs": [
    {
     "data": {
      "text/plain": [
       "40"
      ]
     },
     "execution_count": 25,
     "metadata": {},
     "output_type": "execute_result"
    }
   ],
   "source": [
    "spam"
   ]
  },
  {
   "cell_type": "code",
   "execution_count": 26,
   "id": "375cd170-b341-42e9-87fd-3773931ed450",
   "metadata": {},
   "outputs": [],
   "source": [
    "# or, let's pring it"
   ]
  },
  {
   "cell_type": "code",
   "execution_count": 28,
   "id": "ef7c5977-6f4b-4db1-9cf9-257935fbc470",
   "metadata": {},
   "outputs": [
    {
     "name": "stdout",
     "output_type": "stream",
     "text": [
      "40\n"
     ]
    }
   ],
   "source": [
    "print(spam)"
   ]
  },
  {
   "cell_type": "code",
   "execution_count": null,
   "id": "c780c6c3-018c-4e4f-a3fa-80c6b95eed4e",
   "metadata": {},
   "outputs": [],
   "source": []
  },
  {
   "cell_type": "code",
   "execution_count": 29,
   "id": "59889e86-ad3b-4173-908b-4fff7f466835",
   "metadata": {},
   "outputs": [],
   "source": [
    "eggs = 2"
   ]
  },
  {
   "cell_type": "code",
   "execution_count": 30,
   "id": "48f02b26-0fc8-4a01-ac94-41fe4c84742c",
   "metadata": {},
   "outputs": [
    {
     "data": {
      "text/plain": [
       "42"
      ]
     },
     "execution_count": 30,
     "metadata": {},
     "output_type": "execute_result"
    }
   ],
   "source": [
    "spam + eggs"
   ]
  },
  {
   "cell_type": "code",
   "execution_count": 31,
   "id": "e81117cf-9f1f-49e6-ac4f-5b4a7fe5120d",
   "metadata": {},
   "outputs": [
    {
     "data": {
      "text/plain": [
       "82"
      ]
     },
     "execution_count": 31,
     "metadata": {},
     "output_type": "execute_result"
    }
   ],
   "source": [
    "spam + eggs + spam"
   ]
  },
  {
   "cell_type": "code",
   "execution_count": 33,
   "id": "ce3d5486-9ec2-4697-a022-011f2901a12c",
   "metadata": {},
   "outputs": [],
   "source": [
    "spam = spam + 2"
   ]
  },
  {
   "cell_type": "code",
   "execution_count": 34,
   "id": "b4500b15-6de5-4bcb-9a8b-8f48fcb7e279",
   "metadata": {},
   "outputs": [
    {
     "data": {
      "text/plain": [
       "44"
      ]
     },
     "execution_count": 34,
     "metadata": {},
     "output_type": "execute_result"
    }
   ],
   "source": [
    "spam"
   ]
  },
  {
   "cell_type": "code",
   "execution_count": 35,
   "id": "481dac23-3069-438e-bc8c-d636bceaaa0a",
   "metadata": {},
   "outputs": [],
   "source": [
    "## overwriting variables"
   ]
  },
  {
   "cell_type": "code",
   "execution_count": 36,
   "id": "4d05f33b-7885-49f6-acb6-d405063fee1b",
   "metadata": {},
   "outputs": [],
   "source": [
    "spam = \"Hello\""
   ]
  },
  {
   "cell_type": "code",
   "execution_count": 37,
   "id": "feac77c6-4428-48fb-9b1d-c7b08b3e534b",
   "metadata": {},
   "outputs": [
    {
     "data": {
      "text/plain": [
       "'Hello'"
      ]
     },
     "execution_count": 37,
     "metadata": {},
     "output_type": "execute_result"
    }
   ],
   "source": [
    "spam"
   ]
  },
  {
   "cell_type": "code",
   "execution_count": 40,
   "id": "d5f23377-3072-43a6-8349-03f627b2698b",
   "metadata": {},
   "outputs": [
    {
     "data": {
      "text/plain": [
       "'Goodbye'"
      ]
     },
     "execution_count": 40,
     "metadata": {},
     "output_type": "execute_result"
    }
   ],
   "source": [
    "spam = \"Goodbye\"\n",
    "spam"
   ]
  },
  {
   "cell_type": "code",
   "execution_count": null,
   "id": "f3f66c18-4e9c-44f0-8e69-be2199a29af9",
   "metadata": {},
   "outputs": [],
   "source": []
  },
  {
   "cell_type": "code",
   "execution_count": null,
   "id": "6c81fd7d-61a0-496b-96f1-05b5c8a1283f",
   "metadata": {},
   "outputs": [],
   "source": []
  },
  {
   "cell_type": "markdown",
   "id": "b6599f15-d51a-4d31-b659-3d395ba051cc",
   "metadata": {},
   "source": [
    "## **First Program**"
   ]
  },
  {
   "cell_type": "code",
   "execution_count": 45,
   "id": "e0fabfcd-e630-4dfa-8e3d-27473d43c19d",
   "metadata": {},
   "outputs": [
    {
     "name": "stdout",
     "output_type": "stream",
     "text": [
      "Hello World\n",
      "What's your name?\n"
     ]
    },
    {
     "name": "stdin",
     "output_type": "stream",
     "text": [
      " Joseph\n"
     ]
    },
    {
     "name": "stdout",
     "output_type": "stream",
     "text": [
      "It's good to meet you, Joseph\n",
      "The length of your name is : \n",
      "6\n"
     ]
    },
    {
     "name": "stdin",
     "output_type": "stream",
     "text": [
      "What's your age ? 54\n"
     ]
    },
    {
     "name": "stdout",
     "output_type": "stream",
     "text": [
      "You will be 55 in a year.\n"
     ]
    }
   ],
   "source": [
    "# This program says hello and asks for my name\n",
    "\n",
    "print('Hello World')\n",
    "print(\"What's your name?\") # asks for the user's name\n",
    "\n",
    "myName = input();\n",
    "print(\"It's good to meet you, \"+myName);\n",
    "print('The length of your name is : ' );\n",
    "print(len(myName))\n",
    "\n",
    "my_age = input(\"What's your age ?\");\n",
    "print('You will be ' + str(int(my_age) +1) + ' in a year.');"
   ]
  },
  {
   "cell_type": "code",
   "execution_count": 46,
   "id": "a71071ee-c269-42c2-92ee-fc0c9388e4ca",
   "metadata": {},
   "outputs": [
    {
     "name": "stdin",
     "output_type": "stream",
     "text": [
      "What's your age :  45\n"
     ]
    },
    {
     "data": {
      "text/plain": [
       "'45'"
      ]
     },
     "execution_count": 46,
     "metadata": {},
     "output_type": "execute_result"
    }
   ],
   "source": [
    "test = input(\"What's your age : \")\n",
    "test"
   ]
  },
  {
   "cell_type": "code",
   "execution_count": 47,
   "id": "602308e6-f386-4c67-83e1-46ef3864531f",
   "metadata": {},
   "outputs": [],
   "source": [
    "#  so, values entered using the input method, return string values"
   ]
  },
  {
   "cell_type": "code",
   "execution_count": null,
   "id": "31858e35-85b7-4e05-b2c4-774949037560",
   "metadata": {},
   "outputs": [],
   "source": []
  },
  {
   "cell_type": "markdown",
   "id": "f14e3f72-a581-4b92-bc86-6d08acc5b531",
   "metadata": {},
   "source": [
    "### **Disecting The Program**"
   ]
  },
  {
   "cell_type": "code",
   "execution_count": 48,
   "id": "f98e84e0-54cd-4b2b-851e-ef7a61491e33",
   "metadata": {},
   "outputs": [],
   "source": [
    "## The print function"
   ]
  },
  {
   "cell_type": "markdown",
   "id": "1bb45e45-d272-4239-8236-9dfcd1d245e0",
   "metadata": {},
   "source": [
    "##### **print()**"
   ]
  },
  {
   "cell_type": "code",
   "execution_count": 49,
   "id": "a6f070e9-a4aa-46e7-ad6d-d0735f371fc2",
   "metadata": {},
   "outputs": [],
   "source": [
    "## it prints out the text in the string ''"
   ]
  },
  {
   "cell_type": "code",
   "execution_count": 50,
   "id": "255892e3-d1c1-40e5-90a8-42fd0bf68df9",
   "metadata": {},
   "outputs": [
    {
     "name": "stdout",
     "output_type": "stream",
     "text": [
      "Hello World\n"
     ]
    }
   ],
   "source": [
    "print('Hello World')"
   ]
  },
  {
   "cell_type": "code",
   "execution_count": 51,
   "id": "89d2b7b4-0773-4c60-8e9f-6651d2bf2045",
   "metadata": {},
   "outputs": [
    {
     "name": "stdout",
     "output_type": "stream",
     "text": [
      "What's your name\n"
     ]
    }
   ],
   "source": [
    "print(\"What's your name\")"
   ]
  },
  {
   "cell_type": "code",
   "execution_count": null,
   "id": "ca8d6315-9119-4376-a6f9-5122f89ab46b",
   "metadata": {},
   "outputs": [],
   "source": []
  },
  {
   "cell_type": "code",
   "execution_count": 52,
   "id": "552c9301-d5c7-4f53-a17e-ed0ca81d18c3",
   "metadata": {},
   "outputs": [],
   "source": [
    "# The input function"
   ]
  },
  {
   "cell_type": "markdown",
   "id": "136ac8b6-2de3-4422-890b-342a9da8670f",
   "metadata": {},
   "source": [
    "##### **input()**"
   ]
  },
  {
   "cell_type": "markdown",
   "id": "eb8ff18b-233a-4715-8b43-2e9238d08479",
   "metadata": {},
   "source": [
    "##### The input() function waits for the user to type some text on the keyboard and press enter."
   ]
  },
  {
   "cell_type": "code",
   "execution_count": 55,
   "id": "7ddec357-1a46-4e53-98ac-b30ad2600bd8",
   "metadata": {},
   "outputs": [
    {
     "name": "stdin",
     "output_type": "stream",
     "text": [
      " Joseph\n"
     ]
    }
   ],
   "source": [
    "myName = input()\n",
    "myName;"
   ]
  },
  {
   "cell_type": "code",
   "execution_count": null,
   "id": "668ba9b8-0c86-4573-a229-f314073d9b44",
   "metadata": {},
   "outputs": [],
   "source": []
  },
  {
   "cell_type": "code",
   "execution_count": 61,
   "id": "1d23bc03-048a-4542-b367-855196a4afd3",
   "metadata": {},
   "outputs": [],
   "source": [
    "# The len function - Prints the legth of the string"
   ]
  },
  {
   "cell_type": "markdown",
   "id": "58f69e09-4a62-4ac5-8ae3-0d23ffd36cac",
   "metadata": {},
   "source": [
    "##### **len()**"
   ]
  },
  {
   "cell_type": "code",
   "execution_count": 58,
   "id": "6ffdb7b2-ea13-48cc-869b-e94ce605cfe4",
   "metadata": {},
   "outputs": [
    {
     "data": {
      "text/plain": [
       "5"
      ]
     },
     "execution_count": 58,
     "metadata": {},
     "output_type": "execute_result"
    }
   ],
   "source": [
    "len(\"Hello\")"
   ]
  },
  {
   "cell_type": "code",
   "execution_count": 60,
   "id": "b1edbf77-53d2-48bd-a823-926a7fff520a",
   "metadata": {},
   "outputs": [
    {
     "data": {
      "text/plain": [
       "37"
      ]
     },
     "execution_count": 60,
     "metadata": {},
     "output_type": "execute_result"
    }
   ],
   "source": [
    "len(\"This is how the wold works these days\")"
   ]
  },
  {
   "cell_type": "code",
   "execution_count": null,
   "id": "617f0312-0abe-43f5-8614-10bb08372833",
   "metadata": {},
   "outputs": [],
   "source": []
  },
  {
   "cell_type": "code",
   "execution_count": null,
   "id": "c98a8c37-9448-46c9-b778-3f510e40a684",
   "metadata": {},
   "outputs": [],
   "source": []
  },
  {
   "cell_type": "markdown",
   "id": "10d133d9-3527-45cf-820c-589af1524348",
   "metadata": {},
   "source": [
    "# **Flow Control**"
   ]
  },
  {
   "cell_type": "markdown",
   "id": "7144b077-ccb4-41bd-b20e-6a04d3bd8ec4",
   "metadata": {},
   "source": [
    "##### But before you learn about flow control statements, we first need to learn how to represent those yes and no options, and you need to understand how to write those branching points as Python code. To that end, let’s explore Boolean values, comparison operators, and Boolean operators."
   ]
  },
  {
   "cell_type": "markdown",
   "id": "b6d00d29-7b9c-47af-bd0e-6f13b542010f",
   "metadata": {},
   "source": [
    "### **Boolean** Values"
   ]
  },
  {
   "cell_type": "code",
   "execution_count": 66,
   "id": "ae67c260-3b7f-4b7e-a9db-1a2ef9e704ca",
   "metadata": {},
   "outputs": [],
   "source": [
    "## we use True or False to represent boolean values"
   ]
  },
  {
   "cell_type": "code",
   "execution_count": 67,
   "id": "47a0fcce-5bbe-4bf0-a095-e7817bf6cacd",
   "metadata": {},
   "outputs": [
    {
     "data": {
      "text/plain": [
       "True"
      ]
     },
     "execution_count": 67,
     "metadata": {},
     "output_type": "execute_result"
    }
   ],
   "source": [
    "spam = True\n",
    "spam"
   ]
  },
  {
   "cell_type": "markdown",
   "id": "ffcdc3db-df3a-4992-b16e-8cc727164e4a",
   "metadata": {},
   "source": [
    "### **Comparison** Operators"
   ]
  },
  {
   "cell_type": "markdown",
   "id": "b216169a-6f58-421d-bf32-e05a2da93a12",
   "metadata": {},
   "source": [
    "##### Comparison operators compare two values and evaluate down to a single Boolean value."
   ]
  },
  {
   "cell_type": "code",
   "execution_count": 69,
   "id": "56c0bc37-a5b9-425c-b172-bc4dbfca34df",
   "metadata": {},
   "outputs": [],
   "source": [
    "# comparison Operators"
   ]
  },
  {
   "cell_type": "code",
   "execution_count": 70,
   "id": "c6e3562d-2011-49d5-b38b-902c98605d89",
   "metadata": {},
   "outputs": [
    {
     "data": {
      "text/plain": [
       "False"
      ]
     },
     "execution_count": 70,
     "metadata": {},
     "output_type": "execute_result"
    }
   ],
   "source": [
    "43 == 42"
   ]
  },
  {
   "cell_type": "code",
   "execution_count": 71,
   "id": "edadebd1-13e8-43a6-9a54-d1dae1b60149",
   "metadata": {},
   "outputs": [
    {
     "data": {
      "text/plain": [
       "True"
      ]
     },
     "execution_count": 71,
     "metadata": {},
     "output_type": "execute_result"
    }
   ],
   "source": [
    "42 == 42"
   ]
  },
  {
   "cell_type": "code",
   "execution_count": 72,
   "id": "e708857d-1a27-4530-92c3-817d1a7ea6ad",
   "metadata": {},
   "outputs": [
    {
     "data": {
      "text/plain": [
       "True"
      ]
     },
     "execution_count": 72,
     "metadata": {},
     "output_type": "execute_result"
    }
   ],
   "source": [
    "2 != 3"
   ]
  },
  {
   "cell_type": "code",
   "execution_count": 73,
   "id": "1a2dcf20-4614-4811-a54f-e686cacf6c86",
   "metadata": {},
   "outputs": [
    {
     "data": {
      "text/plain": [
       "False"
      ]
     },
     "execution_count": 73,
     "metadata": {},
     "output_type": "execute_result"
    }
   ],
   "source": [
    "2 != 2"
   ]
  },
  {
   "cell_type": "code",
   "execution_count": 74,
   "id": "2acaadcc-6470-40e3-a79c-1ef85afd3ca5",
   "metadata": {},
   "outputs": [],
   "source": [
    "# Works on string too"
   ]
  },
  {
   "cell_type": "code",
   "execution_count": 75,
   "id": "daac1688-cea1-49e9-9948-d414e7632082",
   "metadata": {},
   "outputs": [
    {
     "data": {
      "text/plain": [
       "True"
      ]
     },
     "execution_count": 75,
     "metadata": {},
     "output_type": "execute_result"
    }
   ],
   "source": [
    "'Hello' == 'Hello'"
   ]
  },
  {
   "cell_type": "code",
   "execution_count": 76,
   "id": "a6a6b916-873d-42ab-9f93-97849d2167f6",
   "metadata": {},
   "outputs": [
    {
     "data": {
      "text/plain": [
       "False"
      ]
     },
     "execution_count": 76,
     "metadata": {},
     "output_type": "execute_result"
    }
   ],
   "source": [
    "'Hello' == 'hello'"
   ]
  },
  {
   "cell_type": "code",
   "execution_count": null,
   "id": "11be1ab4-89a0-4ed2-98fa-2c00db19cae9",
   "metadata": {},
   "outputs": [],
   "source": []
  },
  {
   "cell_type": "markdown",
   "id": "7c187a96-9102-4b5e-9113-54aec5c38504",
   "metadata": {},
   "source": [
    "##### **If Else Statement Example**"
   ]
  },
  {
   "cell_type": "code",
   "execution_count": 84,
   "id": "e5f2849b-da40-4a03-a6fb-005d845f6e46",
   "metadata": {},
   "outputs": [
    {
     "name": "stdin",
     "output_type": "stream",
     "text": [
      "Enter week day number :  4\n"
     ]
    },
    {
     "name": "stdout",
     "output_type": "stream",
     "text": [
      "Wednesday\n"
     ]
    }
   ],
   "source": [
    "# start of the program\n",
    "\n",
    "day = int(input(\"Enter week day number : \"));\n",
    "\n",
    "if day == 1:\n",
    "    print(\"Sunday\");\n",
    "elif day == 2:\n",
    "    print(\"Monday\");\n",
    "elif day == 3:\n",
    "    print(\"Tuesday\");\n",
    "elif day == 4:\n",
    "    print(\"Wednesday\");\n",
    "elif day == 5:\n",
    "    print(\"Thursday\")\n",
    "elif day == 6:\n",
    "    print(\"Friday\");\n",
    "elif day == 7:\n",
    "    print(\"Saturday\");\n",
    "else:\n",
    "    print(\"Not a number in a week\");"
   ]
  },
  {
   "cell_type": "code",
   "execution_count": null,
   "id": "bb212425-b49d-460d-8b0e-0d1ac129471f",
   "metadata": {},
   "outputs": [],
   "source": []
  },
  {
   "cell_type": "markdown",
   "id": "30c15e82-1540-4af4-9a69-1222ac109feb",
   "metadata": {},
   "source": [
    "### **While Loop** Statements"
   ]
  },
  {
   "cell_type": "code",
   "execution_count": 85,
   "id": "446eb901-5e6b-44d2-926c-e31949ac2ca2",
   "metadata": {},
   "outputs": [],
   "source": [
    "# let's write a block of code where, if the value of count is less than 5, it says \"hell there\""
   ]
  },
  {
   "cell_type": "code",
   "execution_count": 87,
   "id": "3ae11a41-c150-4508-b2c9-54cff0146a1a",
   "metadata": {},
   "outputs": [
    {
     "name": "stdout",
     "output_type": "stream",
     "text": [
      "Hello, there 1\n",
      "Hello, there 2\n",
      "Hello, there 3\n",
      "Hello, there 4\n",
      "Hello, there 5\n"
     ]
    }
   ],
   "source": [
    "count = 0;\n",
    "while count < 5:\n",
    "    print(\"Hello, there \" + str(count + 1))\n",
    "    count+=1;"
   ]
  },
  {
   "cell_type": "code",
   "execution_count": null,
   "id": "cdf767c8-5320-4b43-9387-07c15779e71e",
   "metadata": {},
   "outputs": [],
   "source": []
  },
  {
   "cell_type": "code",
   "execution_count": 88,
   "id": "3c1d7506-dd6b-4d04-9876-67e57e76dae4",
   "metadata": {},
   "outputs": [],
   "source": [
    "# An annoying program code using for loop.\n",
    "# It asks the user every time to enter the name to get greetings"
   ]
  },
  {
   "cell_type": "code",
   "execution_count": 90,
   "id": "97fe9801-6dce-448f-b851-5375527008c4",
   "metadata": {},
   "outputs": [
    {
     "name": "stdin",
     "output_type": "stream",
     "text": [
      "Enter your name :  Joseph\n"
     ]
    },
    {
     "name": "stdout",
     "output_type": "stream",
     "text": [
      "Hello Joseph\n"
     ]
    },
    {
     "name": "stdin",
     "output_type": "stream",
     "text": [
      "Enter your name :  Christina\n"
     ]
    },
    {
     "name": "stdout",
     "output_type": "stream",
     "text": [
      "Hello Christina\n"
     ]
    },
    {
     "name": "stdin",
     "output_type": "stream",
     "text": [
      "Enter your name :  Philomena\n"
     ]
    },
    {
     "name": "stdout",
     "output_type": "stream",
     "text": [
      "Hello Philomena\n"
     ]
    },
    {
     "name": "stdin",
     "output_type": "stream",
     "text": [
      "Enter your name :  Amani\n"
     ]
    },
    {
     "name": "stdout",
     "output_type": "stream",
     "text": [
      "Hello Amani\n"
     ]
    },
    {
     "name": "stdin",
     "output_type": "stream",
     "text": [
      "Enter your name :  Success\n"
     ]
    },
    {
     "name": "stdout",
     "output_type": "stream",
     "text": [
      "Hello Success\n",
      "Thank You\n"
     ]
    }
   ],
   "source": [
    "count = 0;\n",
    "while count < 5:\n",
    "    my_name = input(\"Enter your name : \");\n",
    "    print(\"Hello \" + my_name);\n",
    "    count+=1;\n",
    "print(\"Thank You\");"
   ]
  },
  {
   "cell_type": "code",
   "execution_count": 91,
   "id": "3c4cc7cc-a7c3-4bf6-a367-5e14fe2d8433",
   "metadata": {},
   "outputs": [],
   "source": [
    "# Another annoying program, that will run and only end when the name entered is \"Philomena\""
   ]
  },
  {
   "cell_type": "code",
   "execution_count": 95,
   "id": "b00ed1cd-f7db-4463-a6fb-9da1071c7d10",
   "metadata": {},
   "outputs": [
    {
     "name": "stdin",
     "output_type": "stream",
     "text": [
      "Enter your name :  Joseph\n",
      "Enter your name :  mahembega\n",
      "Enter your name :  tina\n",
      "Enter your name :  stephen\n",
      "Enter your name :  muuni\n",
      "Enter your name :  philomena\n"
     ]
    },
    {
     "name": "stdout",
     "output_type": "stream",
     "text": [
      "Thank you, now we're done\n"
     ]
    }
   ],
   "source": [
    "name = \"\"\n",
    "name.lower();\n",
    "\n",
    "while name != \"philomena\":\n",
    "    name = input(\"Enter your name : \");\n",
    "print(\"Thank you, now we're done\");"
   ]
  },
  {
   "cell_type": "markdown",
   "id": "6a52a313-d419-43f4-8ef6-6c24e45ed738",
   "metadata": {},
   "source": [
    "#### **The Break Statement**"
   ]
  },
  {
   "cell_type": "code",
   "execution_count": 101,
   "id": "9fb386ea-578a-4b70-8788-ce609d0add4f",
   "metadata": {},
   "outputs": [
    {
     "name": "stdin",
     "output_type": "stream",
     "text": [
      "Enter your name :  Ubuntu\n",
      "Enter your name :  Linux\n",
      "Enter your name :  HOwerver\n",
      "Enter your name :  Philomena\n"
     ]
    },
    {
     "name": "stdout",
     "output_type": "stream",
     "text": [
      "Thank you, finally, you got it right\n"
     ]
    }
   ],
   "source": [
    "# another variation of the same program using break statement\n",
    "while True:\n",
    "    name = input(\"Enter your name : \").lower();\n",
    "    if(name == \"philomena\"):\n",
    "        break;\n",
    "print(\"Thank you, finally, you got it right\");"
   ]
  },
  {
   "cell_type": "code",
   "execution_count": null,
   "id": "1549a35b-fc0d-42de-9b77-f8abf83a2260",
   "metadata": {},
   "outputs": [],
   "source": []
  },
  {
   "cell_type": "markdown",
   "id": "9187cede-a8c8-4cc6-928f-c035ed0cc971",
   "metadata": {},
   "source": [
    "#### **The Break Statement**"
   ]
  },
  {
   "cell_type": "code",
   "execution_count": 103,
   "id": "ae428f17-c535-4193-a209-c149c34278bb",
   "metadata": {},
   "outputs": [],
   "source": [
    "## while True:\n",
    "##    print(\"Hello World\");"
   ]
  },
  {
   "cell_type": "code",
   "execution_count": 104,
   "id": "7c36a01f-a8c3-49c0-8ec7-2d0accc070f5",
   "metadata": {},
   "outputs": [
    {
     "name": "stdout",
     "output_type": "stream",
     "text": [
      "Who are you?\n"
     ]
    },
    {
     "name": "stdin",
     "output_type": "stream",
     "text": [
      " joseph\n"
     ]
    },
    {
     "name": "stdout",
     "output_type": "stream",
     "text": [
      "Who are you?\n"
     ]
    },
    {
     "name": "stdin",
     "output_type": "stream",
     "text": [
      " philes\n"
     ]
    },
    {
     "name": "stdout",
     "output_type": "stream",
     "text": [
      "Who are you?\n"
     ]
    },
    {
     "name": "stdin",
     "output_type": "stream",
     "text": [
      " Joe\n"
     ]
    },
    {
     "name": "stdout",
     "output_type": "stream",
     "text": [
      "Hello, Joe. What is the password? (It is a fish.)\n"
     ]
    },
    {
     "name": "stdin",
     "output_type": "stream",
     "text": [
      " sw\n"
     ]
    },
    {
     "name": "stdout",
     "output_type": "stream",
     "text": [
      "Who are you?\n"
     ]
    },
    {
     "name": "stdin",
     "output_type": "stream",
     "text": [
      " Joe\n"
     ]
    },
    {
     "name": "stdout",
     "output_type": "stream",
     "text": [
      "Hello, Joe. What is the password? (It is a fish.)\n"
     ]
    },
    {
     "name": "stdin",
     "output_type": "stream",
     "text": [
      " swordfish\n"
     ]
    },
    {
     "name": "stdout",
     "output_type": "stream",
     "text": [
      "Access granted.\n"
     ]
    }
   ],
   "source": [
    "while True:\n",
    "    print('Who are you?')\n",
    "    name = input()\n",
    "    if name != 'Joe':\n",
    "        continue\n",
    "    print('Hello, Joe. What is the password? (It is a fish.)')\n",
    "    password = input()\n",
    "    if password == 'swordfish':\n",
    "        break\n",
    "print('Access granted.')"
   ]
  },
  {
   "cell_type": "code",
   "execution_count": null,
   "id": "aaa86a2c-e686-4391-9ebd-7a6ede07f0d9",
   "metadata": {},
   "outputs": [],
   "source": []
  },
  {
   "cell_type": "markdown",
   "id": "09c30783-525e-4d90-b453-05595d0f85f1",
   "metadata": {},
   "source": [
    "### __for Loops and the range() Function__"
   ]
  },
  {
   "cell_type": "markdown",
   "id": "c0fa8770-ea35-44e2-b389-631d3c5e2273",
   "metadata": {},
   "source": [
    "#### In code, a for statement looks something like for i in range(5): and always includes the following:\n",
    "\n",
    "* ##### The for keyword\n",
    "* ##### A variable name\n",
    "* ##### The in keyword\n",
    "* ##### A call to the range() method with up to three integers passed to it\n",
    "* ##### A colon\n",
    "* ##### Starting on the next line, an indented block of code (called the for clause)"
   ]
  },
  {
   "cell_type": "code",
   "execution_count": 105,
   "id": "cc551051-a870-43f3-a04a-d959319e9faf",
   "metadata": {},
   "outputs": [],
   "source": [
    "## example of a for loop"
   ]
  },
  {
   "cell_type": "code",
   "execution_count": 106,
   "id": "d7478d63-3fd0-482b-8e15-15dcd9abcede",
   "metadata": {},
   "outputs": [
    {
     "name": "stdout",
     "output_type": "stream",
     "text": [
      "0\n",
      "1\n",
      "2\n",
      "3\n",
      "4\n"
     ]
    }
   ],
   "source": [
    "for i in range(5):\n",
    "    print(i);\n",
    "    "
   ]
  },
  {
   "cell_type": "code",
   "execution_count": 107,
   "id": "c66788a0-2c55-416f-b7b8-84bbf764017a",
   "metadata": {},
   "outputs": [
    {
     "name": "stdout",
     "output_type": "stream",
     "text": [
      "Jimmy Five Times (0)\n",
      "Jimmy Five Times (1)\n",
      "Jimmy Five Times (2)\n",
      "Jimmy Five Times (3)\n",
      "Jimmy Five Times (4)\n"
     ]
    }
   ],
   "source": [
    "for i in range(5):\n",
    "    print(\"Jimmy Five Times (\"+str(i)+\")\");"
   ]
  },
  {
   "cell_type": "markdown",
   "id": "17d2e4a3-7326-4288-9c7a-966065065036",
   "metadata": {},
   "source": [
    "##### As another for loop example, consider this story about the mathemati-cian Karl Friedrich Gauss. When Gauss was a boy, a teacher wanted to give the class some busywork. The teacher told them to add up all the numbers from 0 to 100. Young Gauss came up with a clever trick to figure out the answer in a few seconds, but you can write a Python program with a for loop to do this calculation for you."
   ]
  },
  {
   "cell_type": "code",
   "execution_count": 110,
   "id": "ff634053-c9b1-43c1-bf30-39fbcb4442d2",
   "metadata": {},
   "outputs": [
    {
     "name": "stdout",
     "output_type": "stream",
     "text": [
      "The total is : 5050\n"
     ]
    }
   ],
   "source": [
    "total = 0;\n",
    "\n",
    "for i in range(101):\n",
    "    total+=i;\n",
    "print(\"The total is : \" + str(total))"
   ]
  },
  {
   "cell_type": "code",
   "execution_count": 1,
   "id": "9851853a-346f-46fc-b6c8-927df39aaa68",
   "metadata": {},
   "outputs": [],
   "source": [
    "## an equivalent while loop for what we did on Jimmy name"
   ]
  },
  {
   "cell_type": "code",
   "execution_count": 4,
   "id": "505d2671-dccf-4b77-a577-61744f8f67b5",
   "metadata": {},
   "outputs": [
    {
     "name": "stdout",
     "output_type": "stream",
     "text": [
      "My name is : \n",
      "Jimmy Five Times (1)\n",
      "Jimmy Five Times (2)\n",
      "Jimmy Five Times (3)\n",
      "Jimmy Five Times (4)\n",
      "Jimmy Five Times (5)\n"
     ]
    }
   ],
   "source": [
    "print(\"My name is : \")\n",
    "i=0;\n",
    "\n",
    "while i<5:\n",
    "    print(\"Jimmy Five Times (\"+str(i+1)+\")\");\n",
    "    i+=1;\n",
    "    "
   ]
  },
  {
   "cell_type": "code",
   "execution_count": null,
   "id": "d2b3fca0-e9d1-4049-b2ad-488b14fc357e",
   "metadata": {},
   "outputs": [],
   "source": []
  },
  {
   "cell_type": "markdown",
   "id": "0f0c87af-6093-47d7-9905-3f6e1555548a",
   "metadata": {},
   "source": [
    "#### **The Starting, Stopping, and Stepping Arguments to range()**"
   ]
  },
  {
   "cell_type": "code",
   "execution_count": 7,
   "id": "749c8619-43f7-4a38-bdf0-12fa71ebc993",
   "metadata": {},
   "outputs": [
    {
     "data": {
      "text/plain": [
       "range(10, 20)"
      ]
     },
     "execution_count": 7,
     "metadata": {},
     "output_type": "execute_result"
    }
   ],
   "source": [
    "range(10,20)"
   ]
  },
  {
   "cell_type": "code",
   "execution_count": 9,
   "id": "aa33a832-ee5d-4b1a-8dff-f5b1122c5d2e",
   "metadata": {},
   "outputs": [
    {
     "name": "stdout",
     "output_type": "stream",
     "text": [
      "10\n",
      "11\n",
      "12\n",
      "13\n",
      "14\n",
      "15\n"
     ]
    }
   ],
   "source": [
    "for i in range(10,16):\n",
    "    print(i);"
   ]
  },
  {
   "cell_type": "code",
   "execution_count": 10,
   "id": "0aba61fb-68ca-4b54-a803-fd853f4cae07",
   "metadata": {},
   "outputs": [],
   "source": [
    "## The range function can also be overloaded with three arguments"
   ]
  },
  {
   "cell_type": "code",
   "execution_count": 11,
   "id": "b469ada3-cef5-48ee-bd84-bd93a7aa8c00",
   "metadata": {},
   "outputs": [],
   "source": [
    "# we can use a third argument, which is used as a step argument. The first 2 are used as start and stop arguments"
   ]
  },
  {
   "cell_type": "code",
   "execution_count": 12,
   "id": "fb374c10-e498-4deb-a45c-6f8d1bc19f59",
   "metadata": {},
   "outputs": [
    {
     "name": "stdout",
     "output_type": "stream",
     "text": [
      "0\n",
      "2\n",
      "4\n",
      "6\n",
      "8\n"
     ]
    }
   ],
   "source": [
    "for i in range(0,10,2):\n",
    "    print(i);"
   ]
  },
  {
   "cell_type": "code",
   "execution_count": 13,
   "id": "0d58e678-3412-4867-9441-0f8d2c38d705",
   "metadata": {},
   "outputs": [
    {
     "name": "stdout",
     "output_type": "stream",
     "text": [
      "5\n",
      "4\n",
      "3\n",
      "2\n",
      "1\n",
      "0\n"
     ]
    }
   ],
   "source": [
    "for i in range(5,-1,-1):\n",
    "    print(i);"
   ]
  },
  {
   "cell_type": "code",
   "execution_count": null,
   "id": "19ea02b4-b764-4bc3-9215-a5340d091208",
   "metadata": {},
   "outputs": [],
   "source": []
  },
  {
   "cell_type": "markdown",
   "id": "ae00edff-5767-4f7b-a1f9-5f20b7d9bb25",
   "metadata": {},
   "source": [
    "# **Importing Modules**"
   ]
  },
  {
   "cell_type": "markdown",
   "id": "f02037a6-5185-48b4-8c14-347acd9cbf94",
   "metadata": {},
   "source": [
    "##### All Python programs can call a basic set of functions called built-in ­functions,including the print(), input(), and len() functions you’ve seen before. Python also comes with a set of modules called the standard library. Each module is a Python program that contains a related group of functions that can be embedded in your programs. For example, the math module has mathematics- related functions, the random module has random number–related functions, and so on."
   ]
  },
  {
   "cell_type": "markdown",
   "id": "9fd738b3-a5de-4b40-817f-71920c858f09",
   "metadata": {},
   "source": [
    "#### The import statement includes \n",
    "\n",
    "* ##### The import keyword\n",
    "* ##### The name of the module\n",
    "* ##### Optionally, more module names, as long as they are separated by commas"
   ]
  },
  {
   "cell_type": "code",
   "execution_count": 15,
   "id": "7b6faab4-0fe3-4b68-9284-aa6c31544ce3",
   "metadata": {},
   "outputs": [
    {
     "name": "stdout",
     "output_type": "stream",
     "text": [
      "9\n",
      "5\n",
      "4\n",
      "4\n",
      "9\n"
     ]
    }
   ],
   "source": [
    "import random;\n",
    "for i in range(5):\n",
    "    print(random.randint(1,10));"
   ]
  },
  {
   "cell_type": "markdown",
   "id": "a32588c5-875a-472d-b194-655a1b4d9808",
   "metadata": {},
   "source": [
    "##### Example of an import statement with four different modules\n",
    "`` \n",
    "import random, sys, os, math\n",
    "``"
   ]
  },
  {
   "cell_type": "markdown",
   "id": "1e07a4dd-a1ef-4d3c-8532-5910169ece32",
   "metadata": {},
   "source": [
    "#### **from import Statements**"
   ]
  },
  {
   "cell_type": "markdown",
   "id": "e30f4883-fe54-4f80-9d1a-2242c5eea4ec",
   "metadata": {},
   "source": [
    "An alternative form of the import statement is composed of the from key-\n",
    "word, followed by the module name, the import keyword, and a star; for\n",
    "­example, from random import *."
   ]
  },
  {
   "cell_type": "code",
   "execution_count": 26,
   "id": "d0e5182d-1454-45fe-8094-d2e2aff61b52",
   "metadata": {},
   "outputs": [
    {
     "name": "stdout",
     "output_type": "stream",
     "text": [
      "1\n",
      "6\n",
      "2\n",
      "8\n",
      "1\n"
     ]
    }
   ],
   "source": [
    "from random import *;\n",
    "\n",
    "for i in range(5):\n",
    "    print(randint(1,10));"
   ]
  },
  {
   "cell_type": "markdown",
   "id": "5882b56e-eb5a-4a6e-9235-ee6ca9f7381c",
   "metadata": {},
   "source": [
    "#### **Ending a Program Early with sys.exit()**"
   ]
  },
  {
   "cell_type": "code",
   "execution_count": 1,
   "id": "c6c095b4-6b9f-4ad5-af5b-065c151d031c",
   "metadata": {},
   "outputs": [
    {
     "name": "stdout",
     "output_type": "stream",
     "text": [
      "Type exit to exit.\n"
     ]
    },
    {
     "name": "stdin",
     "output_type": "stream",
     "text": [
      " exit\n"
     ]
    },
    {
     "ename": "SystemExit",
     "evalue": "",
     "output_type": "error",
     "traceback": [
      "An exception has occurred, use %tb to see the full traceback.\n",
      "\u001b[0;31mSystemExit\u001b[0m\n"
     ]
    },
    {
     "name": "stderr",
     "output_type": "stream",
     "text": [
      "/home/jhembe/anaconda3/lib/python3.10/site-packages/IPython/core/interactiveshell.py:3468: UserWarning: To exit: use 'exit', 'quit', or Ctrl-D.\n",
      "  warn(\"To exit: use 'exit', 'quit', or Ctrl-D.\", stacklevel=1)\n"
     ]
    }
   ],
   "source": [
    "import sys\n",
    "while True:\n",
    "    print('Type exit to exit.')\n",
    "    response = input()\n",
    "    if response == 'exit':\n",
    "        sys.exit()\n",
    "print('You typed ' + response + '.')"
   ]
  },
  {
   "cell_type": "code",
   "execution_count": null,
   "id": "7bdb3a01-bd6c-4a50-bd0c-15e10e67ed5a",
   "metadata": {},
   "outputs": [],
   "source": []
  },
  {
   "cell_type": "code",
   "execution_count": null,
   "id": "a46ecd9f-cb92-468e-8ab6-fb4bb387bb82",
   "metadata": {},
   "outputs": [],
   "source": []
  },
  {
   "cell_type": "code",
   "execution_count": null,
   "id": "82e3116a-e3a6-4b95-89e4-d3f60fadfa84",
   "metadata": {},
   "outputs": [],
   "source": []
  },
  {
   "cell_type": "markdown",
   "id": "2589a6ac-d1e6-4ef3-866b-2eeff4de06f5",
   "metadata": {},
   "source": [
    "# **Functions**"
   ]
  },
  {
   "cell_type": "code",
   "execution_count": 3,
   "id": "9b79e69f-0b32-4729-bc0e-4d464ce700b5",
   "metadata": {},
   "outputs": [],
   "source": [
    "def hello():\n",
    "    print(\"Howdy\");\n",
    "    print(\"Howdy\");\n",
    "    print(\"Hello there\");"
   ]
  },
  {
   "cell_type": "code",
   "execution_count": 4,
   "id": "8d1fc505-169b-4355-8785-69d44391fbcc",
   "metadata": {},
   "outputs": [],
   "source": [
    "# // calling the functions"
   ]
  },
  {
   "cell_type": "code",
   "execution_count": 5,
   "id": "0385366e-f460-42dd-9305-71d968427c23",
   "metadata": {},
   "outputs": [
    {
     "name": "stdout",
     "output_type": "stream",
     "text": [
      "Howdy\n",
      "Howdy\n",
      "Hello there\n",
      "Howdy\n",
      "Howdy\n",
      "Hello there\n",
      "Howdy\n",
      "Howdy\n",
      "Hello there\n"
     ]
    }
   ],
   "source": [
    "hello();\n",
    "hello();\n",
    "hello();  # called the function hello 3 times"
   ]
  },
  {
   "cell_type": "markdown",
   "id": "dfe61594-6187-404b-b756-09762b54dc11",
   "metadata": {},
   "source": [
    "## **def Statements with Parameters**"
   ]
  },
  {
   "cell_type": "code",
   "execution_count": 6,
   "id": "e3ea20ca-e5b7-41bf-a81b-61a9b6e1d9a0",
   "metadata": {},
   "outputs": [],
   "source": [
    "def hello(name):\n",
    "    print(\"Hello \"+name);"
   ]
  },
  {
   "cell_type": "code",
   "execution_count": 8,
   "id": "5465f463-d885-495e-b53d-0c4d5b13c6c2",
   "metadata": {},
   "outputs": [
    {
     "name": "stdout",
     "output_type": "stream",
     "text": [
      "Hello Joseph\n"
     ]
    }
   ],
   "source": [
    "hello(\"Joseph\");"
   ]
  },
  {
   "cell_type": "code",
   "execution_count": null,
   "id": "5ec1d723-7f50-4e3a-89bc-a702ea04ce7d",
   "metadata": {},
   "outputs": [],
   "source": []
  },
  {
   "cell_type": "code",
   "execution_count": 11,
   "id": "2ccb3c2e-0bed-4919-9727-db835a531df5",
   "metadata": {},
   "outputs": [],
   "source": [
    "def add(num1,num2):\n",
    "    return num1+num2;"
   ]
  },
  {
   "cell_type": "code",
   "execution_count": 12,
   "id": "440bee21-71b8-4421-b7b7-c85bfb3bf24d",
   "metadata": {},
   "outputs": [
    {
     "data": {
      "text/plain": [
       "9"
      ]
     },
     "execution_count": 12,
     "metadata": {},
     "output_type": "execute_result"
    }
   ],
   "source": [
    "add(4,5)"
   ]
  },
  {
   "cell_type": "code",
   "execution_count": null,
   "id": "f6c29994-6a1b-49ae-9175-3980aeacbb65",
   "metadata": {},
   "outputs": [],
   "source": [
    "# you should actually, in most cases, store the value of the function in the variable"
   ]
  },
  {
   "cell_type": "code",
   "execution_count": 13,
   "id": "c06c98fb-685b-461e-891c-119b98eb8c17",
   "metadata": {},
   "outputs": [],
   "source": [
    "result = add(4,6);"
   ]
  },
  {
   "cell_type": "code",
   "execution_count": 14,
   "id": "bf8ce582-fe1f-4c1d-9964-434a733503e5",
   "metadata": {},
   "outputs": [
    {
     "data": {
      "text/plain": [
       "10"
      ]
     },
     "execution_count": 14,
     "metadata": {},
     "output_type": "execute_result"
    }
   ],
   "source": [
    "result"
   ]
  },
  {
   "cell_type": "markdown",
   "id": "c0eb2c2d-91ab-4c2c-a421-2477f2e5ffd9",
   "metadata": {},
   "source": [
    "#### For example, the following program defines a function that returns a different string depending on what number it is passed as an argument."
   ]
  },
  {
   "cell_type": "code",
   "execution_count": null,
   "id": "b1358cf6-0707-4f87-8663-3ee417efd0de",
   "metadata": {},
   "outputs": [],
   "source": [
    "def get_answer(answer_number):\n",
    "    if answer_number == 1:\n",
    "        return 'It is certain';\n",
    "    if answer_number == 2:\n",
    "        return 'It is decidedly so';\n",
    "    if answer_number == 3:\n",
    "        return 'Yes';\n",
    "    if answer_number == 4:\n",
    "        return 'Reply Hazy, try again"
   ]
  }
 ],
 "metadata": {
  "kernelspec": {
   "display_name": "Python 3 (ipykernel)",
   "language": "python",
   "name": "python3"
  },
  "language_info": {
   "codemirror_mode": {
    "name": "ipython",
    "version": 3
   },
   "file_extension": ".py",
   "mimetype": "text/x-python",
   "name": "python",
   "nbconvert_exporter": "python",
   "pygments_lexer": "ipython3",
   "version": "3.10.9"
  }
 },
 "nbformat": 4,
 "nbformat_minor": 5
}
